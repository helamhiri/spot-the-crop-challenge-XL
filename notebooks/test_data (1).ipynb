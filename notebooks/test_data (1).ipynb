{
  "nbformat": 4,
  "nbformat_minor": 0,
  "metadata": {
    "accelerator": "GPU",
    "colab": {
      "name": "test_data.ipynb",
      "provenance": [],
      "collapsed_sections": [
        "qK9TYE9RXjPs",
        "lj5H5pgRjdKV",
        "y3KA3sA_wmsa"
      ],
      "machine_shape": "hm"
    },
    "kernelspec": {
      "display_name": "Python 3",
      "name": "python3"
    },
    "widgets": {
      "application/vnd.jupyter.widget-state+json": {
        "ea9f924ae3a44a3da6d4c326b5bf0a9a": {
          "model_module": "@jupyter-widgets/controls",
          "model_name": "HBoxModel",
          "model_module_version": "1.5.0",
          "state": {
            "_view_name": "HBoxView",
            "_dom_classes": [],
            "_model_name": "HBoxModel",
            "_view_module": "@jupyter-widgets/controls",
            "_model_module_version": "1.5.0",
            "_view_count": null,
            "_view_module_version": "1.5.0",
            "box_style": "",
            "layout": "IPY_MODEL_99c260e806b6438a87b1125ae56ceb62",
            "_model_module": "@jupyter-widgets/controls",
            "children": [
              "IPY_MODEL_9d2bf23652004c15ab593499cacf3c94",
              "IPY_MODEL_e094d152b8c040e6bb2a9f658b060634",
              "IPY_MODEL_f687c0ab224c4eb5b97ad4f97ceca883"
            ]
          }
        },
        "99c260e806b6438a87b1125ae56ceb62": {
          "model_module": "@jupyter-widgets/base",
          "model_name": "LayoutModel",
          "model_module_version": "1.2.0",
          "state": {
            "_view_name": "LayoutView",
            "grid_template_rows": null,
            "right": null,
            "justify_content": null,
            "_view_module": "@jupyter-widgets/base",
            "overflow": null,
            "_model_module_version": "1.2.0",
            "_view_count": null,
            "flex_flow": null,
            "width": null,
            "min_width": null,
            "border": null,
            "align_items": null,
            "bottom": null,
            "_model_module": "@jupyter-widgets/base",
            "top": null,
            "grid_column": null,
            "overflow_y": null,
            "overflow_x": null,
            "grid_auto_flow": null,
            "grid_area": null,
            "grid_template_columns": null,
            "flex": null,
            "_model_name": "LayoutModel",
            "justify_items": null,
            "grid_row": null,
            "max_height": null,
            "align_content": null,
            "visibility": null,
            "align_self": null,
            "height": null,
            "min_height": null,
            "padding": null,
            "grid_auto_rows": null,
            "grid_gap": null,
            "max_width": null,
            "order": null,
            "_view_module_version": "1.2.0",
            "grid_template_areas": null,
            "object_position": null,
            "object_fit": null,
            "grid_auto_columns": null,
            "margin": null,
            "display": null,
            "left": null
          }
        },
        "9d2bf23652004c15ab593499cacf3c94": {
          "model_module": "@jupyter-widgets/controls",
          "model_name": "HTMLModel",
          "model_module_version": "1.5.0",
          "state": {
            "_view_name": "HTMLView",
            "style": "IPY_MODEL_b8abe96f1cc840559eee94303cac7e8c",
            "_dom_classes": [],
            "description": "",
            "_model_name": "HTMLModel",
            "placeholder": "​",
            "_view_module": "@jupyter-widgets/controls",
            "_model_module_version": "1.5.0",
            "value": "",
            "_view_count": null,
            "_view_module_version": "1.5.0",
            "description_tooltip": null,
            "_model_module": "@jupyter-widgets/controls",
            "layout": "IPY_MODEL_cbc8d31af33546ff913ad962d5998530"
          }
        },
        "e094d152b8c040e6bb2a9f658b060634": {
          "model_module": "@jupyter-widgets/controls",
          "model_name": "FloatProgressModel",
          "model_module_version": "1.5.0",
          "state": {
            "_view_name": "ProgressView",
            "style": "IPY_MODEL_c072327180be40d2a570048fdf22d3ef",
            "_dom_classes": [],
            "description": "",
            "_model_name": "FloatProgressModel",
            "bar_style": "success",
            "max": 10.9,
            "_view_module": "@jupyter-widgets/controls",
            "_model_module_version": "1.5.0",
            "value": 10.9,
            "_view_count": null,
            "_view_module_version": "1.5.0",
            "orientation": "horizontal",
            "min": 0,
            "description_tooltip": null,
            "_model_module": "@jupyter-widgets/controls",
            "layout": "IPY_MODEL_b0bec167072b4e5abbff18a2a9e4161b"
          }
        },
        "f687c0ab224c4eb5b97ad4f97ceca883": {
          "model_module": "@jupyter-widgets/controls",
          "model_name": "HTMLModel",
          "model_module_version": "1.5.0",
          "state": {
            "_view_name": "HTMLView",
            "style": "IPY_MODEL_7c610cca900047d8a98c58a0ae85e0bc",
            "_dom_classes": [],
            "description": "",
            "_model_name": "HTMLModel",
            "placeholder": "​",
            "_view_module": "@jupyter-widgets/controls",
            "_model_module_version": "1.5.0",
            "value": " 15.0/? [00:00&lt;00:00, 22.07M/s]",
            "_view_count": null,
            "_view_module_version": "1.5.0",
            "description_tooltip": null,
            "_model_module": "@jupyter-widgets/controls",
            "layout": "IPY_MODEL_e796e1fcb1af4fa7be0ba32d6666d234"
          }
        },
        "b8abe96f1cc840559eee94303cac7e8c": {
          "model_module": "@jupyter-widgets/controls",
          "model_name": "DescriptionStyleModel",
          "model_module_version": "1.5.0",
          "state": {
            "_view_name": "StyleView",
            "_model_name": "DescriptionStyleModel",
            "description_width": "",
            "_view_module": "@jupyter-widgets/base",
            "_model_module_version": "1.5.0",
            "_view_count": null,
            "_view_module_version": "1.2.0",
            "_model_module": "@jupyter-widgets/controls"
          }
        },
        "cbc8d31af33546ff913ad962d5998530": {
          "model_module": "@jupyter-widgets/base",
          "model_name": "LayoutModel",
          "model_module_version": "1.2.0",
          "state": {
            "_view_name": "LayoutView",
            "grid_template_rows": null,
            "right": null,
            "justify_content": null,
            "_view_module": "@jupyter-widgets/base",
            "overflow": null,
            "_model_module_version": "1.2.0",
            "_view_count": null,
            "flex_flow": null,
            "width": null,
            "min_width": null,
            "border": null,
            "align_items": null,
            "bottom": null,
            "_model_module": "@jupyter-widgets/base",
            "top": null,
            "grid_column": null,
            "overflow_y": null,
            "overflow_x": null,
            "grid_auto_flow": null,
            "grid_area": null,
            "grid_template_columns": null,
            "flex": null,
            "_model_name": "LayoutModel",
            "justify_items": null,
            "grid_row": null,
            "max_height": null,
            "align_content": null,
            "visibility": null,
            "align_self": null,
            "height": null,
            "min_height": null,
            "padding": null,
            "grid_auto_rows": null,
            "grid_gap": null,
            "max_width": null,
            "order": null,
            "_view_module_version": "1.2.0",
            "grid_template_areas": null,
            "object_position": null,
            "object_fit": null,
            "grid_auto_columns": null,
            "margin": null,
            "display": null,
            "left": null
          }
        },
        "c072327180be40d2a570048fdf22d3ef": {
          "model_module": "@jupyter-widgets/controls",
          "model_name": "ProgressStyleModel",
          "model_module_version": "1.5.0",
          "state": {
            "_view_name": "StyleView",
            "_model_name": "ProgressStyleModel",
            "description_width": "",
            "_view_module": "@jupyter-widgets/base",
            "_model_module_version": "1.5.0",
            "_view_count": null,
            "_view_module_version": "1.2.0",
            "bar_color": null,
            "_model_module": "@jupyter-widgets/controls"
          }
        },
        "b0bec167072b4e5abbff18a2a9e4161b": {
          "model_module": "@jupyter-widgets/base",
          "model_name": "LayoutModel",
          "model_module_version": "1.2.0",
          "state": {
            "_view_name": "LayoutView",
            "grid_template_rows": null,
            "right": null,
            "justify_content": null,
            "_view_module": "@jupyter-widgets/base",
            "overflow": null,
            "_model_module_version": "1.2.0",
            "_view_count": null,
            "flex_flow": null,
            "width": null,
            "min_width": null,
            "border": null,
            "align_items": null,
            "bottom": null,
            "_model_module": "@jupyter-widgets/base",
            "top": null,
            "grid_column": null,
            "overflow_y": null,
            "overflow_x": null,
            "grid_auto_flow": null,
            "grid_area": null,
            "grid_template_columns": null,
            "flex": null,
            "_model_name": "LayoutModel",
            "justify_items": null,
            "grid_row": null,
            "max_height": null,
            "align_content": null,
            "visibility": null,
            "align_self": null,
            "height": null,
            "min_height": null,
            "padding": null,
            "grid_auto_rows": null,
            "grid_gap": null,
            "max_width": null,
            "order": null,
            "_view_module_version": "1.2.0",
            "grid_template_areas": null,
            "object_position": null,
            "object_fit": null,
            "grid_auto_columns": null,
            "margin": null,
            "display": null,
            "left": null
          }
        },
        "7c610cca900047d8a98c58a0ae85e0bc": {
          "model_module": "@jupyter-widgets/controls",
          "model_name": "DescriptionStyleModel",
          "model_module_version": "1.5.0",
          "state": {
            "_view_name": "StyleView",
            "_model_name": "DescriptionStyleModel",
            "description_width": "",
            "_view_module": "@jupyter-widgets/base",
            "_model_module_version": "1.5.0",
            "_view_count": null,
            "_view_module_version": "1.2.0",
            "_model_module": "@jupyter-widgets/controls"
          }
        },
        "e796e1fcb1af4fa7be0ba32d6666d234": {
          "model_module": "@jupyter-widgets/base",
          "model_name": "LayoutModel",
          "model_module_version": "1.2.0",
          "state": {
            "_view_name": "LayoutView",
            "grid_template_rows": null,
            "right": null,
            "justify_content": null,
            "_view_module": "@jupyter-widgets/base",
            "overflow": null,
            "_model_module_version": "1.2.0",
            "_view_count": null,
            "flex_flow": null,
            "width": null,
            "min_width": null,
            "border": null,
            "align_items": null,
            "bottom": null,
            "_model_module": "@jupyter-widgets/base",
            "top": null,
            "grid_column": null,
            "overflow_y": null,
            "overflow_x": null,
            "grid_auto_flow": null,
            "grid_area": null,
            "grid_template_columns": null,
            "flex": null,
            "_model_name": "LayoutModel",
            "justify_items": null,
            "grid_row": null,
            "max_height": null,
            "align_content": null,
            "visibility": null,
            "align_self": null,
            "height": null,
            "min_height": null,
            "padding": null,
            "grid_auto_rows": null,
            "grid_gap": null,
            "max_width": null,
            "order": null,
            "_view_module_version": "1.2.0",
            "grid_template_areas": null,
            "object_position": null,
            "object_fit": null,
            "grid_auto_columns": null,
            "margin": null,
            "display": null,
            "left": null
          }
        },
        "3c4aa0e7d6fa42dbac6b932e2ec742a0": {
          "model_module": "@jupyter-widgets/controls",
          "model_name": "HBoxModel",
          "model_module_version": "1.5.0",
          "state": {
            "_view_name": "HBoxView",
            "_dom_classes": [],
            "_model_name": "HBoxModel",
            "_view_module": "@jupyter-widgets/controls",
            "_model_module_version": "1.5.0",
            "_view_count": null,
            "_view_module_version": "1.5.0",
            "box_style": "",
            "layout": "IPY_MODEL_a9f9acf437c04b1da3d5acb5c3b2aa85",
            "_model_module": "@jupyter-widgets/controls",
            "children": [
              "IPY_MODEL_9b94afea97614686a579130a982b97ae",
              "IPY_MODEL_3160ec739be94745b8145b54661faab6",
              "IPY_MODEL_b0801a958797464aa172238f400e8e73"
            ]
          }
        },
        "a9f9acf437c04b1da3d5acb5c3b2aa85": {
          "model_module": "@jupyter-widgets/base",
          "model_name": "LayoutModel",
          "model_module_version": "1.2.0",
          "state": {
            "_view_name": "LayoutView",
            "grid_template_rows": null,
            "right": null,
            "justify_content": null,
            "_view_module": "@jupyter-widgets/base",
            "overflow": null,
            "_model_module_version": "1.2.0",
            "_view_count": null,
            "flex_flow": null,
            "width": null,
            "min_width": null,
            "border": null,
            "align_items": null,
            "bottom": null,
            "_model_module": "@jupyter-widgets/base",
            "top": null,
            "grid_column": null,
            "overflow_y": null,
            "overflow_x": null,
            "grid_auto_flow": null,
            "grid_area": null,
            "grid_template_columns": null,
            "flex": null,
            "_model_name": "LayoutModel",
            "justify_items": null,
            "grid_row": null,
            "max_height": null,
            "align_content": null,
            "visibility": null,
            "align_self": null,
            "height": null,
            "min_height": null,
            "padding": null,
            "grid_auto_rows": null,
            "grid_gap": null,
            "max_width": null,
            "order": null,
            "_view_module_version": "1.2.0",
            "grid_template_areas": null,
            "object_position": null,
            "object_fit": null,
            "grid_auto_columns": null,
            "margin": null,
            "display": null,
            "left": null
          }
        },
        "9b94afea97614686a579130a982b97ae": {
          "model_module": "@jupyter-widgets/controls",
          "model_name": "HTMLModel",
          "model_module_version": "1.5.0",
          "state": {
            "_view_name": "HTMLView",
            "style": "IPY_MODEL_21bd7306db364d4a931bf65c1da7bed2",
            "_dom_classes": [],
            "description": "",
            "_model_name": "HTMLModel",
            "placeholder": "​",
            "_view_module": "@jupyter-widgets/controls",
            "_model_module_version": "1.5.0",
            "value": "",
            "_view_count": null,
            "_view_module_version": "1.5.0",
            "description_tooltip": null,
            "_model_module": "@jupyter-widgets/controls",
            "layout": "IPY_MODEL_3629155f9b624cdba08222de523c6105"
          }
        },
        "3160ec739be94745b8145b54661faab6": {
          "model_module": "@jupyter-widgets/controls",
          "model_name": "FloatProgressModel",
          "model_module_version": "1.5.0",
          "state": {
            "_view_name": "ProgressView",
            "style": "IPY_MODEL_8b63839535384119bddac75396702bb6",
            "_dom_classes": [],
            "description": "",
            "_model_name": "FloatProgressModel",
            "bar_style": "success",
            "max": 713.1,
            "_view_module": "@jupyter-widgets/controls",
            "_model_module_version": "1.5.0",
            "value": 713.1,
            "_view_count": null,
            "_view_module_version": "1.5.0",
            "orientation": "horizontal",
            "min": 0,
            "description_tooltip": null,
            "_model_module": "@jupyter-widgets/controls",
            "layout": "IPY_MODEL_977a8850b4854e8aa34dd74d4b4c64aa"
          }
        },
        "b0801a958797464aa172238f400e8e73": {
          "model_module": "@jupyter-widgets/controls",
          "model_name": "HTMLModel",
          "model_module_version": "1.5.0",
          "state": {
            "_view_name": "HTMLView",
            "style": "IPY_MODEL_5b18e9e91d1f4e959b9577adafe84fb6",
            "_dom_classes": [],
            "description": "",
            "_model_name": "HTMLModel",
            "placeholder": "​",
            "_view_module": "@jupyter-widgets/controls",
            "_model_module_version": "1.5.0",
            "value": " 715.0/? [00:06&lt;00:00, 128.41M/s]",
            "_view_count": null,
            "_view_module_version": "1.5.0",
            "description_tooltip": null,
            "_model_module": "@jupyter-widgets/controls",
            "layout": "IPY_MODEL_93f5037e090c4de3b42db827420b82c5"
          }
        },
        "21bd7306db364d4a931bf65c1da7bed2": {
          "model_module": "@jupyter-widgets/controls",
          "model_name": "DescriptionStyleModel",
          "model_module_version": "1.5.0",
          "state": {
            "_view_name": "StyleView",
            "_model_name": "DescriptionStyleModel",
            "description_width": "",
            "_view_module": "@jupyter-widgets/base",
            "_model_module_version": "1.5.0",
            "_view_count": null,
            "_view_module_version": "1.2.0",
            "_model_module": "@jupyter-widgets/controls"
          }
        },
        "3629155f9b624cdba08222de523c6105": {
          "model_module": "@jupyter-widgets/base",
          "model_name": "LayoutModel",
          "model_module_version": "1.2.0",
          "state": {
            "_view_name": "LayoutView",
            "grid_template_rows": null,
            "right": null,
            "justify_content": null,
            "_view_module": "@jupyter-widgets/base",
            "overflow": null,
            "_model_module_version": "1.2.0",
            "_view_count": null,
            "flex_flow": null,
            "width": null,
            "min_width": null,
            "border": null,
            "align_items": null,
            "bottom": null,
            "_model_module": "@jupyter-widgets/base",
            "top": null,
            "grid_column": null,
            "overflow_y": null,
            "overflow_x": null,
            "grid_auto_flow": null,
            "grid_area": null,
            "grid_template_columns": null,
            "flex": null,
            "_model_name": "LayoutModel",
            "justify_items": null,
            "grid_row": null,
            "max_height": null,
            "align_content": null,
            "visibility": null,
            "align_self": null,
            "height": null,
            "min_height": null,
            "padding": null,
            "grid_auto_rows": null,
            "grid_gap": null,
            "max_width": null,
            "order": null,
            "_view_module_version": "1.2.0",
            "grid_template_areas": null,
            "object_position": null,
            "object_fit": null,
            "grid_auto_columns": null,
            "margin": null,
            "display": null,
            "left": null
          }
        },
        "8b63839535384119bddac75396702bb6": {
          "model_module": "@jupyter-widgets/controls",
          "model_name": "ProgressStyleModel",
          "model_module_version": "1.5.0",
          "state": {
            "_view_name": "StyleView",
            "_model_name": "ProgressStyleModel",
            "description_width": "",
            "_view_module": "@jupyter-widgets/base",
            "_model_module_version": "1.5.0",
            "_view_count": null,
            "_view_module_version": "1.2.0",
            "bar_color": null,
            "_model_module": "@jupyter-widgets/controls"
          }
        },
        "977a8850b4854e8aa34dd74d4b4c64aa": {
          "model_module": "@jupyter-widgets/base",
          "model_name": "LayoutModel",
          "model_module_version": "1.2.0",
          "state": {
            "_view_name": "LayoutView",
            "grid_template_rows": null,
            "right": null,
            "justify_content": null,
            "_view_module": "@jupyter-widgets/base",
            "overflow": null,
            "_model_module_version": "1.2.0",
            "_view_count": null,
            "flex_flow": null,
            "width": null,
            "min_width": null,
            "border": null,
            "align_items": null,
            "bottom": null,
            "_model_module": "@jupyter-widgets/base",
            "top": null,
            "grid_column": null,
            "overflow_y": null,
            "overflow_x": null,
            "grid_auto_flow": null,
            "grid_area": null,
            "grid_template_columns": null,
            "flex": null,
            "_model_name": "LayoutModel",
            "justify_items": null,
            "grid_row": null,
            "max_height": null,
            "align_content": null,
            "visibility": null,
            "align_self": null,
            "height": null,
            "min_height": null,
            "padding": null,
            "grid_auto_rows": null,
            "grid_gap": null,
            "max_width": null,
            "order": null,
            "_view_module_version": "1.2.0",
            "grid_template_areas": null,
            "object_position": null,
            "object_fit": null,
            "grid_auto_columns": null,
            "margin": null,
            "display": null,
            "left": null
          }
        },
        "5b18e9e91d1f4e959b9577adafe84fb6": {
          "model_module": "@jupyter-widgets/controls",
          "model_name": "DescriptionStyleModel",
          "model_module_version": "1.5.0",
          "state": {
            "_view_name": "StyleView",
            "_model_name": "DescriptionStyleModel",
            "description_width": "",
            "_view_module": "@jupyter-widgets/base",
            "_model_module_version": "1.5.0",
            "_view_count": null,
            "_view_module_version": "1.2.0",
            "_model_module": "@jupyter-widgets/controls"
          }
        },
        "93f5037e090c4de3b42db827420b82c5": {
          "model_module": "@jupyter-widgets/base",
          "model_name": "LayoutModel",
          "model_module_version": "1.2.0",
          "state": {
            "_view_name": "LayoutView",
            "grid_template_rows": null,
            "right": null,
            "justify_content": null,
            "_view_module": "@jupyter-widgets/base",
            "overflow": null,
            "_model_module_version": "1.2.0",
            "_view_count": null,
            "flex_flow": null,
            "width": null,
            "min_width": null,
            "border": null,
            "align_items": null,
            "bottom": null,
            "_model_module": "@jupyter-widgets/base",
            "top": null,
            "grid_column": null,
            "overflow_y": null,
            "overflow_x": null,
            "grid_auto_flow": null,
            "grid_area": null,
            "grid_template_columns": null,
            "flex": null,
            "_model_name": "LayoutModel",
            "justify_items": null,
            "grid_row": null,
            "max_height": null,
            "align_content": null,
            "visibility": null,
            "align_self": null,
            "height": null,
            "min_height": null,
            "padding": null,
            "grid_auto_rows": null,
            "grid_gap": null,
            "max_width": null,
            "order": null,
            "_view_module_version": "1.2.0",
            "grid_template_areas": null,
            "object_position": null,
            "object_fit": null,
            "grid_auto_columns": null,
            "margin": null,
            "display": null,
            "left": null
          }
        },
        "8e6fe0d77c8a44bdb42d5c96981c2ff3": {
          "model_module": "@jupyter-widgets/controls",
          "model_name": "HBoxModel",
          "model_module_version": "1.5.0",
          "state": {
            "_view_name": "HBoxView",
            "_dom_classes": [],
            "_model_name": "HBoxModel",
            "_view_module": "@jupyter-widgets/controls",
            "_model_module_version": "1.5.0",
            "_view_count": null,
            "_view_module_version": "1.5.0",
            "box_style": "",
            "layout": "IPY_MODEL_d577aacc8fc646ff93505f7cec08e5db",
            "_model_module": "@jupyter-widgets/controls",
            "children": [
              "IPY_MODEL_a2f1a7fd98294225a4867fcbdc39fa82",
              "IPY_MODEL_1eacd56e0ea64b8c9e28e8a761319231",
              "IPY_MODEL_699929872619465185d4c84c96262460"
            ]
          }
        },
        "d577aacc8fc646ff93505f7cec08e5db": {
          "model_module": "@jupyter-widgets/base",
          "model_name": "LayoutModel",
          "model_module_version": "1.2.0",
          "state": {
            "_view_name": "LayoutView",
            "grid_template_rows": null,
            "right": null,
            "justify_content": null,
            "_view_module": "@jupyter-widgets/base",
            "overflow": null,
            "_model_module_version": "1.2.0",
            "_view_count": null,
            "flex_flow": null,
            "width": null,
            "min_width": null,
            "border": null,
            "align_items": null,
            "bottom": null,
            "_model_module": "@jupyter-widgets/base",
            "top": null,
            "grid_column": null,
            "overflow_y": null,
            "overflow_x": null,
            "grid_auto_flow": null,
            "grid_area": null,
            "grid_template_columns": null,
            "flex": null,
            "_model_name": "LayoutModel",
            "justify_items": null,
            "grid_row": null,
            "max_height": null,
            "align_content": null,
            "visibility": null,
            "align_self": null,
            "height": null,
            "min_height": null,
            "padding": null,
            "grid_auto_rows": null,
            "grid_gap": null,
            "max_width": null,
            "order": null,
            "_view_module_version": "1.2.0",
            "grid_template_areas": null,
            "object_position": null,
            "object_fit": null,
            "grid_auto_columns": null,
            "margin": null,
            "display": null,
            "left": null
          }
        },
        "a2f1a7fd98294225a4867fcbdc39fa82": {
          "model_module": "@jupyter-widgets/controls",
          "model_name": "HTMLModel",
          "model_module_version": "1.5.0",
          "state": {
            "_view_name": "HTMLView",
            "style": "IPY_MODEL_eaf40d2132cb4f8aad01dc1f158e2a42",
            "_dom_classes": [],
            "description": "",
            "_model_name": "HTMLModel",
            "placeholder": "​",
            "_view_module": "@jupyter-widgets/controls",
            "_model_module_version": "1.5.0",
            "value": "",
            "_view_count": null,
            "_view_module_version": "1.5.0",
            "description_tooltip": null,
            "_model_module": "@jupyter-widgets/controls",
            "layout": "IPY_MODEL_65010824219449e09be83450f637337c"
          }
        },
        "1eacd56e0ea64b8c9e28e8a761319231": {
          "model_module": "@jupyter-widgets/controls",
          "model_name": "FloatProgressModel",
          "model_module_version": "1.5.0",
          "state": {
            "_view_name": "ProgressView",
            "style": "IPY_MODEL_edfcaba8e4924fcb913dc8862ca439e0",
            "_dom_classes": [],
            "description": "",
            "_model_name": "FloatProgressModel",
            "bar_style": "success",
            "max": 2226.4,
            "_view_module": "@jupyter-widgets/controls",
            "_model_module_version": "1.5.0",
            "value": 2226.4,
            "_view_count": null,
            "_view_module_version": "1.5.0",
            "orientation": "horizontal",
            "min": 0,
            "description_tooltip": null,
            "_model_module": "@jupyter-widgets/controls",
            "layout": "IPY_MODEL_0fe42c7cc7c94de9b9f8fee077467c51"
          }
        },
        "699929872619465185d4c84c96262460": {
          "model_module": "@jupyter-widgets/controls",
          "model_name": "HTMLModel",
          "model_module_version": "1.5.0",
          "state": {
            "_view_name": "HTMLView",
            "style": "IPY_MODEL_d54a13b4689a438196bf4d0c8ea6981c",
            "_dom_classes": [],
            "description": "",
            "_model_name": "HTMLModel",
            "placeholder": "​",
            "_view_module": "@jupyter-widgets/controls",
            "_model_module_version": "1.5.0",
            "value": " 2230.0/? [00:19&lt;00:00, 190.56M/s]",
            "_view_count": null,
            "_view_module_version": "1.5.0",
            "description_tooltip": null,
            "_model_module": "@jupyter-widgets/controls",
            "layout": "IPY_MODEL_73b8f800226f40e184583a67d97195b0"
          }
        },
        "eaf40d2132cb4f8aad01dc1f158e2a42": {
          "model_module": "@jupyter-widgets/controls",
          "model_name": "DescriptionStyleModel",
          "model_module_version": "1.5.0",
          "state": {
            "_view_name": "StyleView",
            "_model_name": "DescriptionStyleModel",
            "description_width": "",
            "_view_module": "@jupyter-widgets/base",
            "_model_module_version": "1.5.0",
            "_view_count": null,
            "_view_module_version": "1.2.0",
            "_model_module": "@jupyter-widgets/controls"
          }
        },
        "65010824219449e09be83450f637337c": {
          "model_module": "@jupyter-widgets/base",
          "model_name": "LayoutModel",
          "model_module_version": "1.2.0",
          "state": {
            "_view_name": "LayoutView",
            "grid_template_rows": null,
            "right": null,
            "justify_content": null,
            "_view_module": "@jupyter-widgets/base",
            "overflow": null,
            "_model_module_version": "1.2.0",
            "_view_count": null,
            "flex_flow": null,
            "width": null,
            "min_width": null,
            "border": null,
            "align_items": null,
            "bottom": null,
            "_model_module": "@jupyter-widgets/base",
            "top": null,
            "grid_column": null,
            "overflow_y": null,
            "overflow_x": null,
            "grid_auto_flow": null,
            "grid_area": null,
            "grid_template_columns": null,
            "flex": null,
            "_model_name": "LayoutModel",
            "justify_items": null,
            "grid_row": null,
            "max_height": null,
            "align_content": null,
            "visibility": null,
            "align_self": null,
            "height": null,
            "min_height": null,
            "padding": null,
            "grid_auto_rows": null,
            "grid_gap": null,
            "max_width": null,
            "order": null,
            "_view_module_version": "1.2.0",
            "grid_template_areas": null,
            "object_position": null,
            "object_fit": null,
            "grid_auto_columns": null,
            "margin": null,
            "display": null,
            "left": null
          }
        },
        "edfcaba8e4924fcb913dc8862ca439e0": {
          "model_module": "@jupyter-widgets/controls",
          "model_name": "ProgressStyleModel",
          "model_module_version": "1.5.0",
          "state": {
            "_view_name": "StyleView",
            "_model_name": "ProgressStyleModel",
            "description_width": "",
            "_view_module": "@jupyter-widgets/base",
            "_model_module_version": "1.5.0",
            "_view_count": null,
            "_view_module_version": "1.2.0",
            "bar_color": null,
            "_model_module": "@jupyter-widgets/controls"
          }
        },
        "0fe42c7cc7c94de9b9f8fee077467c51": {
          "model_module": "@jupyter-widgets/base",
          "model_name": "LayoutModel",
          "model_module_version": "1.2.0",
          "state": {
            "_view_name": "LayoutView",
            "grid_template_rows": null,
            "right": null,
            "justify_content": null,
            "_view_module": "@jupyter-widgets/base",
            "overflow": null,
            "_model_module_version": "1.2.0",
            "_view_count": null,
            "flex_flow": null,
            "width": null,
            "min_width": null,
            "border": null,
            "align_items": null,
            "bottom": null,
            "_model_module": "@jupyter-widgets/base",
            "top": null,
            "grid_column": null,
            "overflow_y": null,
            "overflow_x": null,
            "grid_auto_flow": null,
            "grid_area": null,
            "grid_template_columns": null,
            "flex": null,
            "_model_name": "LayoutModel",
            "justify_items": null,
            "grid_row": null,
            "max_height": null,
            "align_content": null,
            "visibility": null,
            "align_self": null,
            "height": null,
            "min_height": null,
            "padding": null,
            "grid_auto_rows": null,
            "grid_gap": null,
            "max_width": null,
            "order": null,
            "_view_module_version": "1.2.0",
            "grid_template_areas": null,
            "object_position": null,
            "object_fit": null,
            "grid_auto_columns": null,
            "margin": null,
            "display": null,
            "left": null
          }
        },
        "d54a13b4689a438196bf4d0c8ea6981c": {
          "model_module": "@jupyter-widgets/controls",
          "model_name": "DescriptionStyleModel",
          "model_module_version": "1.5.0",
          "state": {
            "_view_name": "StyleView",
            "_model_name": "DescriptionStyleModel",
            "description_width": "",
            "_view_module": "@jupyter-widgets/base",
            "_model_module_version": "1.5.0",
            "_view_count": null,
            "_view_module_version": "1.2.0",
            "_model_module": "@jupyter-widgets/controls"
          }
        },
        "73b8f800226f40e184583a67d97195b0": {
          "model_module": "@jupyter-widgets/base",
          "model_name": "LayoutModel",
          "model_module_version": "1.2.0",
          "state": {
            "_view_name": "LayoutView",
            "grid_template_rows": null,
            "right": null,
            "justify_content": null,
            "_view_module": "@jupyter-widgets/base",
            "overflow": null,
            "_model_module_version": "1.2.0",
            "_view_count": null,
            "flex_flow": null,
            "width": null,
            "min_width": null,
            "border": null,
            "align_items": null,
            "bottom": null,
            "_model_module": "@jupyter-widgets/base",
            "top": null,
            "grid_column": null,
            "overflow_y": null,
            "overflow_x": null,
            "grid_auto_flow": null,
            "grid_area": null,
            "grid_template_columns": null,
            "flex": null,
            "_model_name": "LayoutModel",
            "justify_items": null,
            "grid_row": null,
            "max_height": null,
            "align_content": null,
            "visibility": null,
            "align_self": null,
            "height": null,
            "min_height": null,
            "padding": null,
            "grid_auto_rows": null,
            "grid_gap": null,
            "max_width": null,
            "order": null,
            "_view_module_version": "1.2.0",
            "grid_template_areas": null,
            "object_position": null,
            "object_fit": null,
            "grid_auto_columns": null,
            "margin": null,
            "display": null,
            "left": null
          }
        },
        "25de29c21f9a4d30b2143c01125c7a0d": {
          "model_module": "@jupyter-widgets/controls",
          "model_name": "HBoxModel",
          "model_module_version": "1.5.0",
          "state": {
            "_view_name": "HBoxView",
            "_dom_classes": [],
            "_model_name": "HBoxModel",
            "_view_module": "@jupyter-widgets/controls",
            "_model_module_version": "1.5.0",
            "_view_count": null,
            "_view_module_version": "1.5.0",
            "box_style": "",
            "layout": "IPY_MODEL_73970a0ea9ad413593fe295d7a9de93e",
            "_model_module": "@jupyter-widgets/controls",
            "children": [
              "IPY_MODEL_e77981f54f58405384b9b96887fcf632",
              "IPY_MODEL_4eff6aa837cf479dbb1185099f427eb9",
              "IPY_MODEL_666acac4b8dd4bc78b85d1f830698cfb"
            ]
          }
        },
        "73970a0ea9ad413593fe295d7a9de93e": {
          "model_module": "@jupyter-widgets/base",
          "model_name": "LayoutModel",
          "model_module_version": "1.2.0",
          "state": {
            "_view_name": "LayoutView",
            "grid_template_rows": null,
            "right": null,
            "justify_content": null,
            "_view_module": "@jupyter-widgets/base",
            "overflow": null,
            "_model_module_version": "1.2.0",
            "_view_count": null,
            "flex_flow": null,
            "width": null,
            "min_width": null,
            "border": null,
            "align_items": null,
            "bottom": null,
            "_model_module": "@jupyter-widgets/base",
            "top": null,
            "grid_column": null,
            "overflow_y": null,
            "overflow_x": null,
            "grid_auto_flow": null,
            "grid_area": null,
            "grid_template_columns": null,
            "flex": null,
            "_model_name": "LayoutModel",
            "justify_items": null,
            "grid_row": null,
            "max_height": null,
            "align_content": null,
            "visibility": null,
            "align_self": null,
            "height": null,
            "min_height": null,
            "padding": null,
            "grid_auto_rows": null,
            "grid_gap": null,
            "max_width": null,
            "order": null,
            "_view_module_version": "1.2.0",
            "grid_template_areas": null,
            "object_position": null,
            "object_fit": null,
            "grid_auto_columns": null,
            "margin": null,
            "display": null,
            "left": null
          }
        },
        "e77981f54f58405384b9b96887fcf632": {
          "model_module": "@jupyter-widgets/controls",
          "model_name": "HTMLModel",
          "model_module_version": "1.5.0",
          "state": {
            "_view_name": "HTMLView",
            "style": "IPY_MODEL_136acff51941473caf7cb4f9c6d72555",
            "_dom_classes": [],
            "description": "",
            "_model_name": "HTMLModel",
            "placeholder": "​",
            "_view_module": "@jupyter-widgets/controls",
            "_model_module_version": "1.5.0",
            "value": "",
            "_view_count": null,
            "_view_module_version": "1.5.0",
            "description_tooltip": null,
            "_model_module": "@jupyter-widgets/controls",
            "layout": "IPY_MODEL_cdebf9144cbf464aa2f7610c82a30dd0"
          }
        },
        "4eff6aa837cf479dbb1185099f427eb9": {
          "model_module": "@jupyter-widgets/controls",
          "model_name": "FloatProgressModel",
          "model_module_version": "1.5.0",
          "state": {
            "_view_name": "ProgressView",
            "style": "IPY_MODEL_afd4e4a088f144259a236003c8ed19c8",
            "_dom_classes": [],
            "description": "",
            "_model_name": "FloatProgressModel",
            "bar_style": "success",
            "max": 2454.4,
            "_view_module": "@jupyter-widgets/controls",
            "_model_module_version": "1.5.0",
            "value": 2454.4,
            "_view_count": null,
            "_view_module_version": "1.5.0",
            "orientation": "horizontal",
            "min": 0,
            "description_tooltip": null,
            "_model_module": "@jupyter-widgets/controls",
            "layout": "IPY_MODEL_3c0d0b2ee76c44e7860add959cbbfbc0"
          }
        },
        "666acac4b8dd4bc78b85d1f830698cfb": {
          "model_module": "@jupyter-widgets/controls",
          "model_name": "HTMLModel",
          "model_module_version": "1.5.0",
          "state": {
            "_view_name": "HTMLView",
            "style": "IPY_MODEL_23580b6e15c94bc39238cd7c922b8f64",
            "_dom_classes": [],
            "description": "",
            "_model_name": "HTMLModel",
            "placeholder": "​",
            "_view_module": "@jupyter-widgets/controls",
            "_model_module_version": "1.5.0",
            "value": " 2455.0/? [00:22&lt;00:00, 152.73M/s]",
            "_view_count": null,
            "_view_module_version": "1.5.0",
            "description_tooltip": null,
            "_model_module": "@jupyter-widgets/controls",
            "layout": "IPY_MODEL_4784e823b7f749f38aa8d9538b274a4b"
          }
        },
        "136acff51941473caf7cb4f9c6d72555": {
          "model_module": "@jupyter-widgets/controls",
          "model_name": "DescriptionStyleModel",
          "model_module_version": "1.5.0",
          "state": {
            "_view_name": "StyleView",
            "_model_name": "DescriptionStyleModel",
            "description_width": "",
            "_view_module": "@jupyter-widgets/base",
            "_model_module_version": "1.5.0",
            "_view_count": null,
            "_view_module_version": "1.2.0",
            "_model_module": "@jupyter-widgets/controls"
          }
        },
        "cdebf9144cbf464aa2f7610c82a30dd0": {
          "model_module": "@jupyter-widgets/base",
          "model_name": "LayoutModel",
          "model_module_version": "1.2.0",
          "state": {
            "_view_name": "LayoutView",
            "grid_template_rows": null,
            "right": null,
            "justify_content": null,
            "_view_module": "@jupyter-widgets/base",
            "overflow": null,
            "_model_module_version": "1.2.0",
            "_view_count": null,
            "flex_flow": null,
            "width": null,
            "min_width": null,
            "border": null,
            "align_items": null,
            "bottom": null,
            "_model_module": "@jupyter-widgets/base",
            "top": null,
            "grid_column": null,
            "overflow_y": null,
            "overflow_x": null,
            "grid_auto_flow": null,
            "grid_area": null,
            "grid_template_columns": null,
            "flex": null,
            "_model_name": "LayoutModel",
            "justify_items": null,
            "grid_row": null,
            "max_height": null,
            "align_content": null,
            "visibility": null,
            "align_self": null,
            "height": null,
            "min_height": null,
            "padding": null,
            "grid_auto_rows": null,
            "grid_gap": null,
            "max_width": null,
            "order": null,
            "_view_module_version": "1.2.0",
            "grid_template_areas": null,
            "object_position": null,
            "object_fit": null,
            "grid_auto_columns": null,
            "margin": null,
            "display": null,
            "left": null
          }
        },
        "afd4e4a088f144259a236003c8ed19c8": {
          "model_module": "@jupyter-widgets/controls",
          "model_name": "ProgressStyleModel",
          "model_module_version": "1.5.0",
          "state": {
            "_view_name": "StyleView",
            "_model_name": "ProgressStyleModel",
            "description_width": "",
            "_view_module": "@jupyter-widgets/base",
            "_model_module_version": "1.5.0",
            "_view_count": null,
            "_view_module_version": "1.2.0",
            "bar_color": null,
            "_model_module": "@jupyter-widgets/controls"
          }
        },
        "3c0d0b2ee76c44e7860add959cbbfbc0": {
          "model_module": "@jupyter-widgets/base",
          "model_name": "LayoutModel",
          "model_module_version": "1.2.0",
          "state": {
            "_view_name": "LayoutView",
            "grid_template_rows": null,
            "right": null,
            "justify_content": null,
            "_view_module": "@jupyter-widgets/base",
            "overflow": null,
            "_model_module_version": "1.2.0",
            "_view_count": null,
            "flex_flow": null,
            "width": null,
            "min_width": null,
            "border": null,
            "align_items": null,
            "bottom": null,
            "_model_module": "@jupyter-widgets/base",
            "top": null,
            "grid_column": null,
            "overflow_y": null,
            "overflow_x": null,
            "grid_auto_flow": null,
            "grid_area": null,
            "grid_template_columns": null,
            "flex": null,
            "_model_name": "LayoutModel",
            "justify_items": null,
            "grid_row": null,
            "max_height": null,
            "align_content": null,
            "visibility": null,
            "align_self": null,
            "height": null,
            "min_height": null,
            "padding": null,
            "grid_auto_rows": null,
            "grid_gap": null,
            "max_width": null,
            "order": null,
            "_view_module_version": "1.2.0",
            "grid_template_areas": null,
            "object_position": null,
            "object_fit": null,
            "grid_auto_columns": null,
            "margin": null,
            "display": null,
            "left": null
          }
        },
        "23580b6e15c94bc39238cd7c922b8f64": {
          "model_module": "@jupyter-widgets/controls",
          "model_name": "DescriptionStyleModel",
          "model_module_version": "1.5.0",
          "state": {
            "_view_name": "StyleView",
            "_model_name": "DescriptionStyleModel",
            "description_width": "",
            "_view_module": "@jupyter-widgets/base",
            "_model_module_version": "1.5.0",
            "_view_count": null,
            "_view_module_version": "1.2.0",
            "_model_module": "@jupyter-widgets/controls"
          }
        },
        "4784e823b7f749f38aa8d9538b274a4b": {
          "model_module": "@jupyter-widgets/base",
          "model_name": "LayoutModel",
          "model_module_version": "1.2.0",
          "state": {
            "_view_name": "LayoutView",
            "grid_template_rows": null,
            "right": null,
            "justify_content": null,
            "_view_module": "@jupyter-widgets/base",
            "overflow": null,
            "_model_module_version": "1.2.0",
            "_view_count": null,
            "flex_flow": null,
            "width": null,
            "min_width": null,
            "border": null,
            "align_items": null,
            "bottom": null,
            "_model_module": "@jupyter-widgets/base",
            "top": null,
            "grid_column": null,
            "overflow_y": null,
            "overflow_x": null,
            "grid_auto_flow": null,
            "grid_area": null,
            "grid_template_columns": null,
            "flex": null,
            "_model_name": "LayoutModel",
            "justify_items": null,
            "grid_row": null,
            "max_height": null,
            "align_content": null,
            "visibility": null,
            "align_self": null,
            "height": null,
            "min_height": null,
            "padding": null,
            "grid_auto_rows": null,
            "grid_gap": null,
            "max_width": null,
            "order": null,
            "_view_module_version": "1.2.0",
            "grid_template_areas": null,
            "object_position": null,
            "object_fit": null,
            "grid_auto_columns": null,
            "margin": null,
            "display": null,
            "left": null
          }
        },
        "e633326d91804f93a282be1199109552": {
          "model_module": "@jupyter-widgets/controls",
          "model_name": "HBoxModel",
          "model_module_version": "1.5.0",
          "state": {
            "_view_name": "HBoxView",
            "_dom_classes": [],
            "_model_name": "HBoxModel",
            "_view_module": "@jupyter-widgets/controls",
            "_model_module_version": "1.5.0",
            "_view_count": null,
            "_view_module_version": "1.5.0",
            "box_style": "",
            "layout": "IPY_MODEL_3da8f5c9d3d84436b6e5e56008d50ba7",
            "_model_module": "@jupyter-widgets/controls",
            "children": [
              "IPY_MODEL_733b393f04a24f139d82d2568854a9d9",
              "IPY_MODEL_cda9dcec635344d4bfd4f8bdb8494058",
              "IPY_MODEL_97f04ebb3ef44529a357ce3231433689"
            ]
          }
        },
        "3da8f5c9d3d84436b6e5e56008d50ba7": {
          "model_module": "@jupyter-widgets/base",
          "model_name": "LayoutModel",
          "model_module_version": "1.2.0",
          "state": {
            "_view_name": "LayoutView",
            "grid_template_rows": null,
            "right": null,
            "justify_content": null,
            "_view_module": "@jupyter-widgets/base",
            "overflow": null,
            "_model_module_version": "1.2.0",
            "_view_count": null,
            "flex_flow": null,
            "width": null,
            "min_width": null,
            "border": null,
            "align_items": null,
            "bottom": null,
            "_model_module": "@jupyter-widgets/base",
            "top": null,
            "grid_column": null,
            "overflow_y": null,
            "overflow_x": null,
            "grid_auto_flow": null,
            "grid_area": null,
            "grid_template_columns": null,
            "flex": null,
            "_model_name": "LayoutModel",
            "justify_items": null,
            "grid_row": null,
            "max_height": null,
            "align_content": null,
            "visibility": null,
            "align_self": null,
            "height": null,
            "min_height": null,
            "padding": null,
            "grid_auto_rows": null,
            "grid_gap": null,
            "max_width": null,
            "order": null,
            "_view_module_version": "1.2.0",
            "grid_template_areas": null,
            "object_position": null,
            "object_fit": null,
            "grid_auto_columns": null,
            "margin": null,
            "display": null,
            "left": null
          }
        },
        "733b393f04a24f139d82d2568854a9d9": {
          "model_module": "@jupyter-widgets/controls",
          "model_name": "HTMLModel",
          "model_module_version": "1.5.0",
          "state": {
            "_view_name": "HTMLView",
            "style": "IPY_MODEL_6d38ec6507b6438d84352ef9f73a863d",
            "_dom_classes": [],
            "description": "",
            "_model_name": "HTMLModel",
            "placeholder": "​",
            "_view_module": "@jupyter-widgets/controls",
            "_model_module_version": "1.5.0",
            "value": "",
            "_view_count": null,
            "_view_module_version": "1.5.0",
            "description_tooltip": null,
            "_model_module": "@jupyter-widgets/controls",
            "layout": "IPY_MODEL_19a8f4199af6419f8b838a910a6adc8a"
          }
        },
        "cda9dcec635344d4bfd4f8bdb8494058": {
          "model_module": "@jupyter-widgets/controls",
          "model_name": "FloatProgressModel",
          "model_module_version": "1.5.0",
          "state": {
            "_view_name": "ProgressView",
            "style": "IPY_MODEL_dde5805bf1a44d32af4080d7dfaa8cc3",
            "_dom_classes": [],
            "description": "",
            "_model_name": "FloatProgressModel",
            "bar_style": "success",
            "max": 2706,
            "_view_module": "@jupyter-widgets/controls",
            "_model_module_version": "1.5.0",
            "value": 2706,
            "_view_count": null,
            "_view_module_version": "1.5.0",
            "orientation": "horizontal",
            "min": 0,
            "description_tooltip": null,
            "_model_module": "@jupyter-widgets/controls",
            "layout": "IPY_MODEL_5ee35d9eafec4ba6ac25a6dae983f8a5"
          }
        },
        "97f04ebb3ef44529a357ce3231433689": {
          "model_module": "@jupyter-widgets/controls",
          "model_name": "HTMLModel",
          "model_module_version": "1.5.0",
          "state": {
            "_view_name": "HTMLView",
            "style": "IPY_MODEL_89e11c2625cb4d6e903bb3a138f0b519",
            "_dom_classes": [],
            "description": "",
            "_model_name": "HTMLModel",
            "placeholder": "​",
            "_view_module": "@jupyter-widgets/controls",
            "_model_module_version": "1.5.0",
            "value": " 2710.0/? [00:24&lt;00:00, 141.45M/s]",
            "_view_count": null,
            "_view_module_version": "1.5.0",
            "description_tooltip": null,
            "_model_module": "@jupyter-widgets/controls",
            "layout": "IPY_MODEL_c708cbaca60542c8b6af17403a5beec7"
          }
        },
        "6d38ec6507b6438d84352ef9f73a863d": {
          "model_module": "@jupyter-widgets/controls",
          "model_name": "DescriptionStyleModel",
          "model_module_version": "1.5.0",
          "state": {
            "_view_name": "StyleView",
            "_model_name": "DescriptionStyleModel",
            "description_width": "",
            "_view_module": "@jupyter-widgets/base",
            "_model_module_version": "1.5.0",
            "_view_count": null,
            "_view_module_version": "1.2.0",
            "_model_module": "@jupyter-widgets/controls"
          }
        },
        "19a8f4199af6419f8b838a910a6adc8a": {
          "model_module": "@jupyter-widgets/base",
          "model_name": "LayoutModel",
          "model_module_version": "1.2.0",
          "state": {
            "_view_name": "LayoutView",
            "grid_template_rows": null,
            "right": null,
            "justify_content": null,
            "_view_module": "@jupyter-widgets/base",
            "overflow": null,
            "_model_module_version": "1.2.0",
            "_view_count": null,
            "flex_flow": null,
            "width": null,
            "min_width": null,
            "border": null,
            "align_items": null,
            "bottom": null,
            "_model_module": "@jupyter-widgets/base",
            "top": null,
            "grid_column": null,
            "overflow_y": null,
            "overflow_x": null,
            "grid_auto_flow": null,
            "grid_area": null,
            "grid_template_columns": null,
            "flex": null,
            "_model_name": "LayoutModel",
            "justify_items": null,
            "grid_row": null,
            "max_height": null,
            "align_content": null,
            "visibility": null,
            "align_self": null,
            "height": null,
            "min_height": null,
            "padding": null,
            "grid_auto_rows": null,
            "grid_gap": null,
            "max_width": null,
            "order": null,
            "_view_module_version": "1.2.0",
            "grid_template_areas": null,
            "object_position": null,
            "object_fit": null,
            "grid_auto_columns": null,
            "margin": null,
            "display": null,
            "left": null
          }
        },
        "dde5805bf1a44d32af4080d7dfaa8cc3": {
          "model_module": "@jupyter-widgets/controls",
          "model_name": "ProgressStyleModel",
          "model_module_version": "1.5.0",
          "state": {
            "_view_name": "StyleView",
            "_model_name": "ProgressStyleModel",
            "description_width": "",
            "_view_module": "@jupyter-widgets/base",
            "_model_module_version": "1.5.0",
            "_view_count": null,
            "_view_module_version": "1.2.0",
            "bar_color": null,
            "_model_module": "@jupyter-widgets/controls"
          }
        },
        "5ee35d9eafec4ba6ac25a6dae983f8a5": {
          "model_module": "@jupyter-widgets/base",
          "model_name": "LayoutModel",
          "model_module_version": "1.2.0",
          "state": {
            "_view_name": "LayoutView",
            "grid_template_rows": null,
            "right": null,
            "justify_content": null,
            "_view_module": "@jupyter-widgets/base",
            "overflow": null,
            "_model_module_version": "1.2.0",
            "_view_count": null,
            "flex_flow": null,
            "width": null,
            "min_width": null,
            "border": null,
            "align_items": null,
            "bottom": null,
            "_model_module": "@jupyter-widgets/base",
            "top": null,
            "grid_column": null,
            "overflow_y": null,
            "overflow_x": null,
            "grid_auto_flow": null,
            "grid_area": null,
            "grid_template_columns": null,
            "flex": null,
            "_model_name": "LayoutModel",
            "justify_items": null,
            "grid_row": null,
            "max_height": null,
            "align_content": null,
            "visibility": null,
            "align_self": null,
            "height": null,
            "min_height": null,
            "padding": null,
            "grid_auto_rows": null,
            "grid_gap": null,
            "max_width": null,
            "order": null,
            "_view_module_version": "1.2.0",
            "grid_template_areas": null,
            "object_position": null,
            "object_fit": null,
            "grid_auto_columns": null,
            "margin": null,
            "display": null,
            "left": null
          }
        },
        "89e11c2625cb4d6e903bb3a138f0b519": {
          "model_module": "@jupyter-widgets/controls",
          "model_name": "DescriptionStyleModel",
          "model_module_version": "1.5.0",
          "state": {
            "_view_name": "StyleView",
            "_model_name": "DescriptionStyleModel",
            "description_width": "",
            "_view_module": "@jupyter-widgets/base",
            "_model_module_version": "1.5.0",
            "_view_count": null,
            "_view_module_version": "1.2.0",
            "_model_module": "@jupyter-widgets/controls"
          }
        },
        "c708cbaca60542c8b6af17403a5beec7": {
          "model_module": "@jupyter-widgets/base",
          "model_name": "LayoutModel",
          "model_module_version": "1.2.0",
          "state": {
            "_view_name": "LayoutView",
            "grid_template_rows": null,
            "right": null,
            "justify_content": null,
            "_view_module": "@jupyter-widgets/base",
            "overflow": null,
            "_model_module_version": "1.2.0",
            "_view_count": null,
            "flex_flow": null,
            "width": null,
            "min_width": null,
            "border": null,
            "align_items": null,
            "bottom": null,
            "_model_module": "@jupyter-widgets/base",
            "top": null,
            "grid_column": null,
            "overflow_y": null,
            "overflow_x": null,
            "grid_auto_flow": null,
            "grid_area": null,
            "grid_template_columns": null,
            "flex": null,
            "_model_name": "LayoutModel",
            "justify_items": null,
            "grid_row": null,
            "max_height": null,
            "align_content": null,
            "visibility": null,
            "align_self": null,
            "height": null,
            "min_height": null,
            "padding": null,
            "grid_auto_rows": null,
            "grid_gap": null,
            "max_width": null,
            "order": null,
            "_view_module_version": "1.2.0",
            "grid_template_areas": null,
            "object_position": null,
            "object_fit": null,
            "grid_auto_columns": null,
            "margin": null,
            "display": null,
            "left": null
          }
        },
        "6430e8bf0bb94592b18d5dea595807d4": {
          "model_module": "@jupyter-widgets/controls",
          "model_name": "HBoxModel",
          "model_module_version": "1.5.0",
          "state": {
            "_view_name": "HBoxView",
            "_dom_classes": [],
            "_model_name": "HBoxModel",
            "_view_module": "@jupyter-widgets/controls",
            "_model_module_version": "1.5.0",
            "_view_count": null,
            "_view_module_version": "1.5.0",
            "box_style": "",
            "layout": "IPY_MODEL_077d4fff23fe485c97ae4c9274225fba",
            "_model_module": "@jupyter-widgets/controls",
            "children": [
              "IPY_MODEL_720c5c72e323474587d40470de9f8b94",
              "IPY_MODEL_efc73d5414774d5c9f1af083ee877fad",
              "IPY_MODEL_1c353997edcd47a49e76c5751c82091c"
            ]
          }
        },
        "077d4fff23fe485c97ae4c9274225fba": {
          "model_module": "@jupyter-widgets/base",
          "model_name": "LayoutModel",
          "model_module_version": "1.2.0",
          "state": {
            "_view_name": "LayoutView",
            "grid_template_rows": null,
            "right": null,
            "justify_content": null,
            "_view_module": "@jupyter-widgets/base",
            "overflow": null,
            "_model_module_version": "1.2.0",
            "_view_count": null,
            "flex_flow": null,
            "width": null,
            "min_width": null,
            "border": null,
            "align_items": null,
            "bottom": null,
            "_model_module": "@jupyter-widgets/base",
            "top": null,
            "grid_column": null,
            "overflow_y": null,
            "overflow_x": null,
            "grid_auto_flow": null,
            "grid_area": null,
            "grid_template_columns": null,
            "flex": null,
            "_model_name": "LayoutModel",
            "justify_items": null,
            "grid_row": null,
            "max_height": null,
            "align_content": null,
            "visibility": null,
            "align_self": null,
            "height": null,
            "min_height": null,
            "padding": null,
            "grid_auto_rows": null,
            "grid_gap": null,
            "max_width": null,
            "order": null,
            "_view_module_version": "1.2.0",
            "grid_template_areas": null,
            "object_position": null,
            "object_fit": null,
            "grid_auto_columns": null,
            "margin": null,
            "display": null,
            "left": null
          }
        },
        "720c5c72e323474587d40470de9f8b94": {
          "model_module": "@jupyter-widgets/controls",
          "model_name": "HTMLModel",
          "model_module_version": "1.5.0",
          "state": {
            "_view_name": "HTMLView",
            "style": "IPY_MODEL_182d27c9ffbd44c3aa65fdcdc902794d",
            "_dom_classes": [],
            "description": "",
            "_model_name": "HTMLModel",
            "placeholder": "​",
            "_view_module": "@jupyter-widgets/controls",
            "_model_module_version": "1.5.0",
            "value": "",
            "_view_count": null,
            "_view_module_version": "1.5.0",
            "description_tooltip": null,
            "_model_module": "@jupyter-widgets/controls",
            "layout": "IPY_MODEL_bb1ca15288f04e6697cd0ab5a864dd28"
          }
        },
        "efc73d5414774d5c9f1af083ee877fad": {
          "model_module": "@jupyter-widgets/controls",
          "model_name": "FloatProgressModel",
          "model_module_version": "1.5.0",
          "state": {
            "_view_name": "ProgressView",
            "style": "IPY_MODEL_a66a30b05f4e498c899554f27353b56f",
            "_dom_classes": [],
            "description": "",
            "_model_name": "FloatProgressModel",
            "bar_style": "success",
            "max": 1930.4,
            "_view_module": "@jupyter-widgets/controls",
            "_model_module_version": "1.5.0",
            "value": 1930.4,
            "_view_count": null,
            "_view_module_version": "1.5.0",
            "orientation": "horizontal",
            "min": 0,
            "description_tooltip": null,
            "_model_module": "@jupyter-widgets/controls",
            "layout": "IPY_MODEL_4a6b67c0684849eea6ce82f1a1a5d1a8"
          }
        },
        "1c353997edcd47a49e76c5751c82091c": {
          "model_module": "@jupyter-widgets/controls",
          "model_name": "HTMLModel",
          "model_module_version": "1.5.0",
          "state": {
            "_view_name": "HTMLView",
            "style": "IPY_MODEL_34ed86387f094d9ba8553a8861be56d2",
            "_dom_classes": [],
            "description": "",
            "_model_name": "HTMLModel",
            "placeholder": "​",
            "_view_module": "@jupyter-widgets/controls",
            "_model_module_version": "1.5.0",
            "value": " 1935.0/? [00:17&lt;00:00, 139.83M/s]",
            "_view_count": null,
            "_view_module_version": "1.5.0",
            "description_tooltip": null,
            "_model_module": "@jupyter-widgets/controls",
            "layout": "IPY_MODEL_cf6e1937d3344efaa8cdb224c35e6b64"
          }
        },
        "182d27c9ffbd44c3aa65fdcdc902794d": {
          "model_module": "@jupyter-widgets/controls",
          "model_name": "DescriptionStyleModel",
          "model_module_version": "1.5.0",
          "state": {
            "_view_name": "StyleView",
            "_model_name": "DescriptionStyleModel",
            "description_width": "",
            "_view_module": "@jupyter-widgets/base",
            "_model_module_version": "1.5.0",
            "_view_count": null,
            "_view_module_version": "1.2.0",
            "_model_module": "@jupyter-widgets/controls"
          }
        },
        "bb1ca15288f04e6697cd0ab5a864dd28": {
          "model_module": "@jupyter-widgets/base",
          "model_name": "LayoutModel",
          "model_module_version": "1.2.0",
          "state": {
            "_view_name": "LayoutView",
            "grid_template_rows": null,
            "right": null,
            "justify_content": null,
            "_view_module": "@jupyter-widgets/base",
            "overflow": null,
            "_model_module_version": "1.2.0",
            "_view_count": null,
            "flex_flow": null,
            "width": null,
            "min_width": null,
            "border": null,
            "align_items": null,
            "bottom": null,
            "_model_module": "@jupyter-widgets/base",
            "top": null,
            "grid_column": null,
            "overflow_y": null,
            "overflow_x": null,
            "grid_auto_flow": null,
            "grid_area": null,
            "grid_template_columns": null,
            "flex": null,
            "_model_name": "LayoutModel",
            "justify_items": null,
            "grid_row": null,
            "max_height": null,
            "align_content": null,
            "visibility": null,
            "align_self": null,
            "height": null,
            "min_height": null,
            "padding": null,
            "grid_auto_rows": null,
            "grid_gap": null,
            "max_width": null,
            "order": null,
            "_view_module_version": "1.2.0",
            "grid_template_areas": null,
            "object_position": null,
            "object_fit": null,
            "grid_auto_columns": null,
            "margin": null,
            "display": null,
            "left": null
          }
        },
        "a66a30b05f4e498c899554f27353b56f": {
          "model_module": "@jupyter-widgets/controls",
          "model_name": "ProgressStyleModel",
          "model_module_version": "1.5.0",
          "state": {
            "_view_name": "StyleView",
            "_model_name": "ProgressStyleModel",
            "description_width": "",
            "_view_module": "@jupyter-widgets/base",
            "_model_module_version": "1.5.0",
            "_view_count": null,
            "_view_module_version": "1.2.0",
            "bar_color": null,
            "_model_module": "@jupyter-widgets/controls"
          }
        },
        "4a6b67c0684849eea6ce82f1a1a5d1a8": {
          "model_module": "@jupyter-widgets/base",
          "model_name": "LayoutModel",
          "model_module_version": "1.2.0",
          "state": {
            "_view_name": "LayoutView",
            "grid_template_rows": null,
            "right": null,
            "justify_content": null,
            "_view_module": "@jupyter-widgets/base",
            "overflow": null,
            "_model_module_version": "1.2.0",
            "_view_count": null,
            "flex_flow": null,
            "width": null,
            "min_width": null,
            "border": null,
            "align_items": null,
            "bottom": null,
            "_model_module": "@jupyter-widgets/base",
            "top": null,
            "grid_column": null,
            "overflow_y": null,
            "overflow_x": null,
            "grid_auto_flow": null,
            "grid_area": null,
            "grid_template_columns": null,
            "flex": null,
            "_model_name": "LayoutModel",
            "justify_items": null,
            "grid_row": null,
            "max_height": null,
            "align_content": null,
            "visibility": null,
            "align_self": null,
            "height": null,
            "min_height": null,
            "padding": null,
            "grid_auto_rows": null,
            "grid_gap": null,
            "max_width": null,
            "order": null,
            "_view_module_version": "1.2.0",
            "grid_template_areas": null,
            "object_position": null,
            "object_fit": null,
            "grid_auto_columns": null,
            "margin": null,
            "display": null,
            "left": null
          }
        },
        "34ed86387f094d9ba8553a8861be56d2": {
          "model_module": "@jupyter-widgets/controls",
          "model_name": "DescriptionStyleModel",
          "model_module_version": "1.5.0",
          "state": {
            "_view_name": "StyleView",
            "_model_name": "DescriptionStyleModel",
            "description_width": "",
            "_view_module": "@jupyter-widgets/base",
            "_model_module_version": "1.5.0",
            "_view_count": null,
            "_view_module_version": "1.2.0",
            "_model_module": "@jupyter-widgets/controls"
          }
        },
        "cf6e1937d3344efaa8cdb224c35e6b64": {
          "model_module": "@jupyter-widgets/base",
          "model_name": "LayoutModel",
          "model_module_version": "1.2.0",
          "state": {
            "_view_name": "LayoutView",
            "grid_template_rows": null,
            "right": null,
            "justify_content": null,
            "_view_module": "@jupyter-widgets/base",
            "overflow": null,
            "_model_module_version": "1.2.0",
            "_view_count": null,
            "flex_flow": null,
            "width": null,
            "min_width": null,
            "border": null,
            "align_items": null,
            "bottom": null,
            "_model_module": "@jupyter-widgets/base",
            "top": null,
            "grid_column": null,
            "overflow_y": null,
            "overflow_x": null,
            "grid_auto_flow": null,
            "grid_area": null,
            "grid_template_columns": null,
            "flex": null,
            "_model_name": "LayoutModel",
            "justify_items": null,
            "grid_row": null,
            "max_height": null,
            "align_content": null,
            "visibility": null,
            "align_self": null,
            "height": null,
            "min_height": null,
            "padding": null,
            "grid_auto_rows": null,
            "grid_gap": null,
            "max_width": null,
            "order": null,
            "_view_module_version": "1.2.0",
            "grid_template_areas": null,
            "object_position": null,
            "object_fit": null,
            "grid_auto_columns": null,
            "margin": null,
            "display": null,
            "left": null
          }
        },
        "a412f9f785c74bff9ba3a0f2dffe222c": {
          "model_module": "@jupyter-widgets/controls",
          "model_name": "HBoxModel",
          "model_module_version": "1.5.0",
          "state": {
            "_view_name": "HBoxView",
            "_dom_classes": [],
            "_model_name": "HBoxModel",
            "_view_module": "@jupyter-widgets/controls",
            "_model_module_version": "1.5.0",
            "_view_count": null,
            "_view_module_version": "1.5.0",
            "box_style": "",
            "layout": "IPY_MODEL_02b4f32487cf48fb9720e2e5477758c0",
            "_model_module": "@jupyter-widgets/controls",
            "children": [
              "IPY_MODEL_3d613bf4bc5a4834bf0e18c5075f81fa",
              "IPY_MODEL_4a730febb8e14ce4bb9f67c4e631fd2b",
              "IPY_MODEL_dea39aefde744d9495b427caf9bdfeda"
            ]
          }
        },
        "02b4f32487cf48fb9720e2e5477758c0": {
          "model_module": "@jupyter-widgets/base",
          "model_name": "LayoutModel",
          "model_module_version": "1.2.0",
          "state": {
            "_view_name": "LayoutView",
            "grid_template_rows": null,
            "right": null,
            "justify_content": null,
            "_view_module": "@jupyter-widgets/base",
            "overflow": null,
            "_model_module_version": "1.2.0",
            "_view_count": null,
            "flex_flow": null,
            "width": null,
            "min_width": null,
            "border": null,
            "align_items": null,
            "bottom": null,
            "_model_module": "@jupyter-widgets/base",
            "top": null,
            "grid_column": null,
            "overflow_y": null,
            "overflow_x": null,
            "grid_auto_flow": null,
            "grid_area": null,
            "grid_template_columns": null,
            "flex": null,
            "_model_name": "LayoutModel",
            "justify_items": null,
            "grid_row": null,
            "max_height": null,
            "align_content": null,
            "visibility": null,
            "align_self": null,
            "height": null,
            "min_height": null,
            "padding": null,
            "grid_auto_rows": null,
            "grid_gap": null,
            "max_width": null,
            "order": null,
            "_view_module_version": "1.2.0",
            "grid_template_areas": null,
            "object_position": null,
            "object_fit": null,
            "grid_auto_columns": null,
            "margin": null,
            "display": null,
            "left": null
          }
        },
        "3d613bf4bc5a4834bf0e18c5075f81fa": {
          "model_module": "@jupyter-widgets/controls",
          "model_name": "HTMLModel",
          "model_module_version": "1.5.0",
          "state": {
            "_view_name": "HTMLView",
            "style": "IPY_MODEL_f4078ee645cc4ee0bc4420340c690b38",
            "_dom_classes": [],
            "description": "",
            "_model_name": "HTMLModel",
            "placeholder": "​",
            "_view_module": "@jupyter-widgets/controls",
            "_model_module_version": "1.5.0",
            "value": "",
            "_view_count": null,
            "_view_module_version": "1.5.0",
            "description_tooltip": null,
            "_model_module": "@jupyter-widgets/controls",
            "layout": "IPY_MODEL_86b1e34450bd476ca897551fda199beb"
          }
        },
        "4a730febb8e14ce4bb9f67c4e631fd2b": {
          "model_module": "@jupyter-widgets/controls",
          "model_name": "FloatProgressModel",
          "model_module_version": "1.5.0",
          "state": {
            "_view_name": "ProgressView",
            "style": "IPY_MODEL_fb5cfe9d3c374f538035b3f36f58faed",
            "_dom_classes": [],
            "description": "",
            "_model_name": "FloatProgressModel",
            "bar_style": "success",
            "max": 1980.9,
            "_view_module": "@jupyter-widgets/controls",
            "_model_module_version": "1.5.0",
            "value": 1980.9,
            "_view_count": null,
            "_view_module_version": "1.5.0",
            "orientation": "horizontal",
            "min": 0,
            "description_tooltip": null,
            "_model_module": "@jupyter-widgets/controls",
            "layout": "IPY_MODEL_5d07cbe68d994f70a8119d088c5dbd7b"
          }
        },
        "dea39aefde744d9495b427caf9bdfeda": {
          "model_module": "@jupyter-widgets/controls",
          "model_name": "HTMLModel",
          "model_module_version": "1.5.0",
          "state": {
            "_view_name": "HTMLView",
            "style": "IPY_MODEL_009134c20fce4de184abd910bc9af810",
            "_dom_classes": [],
            "description": "",
            "_model_name": "HTMLModel",
            "placeholder": "​",
            "_view_module": "@jupyter-widgets/controls",
            "_model_module_version": "1.5.0",
            "value": " 1985.0/? [00:17&lt;00:00, 133.64M/s]",
            "_view_count": null,
            "_view_module_version": "1.5.0",
            "description_tooltip": null,
            "_model_module": "@jupyter-widgets/controls",
            "layout": "IPY_MODEL_5319710e3be449fbaccc05c5337bbbf1"
          }
        },
        "f4078ee645cc4ee0bc4420340c690b38": {
          "model_module": "@jupyter-widgets/controls",
          "model_name": "DescriptionStyleModel",
          "model_module_version": "1.5.0",
          "state": {
            "_view_name": "StyleView",
            "_model_name": "DescriptionStyleModel",
            "description_width": "",
            "_view_module": "@jupyter-widgets/base",
            "_model_module_version": "1.5.0",
            "_view_count": null,
            "_view_module_version": "1.2.0",
            "_model_module": "@jupyter-widgets/controls"
          }
        },
        "86b1e34450bd476ca897551fda199beb": {
          "model_module": "@jupyter-widgets/base",
          "model_name": "LayoutModel",
          "model_module_version": "1.2.0",
          "state": {
            "_view_name": "LayoutView",
            "grid_template_rows": null,
            "right": null,
            "justify_content": null,
            "_view_module": "@jupyter-widgets/base",
            "overflow": null,
            "_model_module_version": "1.2.0",
            "_view_count": null,
            "flex_flow": null,
            "width": null,
            "min_width": null,
            "border": null,
            "align_items": null,
            "bottom": null,
            "_model_module": "@jupyter-widgets/base",
            "top": null,
            "grid_column": null,
            "overflow_y": null,
            "overflow_x": null,
            "grid_auto_flow": null,
            "grid_area": null,
            "grid_template_columns": null,
            "flex": null,
            "_model_name": "LayoutModel",
            "justify_items": null,
            "grid_row": null,
            "max_height": null,
            "align_content": null,
            "visibility": null,
            "align_self": null,
            "height": null,
            "min_height": null,
            "padding": null,
            "grid_auto_rows": null,
            "grid_gap": null,
            "max_width": null,
            "order": null,
            "_view_module_version": "1.2.0",
            "grid_template_areas": null,
            "object_position": null,
            "object_fit": null,
            "grid_auto_columns": null,
            "margin": null,
            "display": null,
            "left": null
          }
        },
        "fb5cfe9d3c374f538035b3f36f58faed": {
          "model_module": "@jupyter-widgets/controls",
          "model_name": "ProgressStyleModel",
          "model_module_version": "1.5.0",
          "state": {
            "_view_name": "StyleView",
            "_model_name": "ProgressStyleModel",
            "description_width": "",
            "_view_module": "@jupyter-widgets/base",
            "_model_module_version": "1.5.0",
            "_view_count": null,
            "_view_module_version": "1.2.0",
            "bar_color": null,
            "_model_module": "@jupyter-widgets/controls"
          }
        },
        "5d07cbe68d994f70a8119d088c5dbd7b": {
          "model_module": "@jupyter-widgets/base",
          "model_name": "LayoutModel",
          "model_module_version": "1.2.0",
          "state": {
            "_view_name": "LayoutView",
            "grid_template_rows": null,
            "right": null,
            "justify_content": null,
            "_view_module": "@jupyter-widgets/base",
            "overflow": null,
            "_model_module_version": "1.2.0",
            "_view_count": null,
            "flex_flow": null,
            "width": null,
            "min_width": null,
            "border": null,
            "align_items": null,
            "bottom": null,
            "_model_module": "@jupyter-widgets/base",
            "top": null,
            "grid_column": null,
            "overflow_y": null,
            "overflow_x": null,
            "grid_auto_flow": null,
            "grid_area": null,
            "grid_template_columns": null,
            "flex": null,
            "_model_name": "LayoutModel",
            "justify_items": null,
            "grid_row": null,
            "max_height": null,
            "align_content": null,
            "visibility": null,
            "align_self": null,
            "height": null,
            "min_height": null,
            "padding": null,
            "grid_auto_rows": null,
            "grid_gap": null,
            "max_width": null,
            "order": null,
            "_view_module_version": "1.2.0",
            "grid_template_areas": null,
            "object_position": null,
            "object_fit": null,
            "grid_auto_columns": null,
            "margin": null,
            "display": null,
            "left": null
          }
        },
        "009134c20fce4de184abd910bc9af810": {
          "model_module": "@jupyter-widgets/controls",
          "model_name": "DescriptionStyleModel",
          "model_module_version": "1.5.0",
          "state": {
            "_view_name": "StyleView",
            "_model_name": "DescriptionStyleModel",
            "description_width": "",
            "_view_module": "@jupyter-widgets/base",
            "_model_module_version": "1.5.0",
            "_view_count": null,
            "_view_module_version": "1.2.0",
            "_model_module": "@jupyter-widgets/controls"
          }
        },
        "5319710e3be449fbaccc05c5337bbbf1": {
          "model_module": "@jupyter-widgets/base",
          "model_name": "LayoutModel",
          "model_module_version": "1.2.0",
          "state": {
            "_view_name": "LayoutView",
            "grid_template_rows": null,
            "right": null,
            "justify_content": null,
            "_view_module": "@jupyter-widgets/base",
            "overflow": null,
            "_model_module_version": "1.2.0",
            "_view_count": null,
            "flex_flow": null,
            "width": null,
            "min_width": null,
            "border": null,
            "align_items": null,
            "bottom": null,
            "_model_module": "@jupyter-widgets/base",
            "top": null,
            "grid_column": null,
            "overflow_y": null,
            "overflow_x": null,
            "grid_auto_flow": null,
            "grid_area": null,
            "grid_template_columns": null,
            "flex": null,
            "_model_name": "LayoutModel",
            "justify_items": null,
            "grid_row": null,
            "max_height": null,
            "align_content": null,
            "visibility": null,
            "align_self": null,
            "height": null,
            "min_height": null,
            "padding": null,
            "grid_auto_rows": null,
            "grid_gap": null,
            "max_width": null,
            "order": null,
            "_view_module_version": "1.2.0",
            "grid_template_areas": null,
            "object_position": null,
            "object_fit": null,
            "grid_auto_columns": null,
            "margin": null,
            "display": null,
            "left": null
          }
        },
        "1c078742ab404c159e0b3dc0c9933923": {
          "model_module": "@jupyter-widgets/controls",
          "model_name": "HBoxModel",
          "model_module_version": "1.5.0",
          "state": {
            "_view_name": "HBoxView",
            "_dom_classes": [],
            "_model_name": "HBoxModel",
            "_view_module": "@jupyter-widgets/controls",
            "_model_module_version": "1.5.0",
            "_view_count": null,
            "_view_module_version": "1.5.0",
            "box_style": "",
            "layout": "IPY_MODEL_9393c76c850d4b22beaf65f4e6495b46",
            "_model_module": "@jupyter-widgets/controls",
            "children": [
              "IPY_MODEL_4de2cb520906448e8e78f10b3aaccf9b",
              "IPY_MODEL_151382c8889c4acc982fabec01d9b2b0",
              "IPY_MODEL_59312b89d3a04edeaacce141fc2fec7f"
            ]
          }
        },
        "9393c76c850d4b22beaf65f4e6495b46": {
          "model_module": "@jupyter-widgets/base",
          "model_name": "LayoutModel",
          "model_module_version": "1.2.0",
          "state": {
            "_view_name": "LayoutView",
            "grid_template_rows": null,
            "right": null,
            "justify_content": null,
            "_view_module": "@jupyter-widgets/base",
            "overflow": null,
            "_model_module_version": "1.2.0",
            "_view_count": null,
            "flex_flow": null,
            "width": null,
            "min_width": null,
            "border": null,
            "align_items": null,
            "bottom": null,
            "_model_module": "@jupyter-widgets/base",
            "top": null,
            "grid_column": null,
            "overflow_y": null,
            "overflow_x": null,
            "grid_auto_flow": null,
            "grid_area": null,
            "grid_template_columns": null,
            "flex": null,
            "_model_name": "LayoutModel",
            "justify_items": null,
            "grid_row": null,
            "max_height": null,
            "align_content": null,
            "visibility": null,
            "align_self": null,
            "height": null,
            "min_height": null,
            "padding": null,
            "grid_auto_rows": null,
            "grid_gap": null,
            "max_width": null,
            "order": null,
            "_view_module_version": "1.2.0",
            "grid_template_areas": null,
            "object_position": null,
            "object_fit": null,
            "grid_auto_columns": null,
            "margin": null,
            "display": null,
            "left": null
          }
        },
        "4de2cb520906448e8e78f10b3aaccf9b": {
          "model_module": "@jupyter-widgets/controls",
          "model_name": "HTMLModel",
          "model_module_version": "1.5.0",
          "state": {
            "_view_name": "HTMLView",
            "style": "IPY_MODEL_bca116d9abd846038f79c33022656c14",
            "_dom_classes": [],
            "description": "",
            "_model_name": "HTMLModel",
            "placeholder": "​",
            "_view_module": "@jupyter-widgets/controls",
            "_model_module_version": "1.5.0",
            "value": "",
            "_view_count": null,
            "_view_module_version": "1.5.0",
            "description_tooltip": null,
            "_model_module": "@jupyter-widgets/controls",
            "layout": "IPY_MODEL_fde43ec8559d47c7a753b2635b6e54af"
          }
        },
        "151382c8889c4acc982fabec01d9b2b0": {
          "model_module": "@jupyter-widgets/controls",
          "model_name": "FloatProgressModel",
          "model_module_version": "1.5.0",
          "state": {
            "_view_name": "ProgressView",
            "style": "IPY_MODEL_6c9ed0f973ea4205972765bb9e0826e0",
            "_dom_classes": [],
            "description": "",
            "_model_name": "FloatProgressModel",
            "bar_style": "success",
            "max": 2002,
            "_view_module": "@jupyter-widgets/controls",
            "_model_module_version": "1.5.0",
            "value": 2002,
            "_view_count": null,
            "_view_module_version": "1.5.0",
            "orientation": "horizontal",
            "min": 0,
            "description_tooltip": null,
            "_model_module": "@jupyter-widgets/controls",
            "layout": "IPY_MODEL_11a7b967cf274e7c9ba02166e35d2511"
          }
        },
        "59312b89d3a04edeaacce141fc2fec7f": {
          "model_module": "@jupyter-widgets/controls",
          "model_name": "HTMLModel",
          "model_module_version": "1.5.0",
          "state": {
            "_view_name": "HTMLView",
            "style": "IPY_MODEL_e83e97e5075d4b6e983117e52db4c143",
            "_dom_classes": [],
            "description": "",
            "_model_name": "HTMLModel",
            "placeholder": "​",
            "_view_module": "@jupyter-widgets/controls",
            "_model_module_version": "1.5.0",
            "value": " 2005.0/? [00:17&lt;00:00, 147.01M/s]",
            "_view_count": null,
            "_view_module_version": "1.5.0",
            "description_tooltip": null,
            "_model_module": "@jupyter-widgets/controls",
            "layout": "IPY_MODEL_ad309b640348492d9d93009cf8a721f5"
          }
        },
        "bca116d9abd846038f79c33022656c14": {
          "model_module": "@jupyter-widgets/controls",
          "model_name": "DescriptionStyleModel",
          "model_module_version": "1.5.0",
          "state": {
            "_view_name": "StyleView",
            "_model_name": "DescriptionStyleModel",
            "description_width": "",
            "_view_module": "@jupyter-widgets/base",
            "_model_module_version": "1.5.0",
            "_view_count": null,
            "_view_module_version": "1.2.0",
            "_model_module": "@jupyter-widgets/controls"
          }
        },
        "fde43ec8559d47c7a753b2635b6e54af": {
          "model_module": "@jupyter-widgets/base",
          "model_name": "LayoutModel",
          "model_module_version": "1.2.0",
          "state": {
            "_view_name": "LayoutView",
            "grid_template_rows": null,
            "right": null,
            "justify_content": null,
            "_view_module": "@jupyter-widgets/base",
            "overflow": null,
            "_model_module_version": "1.2.0",
            "_view_count": null,
            "flex_flow": null,
            "width": null,
            "min_width": null,
            "border": null,
            "align_items": null,
            "bottom": null,
            "_model_module": "@jupyter-widgets/base",
            "top": null,
            "grid_column": null,
            "overflow_y": null,
            "overflow_x": null,
            "grid_auto_flow": null,
            "grid_area": null,
            "grid_template_columns": null,
            "flex": null,
            "_model_name": "LayoutModel",
            "justify_items": null,
            "grid_row": null,
            "max_height": null,
            "align_content": null,
            "visibility": null,
            "align_self": null,
            "height": null,
            "min_height": null,
            "padding": null,
            "grid_auto_rows": null,
            "grid_gap": null,
            "max_width": null,
            "order": null,
            "_view_module_version": "1.2.0",
            "grid_template_areas": null,
            "object_position": null,
            "object_fit": null,
            "grid_auto_columns": null,
            "margin": null,
            "display": null,
            "left": null
          }
        },
        "6c9ed0f973ea4205972765bb9e0826e0": {
          "model_module": "@jupyter-widgets/controls",
          "model_name": "ProgressStyleModel",
          "model_module_version": "1.5.0",
          "state": {
            "_view_name": "StyleView",
            "_model_name": "ProgressStyleModel",
            "description_width": "",
            "_view_module": "@jupyter-widgets/base",
            "_model_module_version": "1.5.0",
            "_view_count": null,
            "_view_module_version": "1.2.0",
            "bar_color": null,
            "_model_module": "@jupyter-widgets/controls"
          }
        },
        "11a7b967cf274e7c9ba02166e35d2511": {
          "model_module": "@jupyter-widgets/base",
          "model_name": "LayoutModel",
          "model_module_version": "1.2.0",
          "state": {
            "_view_name": "LayoutView",
            "grid_template_rows": null,
            "right": null,
            "justify_content": null,
            "_view_module": "@jupyter-widgets/base",
            "overflow": null,
            "_model_module_version": "1.2.0",
            "_view_count": null,
            "flex_flow": null,
            "width": null,
            "min_width": null,
            "border": null,
            "align_items": null,
            "bottom": null,
            "_model_module": "@jupyter-widgets/base",
            "top": null,
            "grid_column": null,
            "overflow_y": null,
            "overflow_x": null,
            "grid_auto_flow": null,
            "grid_area": null,
            "grid_template_columns": null,
            "flex": null,
            "_model_name": "LayoutModel",
            "justify_items": null,
            "grid_row": null,
            "max_height": null,
            "align_content": null,
            "visibility": null,
            "align_self": null,
            "height": null,
            "min_height": null,
            "padding": null,
            "grid_auto_rows": null,
            "grid_gap": null,
            "max_width": null,
            "order": null,
            "_view_module_version": "1.2.0",
            "grid_template_areas": null,
            "object_position": null,
            "object_fit": null,
            "grid_auto_columns": null,
            "margin": null,
            "display": null,
            "left": null
          }
        },
        "e83e97e5075d4b6e983117e52db4c143": {
          "model_module": "@jupyter-widgets/controls",
          "model_name": "DescriptionStyleModel",
          "model_module_version": "1.5.0",
          "state": {
            "_view_name": "StyleView",
            "_model_name": "DescriptionStyleModel",
            "description_width": "",
            "_view_module": "@jupyter-widgets/base",
            "_model_module_version": "1.5.0",
            "_view_count": null,
            "_view_module_version": "1.2.0",
            "_model_module": "@jupyter-widgets/controls"
          }
        },
        "ad309b640348492d9d93009cf8a721f5": {
          "model_module": "@jupyter-widgets/base",
          "model_name": "LayoutModel",
          "model_module_version": "1.2.0",
          "state": {
            "_view_name": "LayoutView",
            "grid_template_rows": null,
            "right": null,
            "justify_content": null,
            "_view_module": "@jupyter-widgets/base",
            "overflow": null,
            "_model_module_version": "1.2.0",
            "_view_count": null,
            "flex_flow": null,
            "width": null,
            "min_width": null,
            "border": null,
            "align_items": null,
            "bottom": null,
            "_model_module": "@jupyter-widgets/base",
            "top": null,
            "grid_column": null,
            "overflow_y": null,
            "overflow_x": null,
            "grid_auto_flow": null,
            "grid_area": null,
            "grid_template_columns": null,
            "flex": null,
            "_model_name": "LayoutModel",
            "justify_items": null,
            "grid_row": null,
            "max_height": null,
            "align_content": null,
            "visibility": null,
            "align_self": null,
            "height": null,
            "min_height": null,
            "padding": null,
            "grid_auto_rows": null,
            "grid_gap": null,
            "max_width": null,
            "order": null,
            "_view_module_version": "1.2.0",
            "grid_template_areas": null,
            "object_position": null,
            "object_fit": null,
            "grid_auto_columns": null,
            "margin": null,
            "display": null,
            "left": null
          }
        },
        "8866cb6b003646218bdec48c228ed569": {
          "model_module": "@jupyter-widgets/controls",
          "model_name": "HBoxModel",
          "model_module_version": "1.5.0",
          "state": {
            "_view_name": "HBoxView",
            "_dom_classes": [],
            "_model_name": "HBoxModel",
            "_view_module": "@jupyter-widgets/controls",
            "_model_module_version": "1.5.0",
            "_view_count": null,
            "_view_module_version": "1.5.0",
            "box_style": "",
            "layout": "IPY_MODEL_56f6a3d40b254d668f458ba7e189b187",
            "_model_module": "@jupyter-widgets/controls",
            "children": [
              "IPY_MODEL_72cd4d03a8864f459eb335e18c941ee3",
              "IPY_MODEL_cb7c0016c77e4c3d85f1b62c574b9bda",
              "IPY_MODEL_324e737c4ff9473f8588e653595310b7"
            ]
          }
        },
        "56f6a3d40b254d668f458ba7e189b187": {
          "model_module": "@jupyter-widgets/base",
          "model_name": "LayoutModel",
          "model_module_version": "1.2.0",
          "state": {
            "_view_name": "LayoutView",
            "grid_template_rows": null,
            "right": null,
            "justify_content": null,
            "_view_module": "@jupyter-widgets/base",
            "overflow": null,
            "_model_module_version": "1.2.0",
            "_view_count": null,
            "flex_flow": null,
            "width": null,
            "min_width": null,
            "border": null,
            "align_items": null,
            "bottom": null,
            "_model_module": "@jupyter-widgets/base",
            "top": null,
            "grid_column": null,
            "overflow_y": null,
            "overflow_x": null,
            "grid_auto_flow": null,
            "grid_area": null,
            "grid_template_columns": null,
            "flex": null,
            "_model_name": "LayoutModel",
            "justify_items": null,
            "grid_row": null,
            "max_height": null,
            "align_content": null,
            "visibility": null,
            "align_self": null,
            "height": null,
            "min_height": null,
            "padding": null,
            "grid_auto_rows": null,
            "grid_gap": null,
            "max_width": null,
            "order": null,
            "_view_module_version": "1.2.0",
            "grid_template_areas": null,
            "object_position": null,
            "object_fit": null,
            "grid_auto_columns": null,
            "margin": null,
            "display": null,
            "left": null
          }
        },
        "72cd4d03a8864f459eb335e18c941ee3": {
          "model_module": "@jupyter-widgets/controls",
          "model_name": "HTMLModel",
          "model_module_version": "1.5.0",
          "state": {
            "_view_name": "HTMLView",
            "style": "IPY_MODEL_2c25fb16c7024a5084fedfe2195d3eed",
            "_dom_classes": [],
            "description": "",
            "_model_name": "HTMLModel",
            "placeholder": "​",
            "_view_module": "@jupyter-widgets/controls",
            "_model_module_version": "1.5.0",
            "value": "",
            "_view_count": null,
            "_view_module_version": "1.5.0",
            "description_tooltip": null,
            "_model_module": "@jupyter-widgets/controls",
            "layout": "IPY_MODEL_bd1c642d70de4ca5a4f37a4e1e16504a"
          }
        },
        "cb7c0016c77e4c3d85f1b62c574b9bda": {
          "model_module": "@jupyter-widgets/controls",
          "model_name": "FloatProgressModel",
          "model_module_version": "1.5.0",
          "state": {
            "_view_name": "ProgressView",
            "style": "IPY_MODEL_9603f33b3acd4ffb9d29369d19c8931b",
            "_dom_classes": [],
            "description": "",
            "_model_name": "FloatProgressModel",
            "bar_style": "success",
            "max": 2877.3,
            "_view_module": "@jupyter-widgets/controls",
            "_model_module_version": "1.5.0",
            "value": 2877.3,
            "_view_count": null,
            "_view_module_version": "1.5.0",
            "orientation": "horizontal",
            "min": 0,
            "description_tooltip": null,
            "_model_module": "@jupyter-widgets/controls",
            "layout": "IPY_MODEL_30be371b98684f969e9bdeafa5ad82d8"
          }
        },
        "324e737c4ff9473f8588e653595310b7": {
          "model_module": "@jupyter-widgets/controls",
          "model_name": "HTMLModel",
          "model_module_version": "1.5.0",
          "state": {
            "_view_name": "HTMLView",
            "style": "IPY_MODEL_1bfd6bef610140b1b4598114eff192ae",
            "_dom_classes": [],
            "description": "",
            "_model_name": "HTMLModel",
            "placeholder": "​",
            "_view_module": "@jupyter-widgets/controls",
            "_model_module_version": "1.5.0",
            "value": " 2880.0/? [00:26&lt;00:00, 144.48M/s]",
            "_view_count": null,
            "_view_module_version": "1.5.0",
            "description_tooltip": null,
            "_model_module": "@jupyter-widgets/controls",
            "layout": "IPY_MODEL_4a3c5529bf0c4ef09e963df09c975a7d"
          }
        },
        "2c25fb16c7024a5084fedfe2195d3eed": {
          "model_module": "@jupyter-widgets/controls",
          "model_name": "DescriptionStyleModel",
          "model_module_version": "1.5.0",
          "state": {
            "_view_name": "StyleView",
            "_model_name": "DescriptionStyleModel",
            "description_width": "",
            "_view_module": "@jupyter-widgets/base",
            "_model_module_version": "1.5.0",
            "_view_count": null,
            "_view_module_version": "1.2.0",
            "_model_module": "@jupyter-widgets/controls"
          }
        },
        "bd1c642d70de4ca5a4f37a4e1e16504a": {
          "model_module": "@jupyter-widgets/base",
          "model_name": "LayoutModel",
          "model_module_version": "1.2.0",
          "state": {
            "_view_name": "LayoutView",
            "grid_template_rows": null,
            "right": null,
            "justify_content": null,
            "_view_module": "@jupyter-widgets/base",
            "overflow": null,
            "_model_module_version": "1.2.0",
            "_view_count": null,
            "flex_flow": null,
            "width": null,
            "min_width": null,
            "border": null,
            "align_items": null,
            "bottom": null,
            "_model_module": "@jupyter-widgets/base",
            "top": null,
            "grid_column": null,
            "overflow_y": null,
            "overflow_x": null,
            "grid_auto_flow": null,
            "grid_area": null,
            "grid_template_columns": null,
            "flex": null,
            "_model_name": "LayoutModel",
            "justify_items": null,
            "grid_row": null,
            "max_height": null,
            "align_content": null,
            "visibility": null,
            "align_self": null,
            "height": null,
            "min_height": null,
            "padding": null,
            "grid_auto_rows": null,
            "grid_gap": null,
            "max_width": null,
            "order": null,
            "_view_module_version": "1.2.0",
            "grid_template_areas": null,
            "object_position": null,
            "object_fit": null,
            "grid_auto_columns": null,
            "margin": null,
            "display": null,
            "left": null
          }
        },
        "9603f33b3acd4ffb9d29369d19c8931b": {
          "model_module": "@jupyter-widgets/controls",
          "model_name": "ProgressStyleModel",
          "model_module_version": "1.5.0",
          "state": {
            "_view_name": "StyleView",
            "_model_name": "ProgressStyleModel",
            "description_width": "",
            "_view_module": "@jupyter-widgets/base",
            "_model_module_version": "1.5.0",
            "_view_count": null,
            "_view_module_version": "1.2.0",
            "bar_color": null,
            "_model_module": "@jupyter-widgets/controls"
          }
        },
        "30be371b98684f969e9bdeafa5ad82d8": {
          "model_module": "@jupyter-widgets/base",
          "model_name": "LayoutModel",
          "model_module_version": "1.2.0",
          "state": {
            "_view_name": "LayoutView",
            "grid_template_rows": null,
            "right": null,
            "justify_content": null,
            "_view_module": "@jupyter-widgets/base",
            "overflow": null,
            "_model_module_version": "1.2.0",
            "_view_count": null,
            "flex_flow": null,
            "width": null,
            "min_width": null,
            "border": null,
            "align_items": null,
            "bottom": null,
            "_model_module": "@jupyter-widgets/base",
            "top": null,
            "grid_column": null,
            "overflow_y": null,
            "overflow_x": null,
            "grid_auto_flow": null,
            "grid_area": null,
            "grid_template_columns": null,
            "flex": null,
            "_model_name": "LayoutModel",
            "justify_items": null,
            "grid_row": null,
            "max_height": null,
            "align_content": null,
            "visibility": null,
            "align_self": null,
            "height": null,
            "min_height": null,
            "padding": null,
            "grid_auto_rows": null,
            "grid_gap": null,
            "max_width": null,
            "order": null,
            "_view_module_version": "1.2.0",
            "grid_template_areas": null,
            "object_position": null,
            "object_fit": null,
            "grid_auto_columns": null,
            "margin": null,
            "display": null,
            "left": null
          }
        },
        "1bfd6bef610140b1b4598114eff192ae": {
          "model_module": "@jupyter-widgets/controls",
          "model_name": "DescriptionStyleModel",
          "model_module_version": "1.5.0",
          "state": {
            "_view_name": "StyleView",
            "_model_name": "DescriptionStyleModel",
            "description_width": "",
            "_view_module": "@jupyter-widgets/base",
            "_model_module_version": "1.5.0",
            "_view_count": null,
            "_view_module_version": "1.2.0",
            "_model_module": "@jupyter-widgets/controls"
          }
        },
        "4a3c5529bf0c4ef09e963df09c975a7d": {
          "model_module": "@jupyter-widgets/base",
          "model_name": "LayoutModel",
          "model_module_version": "1.2.0",
          "state": {
            "_view_name": "LayoutView",
            "grid_template_rows": null,
            "right": null,
            "justify_content": null,
            "_view_module": "@jupyter-widgets/base",
            "overflow": null,
            "_model_module_version": "1.2.0",
            "_view_count": null,
            "flex_flow": null,
            "width": null,
            "min_width": null,
            "border": null,
            "align_items": null,
            "bottom": null,
            "_model_module": "@jupyter-widgets/base",
            "top": null,
            "grid_column": null,
            "overflow_y": null,
            "overflow_x": null,
            "grid_auto_flow": null,
            "grid_area": null,
            "grid_template_columns": null,
            "flex": null,
            "_model_name": "LayoutModel",
            "justify_items": null,
            "grid_row": null,
            "max_height": null,
            "align_content": null,
            "visibility": null,
            "align_self": null,
            "height": null,
            "min_height": null,
            "padding": null,
            "grid_auto_rows": null,
            "grid_gap": null,
            "max_width": null,
            "order": null,
            "_view_module_version": "1.2.0",
            "grid_template_areas": null,
            "object_position": null,
            "object_fit": null,
            "grid_auto_columns": null,
            "margin": null,
            "display": null,
            "left": null
          }
        },
        "67e452a424914d468be8faaee2a02a65": {
          "model_module": "@jupyter-widgets/controls",
          "model_name": "HBoxModel",
          "model_module_version": "1.5.0",
          "state": {
            "_view_name": "HBoxView",
            "_dom_classes": [],
            "_model_name": "HBoxModel",
            "_view_module": "@jupyter-widgets/controls",
            "_model_module_version": "1.5.0",
            "_view_count": null,
            "_view_module_version": "1.5.0",
            "box_style": "",
            "layout": "IPY_MODEL_5dcab117dea24e60836c837ce55759df",
            "_model_module": "@jupyter-widgets/controls",
            "children": [
              "IPY_MODEL_b645a64da58b4c26a7f331d4cf84a2e1",
              "IPY_MODEL_71464d8171f546b0a864ad5dd42d0c0b",
              "IPY_MODEL_c84b94d174254bb1b34a1c7d753322bd"
            ]
          }
        },
        "5dcab117dea24e60836c837ce55759df": {
          "model_module": "@jupyter-widgets/base",
          "model_name": "LayoutModel",
          "model_module_version": "1.2.0",
          "state": {
            "_view_name": "LayoutView",
            "grid_template_rows": null,
            "right": null,
            "justify_content": null,
            "_view_module": "@jupyter-widgets/base",
            "overflow": null,
            "_model_module_version": "1.2.0",
            "_view_count": null,
            "flex_flow": null,
            "width": null,
            "min_width": null,
            "border": null,
            "align_items": null,
            "bottom": null,
            "_model_module": "@jupyter-widgets/base",
            "top": null,
            "grid_column": null,
            "overflow_y": null,
            "overflow_x": null,
            "grid_auto_flow": null,
            "grid_area": null,
            "grid_template_columns": null,
            "flex": null,
            "_model_name": "LayoutModel",
            "justify_items": null,
            "grid_row": null,
            "max_height": null,
            "align_content": null,
            "visibility": null,
            "align_self": null,
            "height": null,
            "min_height": null,
            "padding": null,
            "grid_auto_rows": null,
            "grid_gap": null,
            "max_width": null,
            "order": null,
            "_view_module_version": "1.2.0",
            "grid_template_areas": null,
            "object_position": null,
            "object_fit": null,
            "grid_auto_columns": null,
            "margin": null,
            "display": null,
            "left": null
          }
        },
        "b645a64da58b4c26a7f331d4cf84a2e1": {
          "model_module": "@jupyter-widgets/controls",
          "model_name": "HTMLModel",
          "model_module_version": "1.5.0",
          "state": {
            "_view_name": "HTMLView",
            "style": "IPY_MODEL_48b230b605064519bbab70fe2925a749",
            "_dom_classes": [],
            "description": "",
            "_model_name": "HTMLModel",
            "placeholder": "​",
            "_view_module": "@jupyter-widgets/controls",
            "_model_module_version": "1.5.0",
            "value": "",
            "_view_count": null,
            "_view_module_version": "1.5.0",
            "description_tooltip": null,
            "_model_module": "@jupyter-widgets/controls",
            "layout": "IPY_MODEL_44eb763815984b6b9074bc7608e38394"
          }
        },
        "71464d8171f546b0a864ad5dd42d0c0b": {
          "model_module": "@jupyter-widgets/controls",
          "model_name": "FloatProgressModel",
          "model_module_version": "1.5.0",
          "state": {
            "_view_name": "ProgressView",
            "style": "IPY_MODEL_d9b0c144fdf5463186ad28f348223563",
            "_dom_classes": [],
            "description": "",
            "_model_name": "FloatProgressModel",
            "bar_style": "success",
            "max": 2003,
            "_view_module": "@jupyter-widgets/controls",
            "_model_module_version": "1.5.0",
            "value": 2003,
            "_view_count": null,
            "_view_module_version": "1.5.0",
            "orientation": "horizontal",
            "min": 0,
            "description_tooltip": null,
            "_model_module": "@jupyter-widgets/controls",
            "layout": "IPY_MODEL_a5491cc880c0491ca5d5629066b1e84f"
          }
        },
        "c84b94d174254bb1b34a1c7d753322bd": {
          "model_module": "@jupyter-widgets/controls",
          "model_name": "HTMLModel",
          "model_module_version": "1.5.0",
          "state": {
            "_view_name": "HTMLView",
            "style": "IPY_MODEL_d2b9233b7cc54236b249715fc79cdf6b",
            "_dom_classes": [],
            "description": "",
            "_model_name": "HTMLModel",
            "placeholder": "​",
            "_view_module": "@jupyter-widgets/controls",
            "_model_module_version": "1.5.0",
            "value": " 2005.0/? [00:18&lt;00:00, 153.43M/s]",
            "_view_count": null,
            "_view_module_version": "1.5.0",
            "description_tooltip": null,
            "_model_module": "@jupyter-widgets/controls",
            "layout": "IPY_MODEL_48e7979066fb4d1581b0e193d047f01b"
          }
        },
        "48b230b605064519bbab70fe2925a749": {
          "model_module": "@jupyter-widgets/controls",
          "model_name": "DescriptionStyleModel",
          "model_module_version": "1.5.0",
          "state": {
            "_view_name": "StyleView",
            "_model_name": "DescriptionStyleModel",
            "description_width": "",
            "_view_module": "@jupyter-widgets/base",
            "_model_module_version": "1.5.0",
            "_view_count": null,
            "_view_module_version": "1.2.0",
            "_model_module": "@jupyter-widgets/controls"
          }
        },
        "44eb763815984b6b9074bc7608e38394": {
          "model_module": "@jupyter-widgets/base",
          "model_name": "LayoutModel",
          "model_module_version": "1.2.0",
          "state": {
            "_view_name": "LayoutView",
            "grid_template_rows": null,
            "right": null,
            "justify_content": null,
            "_view_module": "@jupyter-widgets/base",
            "overflow": null,
            "_model_module_version": "1.2.0",
            "_view_count": null,
            "flex_flow": null,
            "width": null,
            "min_width": null,
            "border": null,
            "align_items": null,
            "bottom": null,
            "_model_module": "@jupyter-widgets/base",
            "top": null,
            "grid_column": null,
            "overflow_y": null,
            "overflow_x": null,
            "grid_auto_flow": null,
            "grid_area": null,
            "grid_template_columns": null,
            "flex": null,
            "_model_name": "LayoutModel",
            "justify_items": null,
            "grid_row": null,
            "max_height": null,
            "align_content": null,
            "visibility": null,
            "align_self": null,
            "height": null,
            "min_height": null,
            "padding": null,
            "grid_auto_rows": null,
            "grid_gap": null,
            "max_width": null,
            "order": null,
            "_view_module_version": "1.2.0",
            "grid_template_areas": null,
            "object_position": null,
            "object_fit": null,
            "grid_auto_columns": null,
            "margin": null,
            "display": null,
            "left": null
          }
        },
        "d9b0c144fdf5463186ad28f348223563": {
          "model_module": "@jupyter-widgets/controls",
          "model_name": "ProgressStyleModel",
          "model_module_version": "1.5.0",
          "state": {
            "_view_name": "StyleView",
            "_model_name": "ProgressStyleModel",
            "description_width": "",
            "_view_module": "@jupyter-widgets/base",
            "_model_module_version": "1.5.0",
            "_view_count": null,
            "_view_module_version": "1.2.0",
            "bar_color": null,
            "_model_module": "@jupyter-widgets/controls"
          }
        },
        "a5491cc880c0491ca5d5629066b1e84f": {
          "model_module": "@jupyter-widgets/base",
          "model_name": "LayoutModel",
          "model_module_version": "1.2.0",
          "state": {
            "_view_name": "LayoutView",
            "grid_template_rows": null,
            "right": null,
            "justify_content": null,
            "_view_module": "@jupyter-widgets/base",
            "overflow": null,
            "_model_module_version": "1.2.0",
            "_view_count": null,
            "flex_flow": null,
            "width": null,
            "min_width": null,
            "border": null,
            "align_items": null,
            "bottom": null,
            "_model_module": "@jupyter-widgets/base",
            "top": null,
            "grid_column": null,
            "overflow_y": null,
            "overflow_x": null,
            "grid_auto_flow": null,
            "grid_area": null,
            "grid_template_columns": null,
            "flex": null,
            "_model_name": "LayoutModel",
            "justify_items": null,
            "grid_row": null,
            "max_height": null,
            "align_content": null,
            "visibility": null,
            "align_self": null,
            "height": null,
            "min_height": null,
            "padding": null,
            "grid_auto_rows": null,
            "grid_gap": null,
            "max_width": null,
            "order": null,
            "_view_module_version": "1.2.0",
            "grid_template_areas": null,
            "object_position": null,
            "object_fit": null,
            "grid_auto_columns": null,
            "margin": null,
            "display": null,
            "left": null
          }
        },
        "d2b9233b7cc54236b249715fc79cdf6b": {
          "model_module": "@jupyter-widgets/controls",
          "model_name": "DescriptionStyleModel",
          "model_module_version": "1.5.0",
          "state": {
            "_view_name": "StyleView",
            "_model_name": "DescriptionStyleModel",
            "description_width": "",
            "_view_module": "@jupyter-widgets/base",
            "_model_module_version": "1.5.0",
            "_view_count": null,
            "_view_module_version": "1.2.0",
            "_model_module": "@jupyter-widgets/controls"
          }
        },
        "48e7979066fb4d1581b0e193d047f01b": {
          "model_module": "@jupyter-widgets/base",
          "model_name": "LayoutModel",
          "model_module_version": "1.2.0",
          "state": {
            "_view_name": "LayoutView",
            "grid_template_rows": null,
            "right": null,
            "justify_content": null,
            "_view_module": "@jupyter-widgets/base",
            "overflow": null,
            "_model_module_version": "1.2.0",
            "_view_count": null,
            "flex_flow": null,
            "width": null,
            "min_width": null,
            "border": null,
            "align_items": null,
            "bottom": null,
            "_model_module": "@jupyter-widgets/base",
            "top": null,
            "grid_column": null,
            "overflow_y": null,
            "overflow_x": null,
            "grid_auto_flow": null,
            "grid_area": null,
            "grid_template_columns": null,
            "flex": null,
            "_model_name": "LayoutModel",
            "justify_items": null,
            "grid_row": null,
            "max_height": null,
            "align_content": null,
            "visibility": null,
            "align_self": null,
            "height": null,
            "min_height": null,
            "padding": null,
            "grid_auto_rows": null,
            "grid_gap": null,
            "max_width": null,
            "order": null,
            "_view_module_version": "1.2.0",
            "grid_template_areas": null,
            "object_position": null,
            "object_fit": null,
            "grid_auto_columns": null,
            "margin": null,
            "display": null,
            "left": null
          }
        },
        "19a6dd3add23437085935aef863108a1": {
          "model_module": "@jupyter-widgets/controls",
          "model_name": "HBoxModel",
          "model_module_version": "1.5.0",
          "state": {
            "_view_name": "HBoxView",
            "_dom_classes": [],
            "_model_name": "HBoxModel",
            "_view_module": "@jupyter-widgets/controls",
            "_model_module_version": "1.5.0",
            "_view_count": null,
            "_view_module_version": "1.5.0",
            "box_style": "",
            "layout": "IPY_MODEL_51b9500dc8e54522aafe425fca2c287d",
            "_model_module": "@jupyter-widgets/controls",
            "children": [
              "IPY_MODEL_a818da0649a74cbd97234322cf2f3eb8",
              "IPY_MODEL_e320b2cfd6ab4692ad0e0662f5cab040",
              "IPY_MODEL_98bc4051cc274d829b538f797ee01973"
            ]
          }
        },
        "51b9500dc8e54522aafe425fca2c287d": {
          "model_module": "@jupyter-widgets/base",
          "model_name": "LayoutModel",
          "model_module_version": "1.2.0",
          "state": {
            "_view_name": "LayoutView",
            "grid_template_rows": null,
            "right": null,
            "justify_content": null,
            "_view_module": "@jupyter-widgets/base",
            "overflow": null,
            "_model_module_version": "1.2.0",
            "_view_count": null,
            "flex_flow": null,
            "width": null,
            "min_width": null,
            "border": null,
            "align_items": null,
            "bottom": null,
            "_model_module": "@jupyter-widgets/base",
            "top": null,
            "grid_column": null,
            "overflow_y": null,
            "overflow_x": null,
            "grid_auto_flow": null,
            "grid_area": null,
            "grid_template_columns": null,
            "flex": null,
            "_model_name": "LayoutModel",
            "justify_items": null,
            "grid_row": null,
            "max_height": null,
            "align_content": null,
            "visibility": null,
            "align_self": null,
            "height": null,
            "min_height": null,
            "padding": null,
            "grid_auto_rows": null,
            "grid_gap": null,
            "max_width": null,
            "order": null,
            "_view_module_version": "1.2.0",
            "grid_template_areas": null,
            "object_position": null,
            "object_fit": null,
            "grid_auto_columns": null,
            "margin": null,
            "display": null,
            "left": null
          }
        },
        "a818da0649a74cbd97234322cf2f3eb8": {
          "model_module": "@jupyter-widgets/controls",
          "model_name": "HTMLModel",
          "model_module_version": "1.5.0",
          "state": {
            "_view_name": "HTMLView",
            "style": "IPY_MODEL_d86caf231b774b319f374c64040951dd",
            "_dom_classes": [],
            "description": "",
            "_model_name": "HTMLModel",
            "placeholder": "​",
            "_view_module": "@jupyter-widgets/controls",
            "_model_module_version": "1.5.0",
            "value": "",
            "_view_count": null,
            "_view_module_version": "1.5.0",
            "description_tooltip": null,
            "_model_module": "@jupyter-widgets/controls",
            "layout": "IPY_MODEL_9743c600ba16428c8f8450f6708c85e7"
          }
        },
        "e320b2cfd6ab4692ad0e0662f5cab040": {
          "model_module": "@jupyter-widgets/controls",
          "model_name": "FloatProgressModel",
          "model_module_version": "1.5.0",
          "state": {
            "_view_name": "ProgressView",
            "style": "IPY_MODEL_ce5158db27fb45f5877ea3750c19b304",
            "_dom_classes": [],
            "description": "",
            "_model_name": "FloatProgressModel",
            "bar_style": "success",
            "max": 910.7,
            "_view_module": "@jupyter-widgets/controls",
            "_model_module_version": "1.5.0",
            "value": 910.7,
            "_view_count": null,
            "_view_module_version": "1.5.0",
            "orientation": "horizontal",
            "min": 0,
            "description_tooltip": null,
            "_model_module": "@jupyter-widgets/controls",
            "layout": "IPY_MODEL_c1ba501566d641c8974dc53a695bd6ec"
          }
        },
        "98bc4051cc274d829b538f797ee01973": {
          "model_module": "@jupyter-widgets/controls",
          "model_name": "HTMLModel",
          "model_module_version": "1.5.0",
          "state": {
            "_view_name": "HTMLView",
            "style": "IPY_MODEL_f9eb1e26608944e3ab75005f46a7fa25",
            "_dom_classes": [],
            "description": "",
            "_model_name": "HTMLModel",
            "placeholder": "​",
            "_view_module": "@jupyter-widgets/controls",
            "_model_module_version": "1.5.0",
            "value": " 915.0/? [00:08&lt;00:00, 161.94M/s]",
            "_view_count": null,
            "_view_module_version": "1.5.0",
            "description_tooltip": null,
            "_model_module": "@jupyter-widgets/controls",
            "layout": "IPY_MODEL_969f12f4734d40609955883509a42661"
          }
        },
        "d86caf231b774b319f374c64040951dd": {
          "model_module": "@jupyter-widgets/controls",
          "model_name": "DescriptionStyleModel",
          "model_module_version": "1.5.0",
          "state": {
            "_view_name": "StyleView",
            "_model_name": "DescriptionStyleModel",
            "description_width": "",
            "_view_module": "@jupyter-widgets/base",
            "_model_module_version": "1.5.0",
            "_view_count": null,
            "_view_module_version": "1.2.0",
            "_model_module": "@jupyter-widgets/controls"
          }
        },
        "9743c600ba16428c8f8450f6708c85e7": {
          "model_module": "@jupyter-widgets/base",
          "model_name": "LayoutModel",
          "model_module_version": "1.2.0",
          "state": {
            "_view_name": "LayoutView",
            "grid_template_rows": null,
            "right": null,
            "justify_content": null,
            "_view_module": "@jupyter-widgets/base",
            "overflow": null,
            "_model_module_version": "1.2.0",
            "_view_count": null,
            "flex_flow": null,
            "width": null,
            "min_width": null,
            "border": null,
            "align_items": null,
            "bottom": null,
            "_model_module": "@jupyter-widgets/base",
            "top": null,
            "grid_column": null,
            "overflow_y": null,
            "overflow_x": null,
            "grid_auto_flow": null,
            "grid_area": null,
            "grid_template_columns": null,
            "flex": null,
            "_model_name": "LayoutModel",
            "justify_items": null,
            "grid_row": null,
            "max_height": null,
            "align_content": null,
            "visibility": null,
            "align_self": null,
            "height": null,
            "min_height": null,
            "padding": null,
            "grid_auto_rows": null,
            "grid_gap": null,
            "max_width": null,
            "order": null,
            "_view_module_version": "1.2.0",
            "grid_template_areas": null,
            "object_position": null,
            "object_fit": null,
            "grid_auto_columns": null,
            "margin": null,
            "display": null,
            "left": null
          }
        },
        "ce5158db27fb45f5877ea3750c19b304": {
          "model_module": "@jupyter-widgets/controls",
          "model_name": "ProgressStyleModel",
          "model_module_version": "1.5.0",
          "state": {
            "_view_name": "StyleView",
            "_model_name": "ProgressStyleModel",
            "description_width": "",
            "_view_module": "@jupyter-widgets/base",
            "_model_module_version": "1.5.0",
            "_view_count": null,
            "_view_module_version": "1.2.0",
            "bar_color": null,
            "_model_module": "@jupyter-widgets/controls"
          }
        },
        "c1ba501566d641c8974dc53a695bd6ec": {
          "model_module": "@jupyter-widgets/base",
          "model_name": "LayoutModel",
          "model_module_version": "1.2.0",
          "state": {
            "_view_name": "LayoutView",
            "grid_template_rows": null,
            "right": null,
            "justify_content": null,
            "_view_module": "@jupyter-widgets/base",
            "overflow": null,
            "_model_module_version": "1.2.0",
            "_view_count": null,
            "flex_flow": null,
            "width": null,
            "min_width": null,
            "border": null,
            "align_items": null,
            "bottom": null,
            "_model_module": "@jupyter-widgets/base",
            "top": null,
            "grid_column": null,
            "overflow_y": null,
            "overflow_x": null,
            "grid_auto_flow": null,
            "grid_area": null,
            "grid_template_columns": null,
            "flex": null,
            "_model_name": "LayoutModel",
            "justify_items": null,
            "grid_row": null,
            "max_height": null,
            "align_content": null,
            "visibility": null,
            "align_self": null,
            "height": null,
            "min_height": null,
            "padding": null,
            "grid_auto_rows": null,
            "grid_gap": null,
            "max_width": null,
            "order": null,
            "_view_module_version": "1.2.0",
            "grid_template_areas": null,
            "object_position": null,
            "object_fit": null,
            "grid_auto_columns": null,
            "margin": null,
            "display": null,
            "left": null
          }
        },
        "f9eb1e26608944e3ab75005f46a7fa25": {
          "model_module": "@jupyter-widgets/controls",
          "model_name": "DescriptionStyleModel",
          "model_module_version": "1.5.0",
          "state": {
            "_view_name": "StyleView",
            "_model_name": "DescriptionStyleModel",
            "description_width": "",
            "_view_module": "@jupyter-widgets/base",
            "_model_module_version": "1.5.0",
            "_view_count": null,
            "_view_module_version": "1.2.0",
            "_model_module": "@jupyter-widgets/controls"
          }
        },
        "969f12f4734d40609955883509a42661": {
          "model_module": "@jupyter-widgets/base",
          "model_name": "LayoutModel",
          "model_module_version": "1.2.0",
          "state": {
            "_view_name": "LayoutView",
            "grid_template_rows": null,
            "right": null,
            "justify_content": null,
            "_view_module": "@jupyter-widgets/base",
            "overflow": null,
            "_model_module_version": "1.2.0",
            "_view_count": null,
            "flex_flow": null,
            "width": null,
            "min_width": null,
            "border": null,
            "align_items": null,
            "bottom": null,
            "_model_module": "@jupyter-widgets/base",
            "top": null,
            "grid_column": null,
            "overflow_y": null,
            "overflow_x": null,
            "grid_auto_flow": null,
            "grid_area": null,
            "grid_template_columns": null,
            "flex": null,
            "_model_name": "LayoutModel",
            "justify_items": null,
            "grid_row": null,
            "max_height": null,
            "align_content": null,
            "visibility": null,
            "align_self": null,
            "height": null,
            "min_height": null,
            "padding": null,
            "grid_auto_rows": null,
            "grid_gap": null,
            "max_width": null,
            "order": null,
            "_view_module_version": "1.2.0",
            "grid_template_areas": null,
            "object_position": null,
            "object_fit": null,
            "grid_auto_columns": null,
            "margin": null,
            "display": null,
            "left": null
          }
        },
        "98361dfee61945ceae26cec25dce1fbd": {
          "model_module": "@jupyter-widgets/controls",
          "model_name": "HBoxModel",
          "model_module_version": "1.5.0",
          "state": {
            "_view_name": "HBoxView",
            "_dom_classes": [],
            "_model_name": "HBoxModel",
            "_view_module": "@jupyter-widgets/controls",
            "_model_module_version": "1.5.0",
            "_view_count": null,
            "_view_module_version": "1.5.0",
            "box_style": "",
            "layout": "IPY_MODEL_538fe556284e4225b4cd07ec72796838",
            "_model_module": "@jupyter-widgets/controls",
            "children": [
              "IPY_MODEL_76eb7de3146a436e9dd6cf66021585fa",
              "IPY_MODEL_073039428728464587283a30a4e3a698",
              "IPY_MODEL_8a1cf3887841431eb182134ca763fdf7"
            ]
          }
        },
        "538fe556284e4225b4cd07ec72796838": {
          "model_module": "@jupyter-widgets/base",
          "model_name": "LayoutModel",
          "model_module_version": "1.2.0",
          "state": {
            "_view_name": "LayoutView",
            "grid_template_rows": null,
            "right": null,
            "justify_content": null,
            "_view_module": "@jupyter-widgets/base",
            "overflow": null,
            "_model_module_version": "1.2.0",
            "_view_count": null,
            "flex_flow": null,
            "width": null,
            "min_width": null,
            "border": null,
            "align_items": null,
            "bottom": null,
            "_model_module": "@jupyter-widgets/base",
            "top": null,
            "grid_column": null,
            "overflow_y": null,
            "overflow_x": null,
            "grid_auto_flow": null,
            "grid_area": null,
            "grid_template_columns": null,
            "flex": null,
            "_model_name": "LayoutModel",
            "justify_items": null,
            "grid_row": null,
            "max_height": null,
            "align_content": null,
            "visibility": null,
            "align_self": null,
            "height": null,
            "min_height": null,
            "padding": null,
            "grid_auto_rows": null,
            "grid_gap": null,
            "max_width": null,
            "order": null,
            "_view_module_version": "1.2.0",
            "grid_template_areas": null,
            "object_position": null,
            "object_fit": null,
            "grid_auto_columns": null,
            "margin": null,
            "display": null,
            "left": null
          }
        },
        "76eb7de3146a436e9dd6cf66021585fa": {
          "model_module": "@jupyter-widgets/controls",
          "model_name": "HTMLModel",
          "model_module_version": "1.5.0",
          "state": {
            "_view_name": "HTMLView",
            "style": "IPY_MODEL_a55120585e514f7e86b508810f600df4",
            "_dom_classes": [],
            "description": "",
            "_model_name": "HTMLModel",
            "placeholder": "​",
            "_view_module": "@jupyter-widgets/controls",
            "_model_module_version": "1.5.0",
            "value": "",
            "_view_count": null,
            "_view_module_version": "1.5.0",
            "description_tooltip": null,
            "_model_module": "@jupyter-widgets/controls",
            "layout": "IPY_MODEL_a80d8ad9baa94ddc9c006d69f815d8ad"
          }
        },
        "073039428728464587283a30a4e3a698": {
          "model_module": "@jupyter-widgets/controls",
          "model_name": "FloatProgressModel",
          "model_module_version": "1.5.0",
          "state": {
            "_view_name": "ProgressView",
            "style": "IPY_MODEL_4d3680f600d64ce4a44de5af5715cb28",
            "_dom_classes": [],
            "description": "",
            "_model_name": "FloatProgressModel",
            "bar_style": "success",
            "max": 1950.2,
            "_view_module": "@jupyter-widgets/controls",
            "_model_module_version": "1.5.0",
            "value": 1950.2,
            "_view_count": null,
            "_view_module_version": "1.5.0",
            "orientation": "horizontal",
            "min": 0,
            "description_tooltip": null,
            "_model_module": "@jupyter-widgets/controls",
            "layout": "IPY_MODEL_80dd9bba983548c8aa35551acd8cddb3"
          }
        },
        "8a1cf3887841431eb182134ca763fdf7": {
          "model_module": "@jupyter-widgets/controls",
          "model_name": "HTMLModel",
          "model_module_version": "1.5.0",
          "state": {
            "_view_name": "HTMLView",
            "style": "IPY_MODEL_878a333463674d889e11306491dc63a8",
            "_dom_classes": [],
            "description": "",
            "_model_name": "HTMLModel",
            "placeholder": "​",
            "_view_module": "@jupyter-widgets/controls",
            "_model_module_version": "1.5.0",
            "value": " 1955.0/? [00:17&lt;00:00, 156.83M/s]",
            "_view_count": null,
            "_view_module_version": "1.5.0",
            "description_tooltip": null,
            "_model_module": "@jupyter-widgets/controls",
            "layout": "IPY_MODEL_74c7b3a3d9f34f418f10a45be66cffcf"
          }
        },
        "a55120585e514f7e86b508810f600df4": {
          "model_module": "@jupyter-widgets/controls",
          "model_name": "DescriptionStyleModel",
          "model_module_version": "1.5.0",
          "state": {
            "_view_name": "StyleView",
            "_model_name": "DescriptionStyleModel",
            "description_width": "",
            "_view_module": "@jupyter-widgets/base",
            "_model_module_version": "1.5.0",
            "_view_count": null,
            "_view_module_version": "1.2.0",
            "_model_module": "@jupyter-widgets/controls"
          }
        },
        "a80d8ad9baa94ddc9c006d69f815d8ad": {
          "model_module": "@jupyter-widgets/base",
          "model_name": "LayoutModel",
          "model_module_version": "1.2.0",
          "state": {
            "_view_name": "LayoutView",
            "grid_template_rows": null,
            "right": null,
            "justify_content": null,
            "_view_module": "@jupyter-widgets/base",
            "overflow": null,
            "_model_module_version": "1.2.0",
            "_view_count": null,
            "flex_flow": null,
            "width": null,
            "min_width": null,
            "border": null,
            "align_items": null,
            "bottom": null,
            "_model_module": "@jupyter-widgets/base",
            "top": null,
            "grid_column": null,
            "overflow_y": null,
            "overflow_x": null,
            "grid_auto_flow": null,
            "grid_area": null,
            "grid_template_columns": null,
            "flex": null,
            "_model_name": "LayoutModel",
            "justify_items": null,
            "grid_row": null,
            "max_height": null,
            "align_content": null,
            "visibility": null,
            "align_self": null,
            "height": null,
            "min_height": null,
            "padding": null,
            "grid_auto_rows": null,
            "grid_gap": null,
            "max_width": null,
            "order": null,
            "_view_module_version": "1.2.0",
            "grid_template_areas": null,
            "object_position": null,
            "object_fit": null,
            "grid_auto_columns": null,
            "margin": null,
            "display": null,
            "left": null
          }
        },
        "4d3680f600d64ce4a44de5af5715cb28": {
          "model_module": "@jupyter-widgets/controls",
          "model_name": "ProgressStyleModel",
          "model_module_version": "1.5.0",
          "state": {
            "_view_name": "StyleView",
            "_model_name": "ProgressStyleModel",
            "description_width": "",
            "_view_module": "@jupyter-widgets/base",
            "_model_module_version": "1.5.0",
            "_view_count": null,
            "_view_module_version": "1.2.0",
            "bar_color": null,
            "_model_module": "@jupyter-widgets/controls"
          }
        },
        "80dd9bba983548c8aa35551acd8cddb3": {
          "model_module": "@jupyter-widgets/base",
          "model_name": "LayoutModel",
          "model_module_version": "1.2.0",
          "state": {
            "_view_name": "LayoutView",
            "grid_template_rows": null,
            "right": null,
            "justify_content": null,
            "_view_module": "@jupyter-widgets/base",
            "overflow": null,
            "_model_module_version": "1.2.0",
            "_view_count": null,
            "flex_flow": null,
            "width": null,
            "min_width": null,
            "border": null,
            "align_items": null,
            "bottom": null,
            "_model_module": "@jupyter-widgets/base",
            "top": null,
            "grid_column": null,
            "overflow_y": null,
            "overflow_x": null,
            "grid_auto_flow": null,
            "grid_area": null,
            "grid_template_columns": null,
            "flex": null,
            "_model_name": "LayoutModel",
            "justify_items": null,
            "grid_row": null,
            "max_height": null,
            "align_content": null,
            "visibility": null,
            "align_self": null,
            "height": null,
            "min_height": null,
            "padding": null,
            "grid_auto_rows": null,
            "grid_gap": null,
            "max_width": null,
            "order": null,
            "_view_module_version": "1.2.0",
            "grid_template_areas": null,
            "object_position": null,
            "object_fit": null,
            "grid_auto_columns": null,
            "margin": null,
            "display": null,
            "left": null
          }
        },
        "878a333463674d889e11306491dc63a8": {
          "model_module": "@jupyter-widgets/controls",
          "model_name": "DescriptionStyleModel",
          "model_module_version": "1.5.0",
          "state": {
            "_view_name": "StyleView",
            "_model_name": "DescriptionStyleModel",
            "description_width": "",
            "_view_module": "@jupyter-widgets/base",
            "_model_module_version": "1.5.0",
            "_view_count": null,
            "_view_module_version": "1.2.0",
            "_model_module": "@jupyter-widgets/controls"
          }
        },
        "74c7b3a3d9f34f418f10a45be66cffcf": {
          "model_module": "@jupyter-widgets/base",
          "model_name": "LayoutModel",
          "model_module_version": "1.2.0",
          "state": {
            "_view_name": "LayoutView",
            "grid_template_rows": null,
            "right": null,
            "justify_content": null,
            "_view_module": "@jupyter-widgets/base",
            "overflow": null,
            "_model_module_version": "1.2.0",
            "_view_count": null,
            "flex_flow": null,
            "width": null,
            "min_width": null,
            "border": null,
            "align_items": null,
            "bottom": null,
            "_model_module": "@jupyter-widgets/base",
            "top": null,
            "grid_column": null,
            "overflow_y": null,
            "overflow_x": null,
            "grid_auto_flow": null,
            "grid_area": null,
            "grid_template_columns": null,
            "flex": null,
            "_model_name": "LayoutModel",
            "justify_items": null,
            "grid_row": null,
            "max_height": null,
            "align_content": null,
            "visibility": null,
            "align_self": null,
            "height": null,
            "min_height": null,
            "padding": null,
            "grid_auto_rows": null,
            "grid_gap": null,
            "max_width": null,
            "order": null,
            "_view_module_version": "1.2.0",
            "grid_template_areas": null,
            "object_position": null,
            "object_fit": null,
            "grid_auto_columns": null,
            "margin": null,
            "display": null,
            "left": null
          }
        },
        "1757959f63624fe59e1ed63ee9ac7308": {
          "model_module": "@jupyter-widgets/controls",
          "model_name": "HBoxModel",
          "model_module_version": "1.5.0",
          "state": {
            "_view_name": "HBoxView",
            "_dom_classes": [],
            "_model_name": "HBoxModel",
            "_view_module": "@jupyter-widgets/controls",
            "_model_module_version": "1.5.0",
            "_view_count": null,
            "_view_module_version": "1.5.0",
            "box_style": "",
            "layout": "IPY_MODEL_27c02496b36942ff967ce704595084e8",
            "_model_module": "@jupyter-widgets/controls",
            "children": [
              "IPY_MODEL_00cd281bc8864dd89f68b1ccb0f403f5",
              "IPY_MODEL_5fe0538f00784e26bd4bba43bd757b6f",
              "IPY_MODEL_ebeed1a59f1e4d739081bc77ebadda95"
            ]
          }
        },
        "27c02496b36942ff967ce704595084e8": {
          "model_module": "@jupyter-widgets/base",
          "model_name": "LayoutModel",
          "model_module_version": "1.2.0",
          "state": {
            "_view_name": "LayoutView",
            "grid_template_rows": null,
            "right": null,
            "justify_content": null,
            "_view_module": "@jupyter-widgets/base",
            "overflow": null,
            "_model_module_version": "1.2.0",
            "_view_count": null,
            "flex_flow": null,
            "width": null,
            "min_width": null,
            "border": null,
            "align_items": null,
            "bottom": null,
            "_model_module": "@jupyter-widgets/base",
            "top": null,
            "grid_column": null,
            "overflow_y": null,
            "overflow_x": null,
            "grid_auto_flow": null,
            "grid_area": null,
            "grid_template_columns": null,
            "flex": null,
            "_model_name": "LayoutModel",
            "justify_items": null,
            "grid_row": null,
            "max_height": null,
            "align_content": null,
            "visibility": null,
            "align_self": null,
            "height": null,
            "min_height": null,
            "padding": null,
            "grid_auto_rows": null,
            "grid_gap": null,
            "max_width": null,
            "order": null,
            "_view_module_version": "1.2.0",
            "grid_template_areas": null,
            "object_position": null,
            "object_fit": null,
            "grid_auto_columns": null,
            "margin": null,
            "display": null,
            "left": null
          }
        },
        "00cd281bc8864dd89f68b1ccb0f403f5": {
          "model_module": "@jupyter-widgets/controls",
          "model_name": "HTMLModel",
          "model_module_version": "1.5.0",
          "state": {
            "_view_name": "HTMLView",
            "style": "IPY_MODEL_088ff2a5dee3455da2e08b0a23a5e94b",
            "_dom_classes": [],
            "description": "",
            "_model_name": "HTMLModel",
            "placeholder": "​",
            "_view_module": "@jupyter-widgets/controls",
            "_model_module_version": "1.5.0",
            "value": "",
            "_view_count": null,
            "_view_module_version": "1.5.0",
            "description_tooltip": null,
            "_model_module": "@jupyter-widgets/controls",
            "layout": "IPY_MODEL_1e190c09e53c4e4b978da1c8d2653d34"
          }
        },
        "5fe0538f00784e26bd4bba43bd757b6f": {
          "model_module": "@jupyter-widgets/controls",
          "model_name": "FloatProgressModel",
          "model_module_version": "1.5.0",
          "state": {
            "_view_name": "ProgressView",
            "style": "IPY_MODEL_dad6204603e4478a9ceeb82d93cbe521",
            "_dom_classes": [],
            "description": "",
            "_model_name": "FloatProgressModel",
            "bar_style": "success",
            "max": 1922.3,
            "_view_module": "@jupyter-widgets/controls",
            "_model_module_version": "1.5.0",
            "value": 1922.3,
            "_view_count": null,
            "_view_module_version": "1.5.0",
            "orientation": "horizontal",
            "min": 0,
            "description_tooltip": null,
            "_model_module": "@jupyter-widgets/controls",
            "layout": "IPY_MODEL_079145c90fb5437c848b106981ef643b"
          }
        },
        "ebeed1a59f1e4d739081bc77ebadda95": {
          "model_module": "@jupyter-widgets/controls",
          "model_name": "HTMLModel",
          "model_module_version": "1.5.0",
          "state": {
            "_view_name": "HTMLView",
            "style": "IPY_MODEL_9bc7944564274906b353880834521460",
            "_dom_classes": [],
            "description": "",
            "_model_name": "HTMLModel",
            "placeholder": "​",
            "_view_module": "@jupyter-widgets/controls",
            "_model_module_version": "1.5.0",
            "value": " 1925.0/? [00:17&lt;00:00, 162.20M/s]",
            "_view_count": null,
            "_view_module_version": "1.5.0",
            "description_tooltip": null,
            "_model_module": "@jupyter-widgets/controls",
            "layout": "IPY_MODEL_0582c368a124456a87a9a8eee1a89f0d"
          }
        },
        "088ff2a5dee3455da2e08b0a23a5e94b": {
          "model_module": "@jupyter-widgets/controls",
          "model_name": "DescriptionStyleModel",
          "model_module_version": "1.5.0",
          "state": {
            "_view_name": "StyleView",
            "_model_name": "DescriptionStyleModel",
            "description_width": "",
            "_view_module": "@jupyter-widgets/base",
            "_model_module_version": "1.5.0",
            "_view_count": null,
            "_view_module_version": "1.2.0",
            "_model_module": "@jupyter-widgets/controls"
          }
        },
        "1e190c09e53c4e4b978da1c8d2653d34": {
          "model_module": "@jupyter-widgets/base",
          "model_name": "LayoutModel",
          "model_module_version": "1.2.0",
          "state": {
            "_view_name": "LayoutView",
            "grid_template_rows": null,
            "right": null,
            "justify_content": null,
            "_view_module": "@jupyter-widgets/base",
            "overflow": null,
            "_model_module_version": "1.2.0",
            "_view_count": null,
            "flex_flow": null,
            "width": null,
            "min_width": null,
            "border": null,
            "align_items": null,
            "bottom": null,
            "_model_module": "@jupyter-widgets/base",
            "top": null,
            "grid_column": null,
            "overflow_y": null,
            "overflow_x": null,
            "grid_auto_flow": null,
            "grid_area": null,
            "grid_template_columns": null,
            "flex": null,
            "_model_name": "LayoutModel",
            "justify_items": null,
            "grid_row": null,
            "max_height": null,
            "align_content": null,
            "visibility": null,
            "align_self": null,
            "height": null,
            "min_height": null,
            "padding": null,
            "grid_auto_rows": null,
            "grid_gap": null,
            "max_width": null,
            "order": null,
            "_view_module_version": "1.2.0",
            "grid_template_areas": null,
            "object_position": null,
            "object_fit": null,
            "grid_auto_columns": null,
            "margin": null,
            "display": null,
            "left": null
          }
        },
        "dad6204603e4478a9ceeb82d93cbe521": {
          "model_module": "@jupyter-widgets/controls",
          "model_name": "ProgressStyleModel",
          "model_module_version": "1.5.0",
          "state": {
            "_view_name": "StyleView",
            "_model_name": "ProgressStyleModel",
            "description_width": "",
            "_view_module": "@jupyter-widgets/base",
            "_model_module_version": "1.5.0",
            "_view_count": null,
            "_view_module_version": "1.2.0",
            "bar_color": null,
            "_model_module": "@jupyter-widgets/controls"
          }
        },
        "079145c90fb5437c848b106981ef643b": {
          "model_module": "@jupyter-widgets/base",
          "model_name": "LayoutModel",
          "model_module_version": "1.2.0",
          "state": {
            "_view_name": "LayoutView",
            "grid_template_rows": null,
            "right": null,
            "justify_content": null,
            "_view_module": "@jupyter-widgets/base",
            "overflow": null,
            "_model_module_version": "1.2.0",
            "_view_count": null,
            "flex_flow": null,
            "width": null,
            "min_width": null,
            "border": null,
            "align_items": null,
            "bottom": null,
            "_model_module": "@jupyter-widgets/base",
            "top": null,
            "grid_column": null,
            "overflow_y": null,
            "overflow_x": null,
            "grid_auto_flow": null,
            "grid_area": null,
            "grid_template_columns": null,
            "flex": null,
            "_model_name": "LayoutModel",
            "justify_items": null,
            "grid_row": null,
            "max_height": null,
            "align_content": null,
            "visibility": null,
            "align_self": null,
            "height": null,
            "min_height": null,
            "padding": null,
            "grid_auto_rows": null,
            "grid_gap": null,
            "max_width": null,
            "order": null,
            "_view_module_version": "1.2.0",
            "grid_template_areas": null,
            "object_position": null,
            "object_fit": null,
            "grid_auto_columns": null,
            "margin": null,
            "display": null,
            "left": null
          }
        },
        "9bc7944564274906b353880834521460": {
          "model_module": "@jupyter-widgets/controls",
          "model_name": "DescriptionStyleModel",
          "model_module_version": "1.5.0",
          "state": {
            "_view_name": "StyleView",
            "_model_name": "DescriptionStyleModel",
            "description_width": "",
            "_view_module": "@jupyter-widgets/base",
            "_model_module_version": "1.5.0",
            "_view_count": null,
            "_view_module_version": "1.2.0",
            "_model_module": "@jupyter-widgets/controls"
          }
        },
        "0582c368a124456a87a9a8eee1a89f0d": {
          "model_module": "@jupyter-widgets/base",
          "model_name": "LayoutModel",
          "model_module_version": "1.2.0",
          "state": {
            "_view_name": "LayoutView",
            "grid_template_rows": null,
            "right": null,
            "justify_content": null,
            "_view_module": "@jupyter-widgets/base",
            "overflow": null,
            "_model_module_version": "1.2.0",
            "_view_count": null,
            "flex_flow": null,
            "width": null,
            "min_width": null,
            "border": null,
            "align_items": null,
            "bottom": null,
            "_model_module": "@jupyter-widgets/base",
            "top": null,
            "grid_column": null,
            "overflow_y": null,
            "overflow_x": null,
            "grid_auto_flow": null,
            "grid_area": null,
            "grid_template_columns": null,
            "flex": null,
            "_model_name": "LayoutModel",
            "justify_items": null,
            "grid_row": null,
            "max_height": null,
            "align_content": null,
            "visibility": null,
            "align_self": null,
            "height": null,
            "min_height": null,
            "padding": null,
            "grid_auto_rows": null,
            "grid_gap": null,
            "max_width": null,
            "order": null,
            "_view_module_version": "1.2.0",
            "grid_template_areas": null,
            "object_position": null,
            "object_fit": null,
            "grid_auto_columns": null,
            "margin": null,
            "display": null,
            "left": null
          }
        },
        "809555c7d4994aec9908d59a504f59dd": {
          "model_module": "@jupyter-widgets/controls",
          "model_name": "HBoxModel",
          "model_module_version": "1.5.0",
          "state": {
            "_view_name": "HBoxView",
            "_dom_classes": [],
            "_model_name": "HBoxModel",
            "_view_module": "@jupyter-widgets/controls",
            "_model_module_version": "1.5.0",
            "_view_count": null,
            "_view_module_version": "1.5.0",
            "box_style": "",
            "layout": "IPY_MODEL_601387627ec545c0b879788da85d51cd",
            "_model_module": "@jupyter-widgets/controls",
            "children": [
              "IPY_MODEL_042a59e7b25a443d9dded161dfed6d46",
              "IPY_MODEL_d64f8df3af624a7193a55f019f316eb7",
              "IPY_MODEL_9112dd8f4eba48e6b1f42c822d7c0919"
            ]
          }
        },
        "601387627ec545c0b879788da85d51cd": {
          "model_module": "@jupyter-widgets/base",
          "model_name": "LayoutModel",
          "model_module_version": "1.2.0",
          "state": {
            "_view_name": "LayoutView",
            "grid_template_rows": null,
            "right": null,
            "justify_content": null,
            "_view_module": "@jupyter-widgets/base",
            "overflow": null,
            "_model_module_version": "1.2.0",
            "_view_count": null,
            "flex_flow": null,
            "width": null,
            "min_width": null,
            "border": null,
            "align_items": null,
            "bottom": null,
            "_model_module": "@jupyter-widgets/base",
            "top": null,
            "grid_column": null,
            "overflow_y": null,
            "overflow_x": null,
            "grid_auto_flow": null,
            "grid_area": null,
            "grid_template_columns": null,
            "flex": null,
            "_model_name": "LayoutModel",
            "justify_items": null,
            "grid_row": null,
            "max_height": null,
            "align_content": null,
            "visibility": null,
            "align_self": null,
            "height": null,
            "min_height": null,
            "padding": null,
            "grid_auto_rows": null,
            "grid_gap": null,
            "max_width": null,
            "order": null,
            "_view_module_version": "1.2.0",
            "grid_template_areas": null,
            "object_position": null,
            "object_fit": null,
            "grid_auto_columns": null,
            "margin": null,
            "display": null,
            "left": null
          }
        },
        "042a59e7b25a443d9dded161dfed6d46": {
          "model_module": "@jupyter-widgets/controls",
          "model_name": "HTMLModel",
          "model_module_version": "1.5.0",
          "state": {
            "_view_name": "HTMLView",
            "style": "IPY_MODEL_be80ab6012b441b1ba668723acc013c8",
            "_dom_classes": [],
            "description": "",
            "_model_name": "HTMLModel",
            "placeholder": "​",
            "_view_module": "@jupyter-widgets/controls",
            "_model_module_version": "1.5.0",
            "value": "",
            "_view_count": null,
            "_view_module_version": "1.5.0",
            "description_tooltip": null,
            "_model_module": "@jupyter-widgets/controls",
            "layout": "IPY_MODEL_b334603efaf742d98ab0fdd6f49cceb0"
          }
        },
        "d64f8df3af624a7193a55f019f316eb7": {
          "model_module": "@jupyter-widgets/controls",
          "model_name": "FloatProgressModel",
          "model_module_version": "1.5.0",
          "state": {
            "_view_name": "ProgressView",
            "style": "IPY_MODEL_b530d766c1b9460fb0f43064fdf205b1",
            "_dom_classes": [],
            "description": "",
            "_model_name": "FloatProgressModel",
            "bar_style": "success",
            "max": 10.4,
            "_view_module": "@jupyter-widgets/controls",
            "_model_module_version": "1.5.0",
            "value": 10.4,
            "_view_count": null,
            "_view_module_version": "1.5.0",
            "orientation": "horizontal",
            "min": 0,
            "description_tooltip": null,
            "_model_module": "@jupyter-widgets/controls",
            "layout": "IPY_MODEL_1ffd77b40eba4912aa8ff4de22cc2b1a"
          }
        },
        "9112dd8f4eba48e6b1f42c822d7c0919": {
          "model_module": "@jupyter-widgets/controls",
          "model_name": "HTMLModel",
          "model_module_version": "1.5.0",
          "state": {
            "_view_name": "HTMLView",
            "style": "IPY_MODEL_8f99ff6415f84612abb0bd63445b44c7",
            "_dom_classes": [],
            "description": "",
            "_model_name": "HTMLModel",
            "placeholder": "​",
            "_view_module": "@jupyter-widgets/controls",
            "_model_module_version": "1.5.0",
            "value": " 15.0/? [00:00&lt;00:00, 24.89M/s]",
            "_view_count": null,
            "_view_module_version": "1.5.0",
            "description_tooltip": null,
            "_model_module": "@jupyter-widgets/controls",
            "layout": "IPY_MODEL_0836a89931834b1a9bcb93d0753c3bf8"
          }
        },
        "be80ab6012b441b1ba668723acc013c8": {
          "model_module": "@jupyter-widgets/controls",
          "model_name": "DescriptionStyleModel",
          "model_module_version": "1.5.0",
          "state": {
            "_view_name": "StyleView",
            "_model_name": "DescriptionStyleModel",
            "description_width": "",
            "_view_module": "@jupyter-widgets/base",
            "_model_module_version": "1.5.0",
            "_view_count": null,
            "_view_module_version": "1.2.0",
            "_model_module": "@jupyter-widgets/controls"
          }
        },
        "b334603efaf742d98ab0fdd6f49cceb0": {
          "model_module": "@jupyter-widgets/base",
          "model_name": "LayoutModel",
          "model_module_version": "1.2.0",
          "state": {
            "_view_name": "LayoutView",
            "grid_template_rows": null,
            "right": null,
            "justify_content": null,
            "_view_module": "@jupyter-widgets/base",
            "overflow": null,
            "_model_module_version": "1.2.0",
            "_view_count": null,
            "flex_flow": null,
            "width": null,
            "min_width": null,
            "border": null,
            "align_items": null,
            "bottom": null,
            "_model_module": "@jupyter-widgets/base",
            "top": null,
            "grid_column": null,
            "overflow_y": null,
            "overflow_x": null,
            "grid_auto_flow": null,
            "grid_area": null,
            "grid_template_columns": null,
            "flex": null,
            "_model_name": "LayoutModel",
            "justify_items": null,
            "grid_row": null,
            "max_height": null,
            "align_content": null,
            "visibility": null,
            "align_self": null,
            "height": null,
            "min_height": null,
            "padding": null,
            "grid_auto_rows": null,
            "grid_gap": null,
            "max_width": null,
            "order": null,
            "_view_module_version": "1.2.0",
            "grid_template_areas": null,
            "object_position": null,
            "object_fit": null,
            "grid_auto_columns": null,
            "margin": null,
            "display": null,
            "left": null
          }
        },
        "b530d766c1b9460fb0f43064fdf205b1": {
          "model_module": "@jupyter-widgets/controls",
          "model_name": "ProgressStyleModel",
          "model_module_version": "1.5.0",
          "state": {
            "_view_name": "StyleView",
            "_model_name": "ProgressStyleModel",
            "description_width": "",
            "_view_module": "@jupyter-widgets/base",
            "_model_module_version": "1.5.0",
            "_view_count": null,
            "_view_module_version": "1.2.0",
            "bar_color": null,
            "_model_module": "@jupyter-widgets/controls"
          }
        },
        "1ffd77b40eba4912aa8ff4de22cc2b1a": {
          "model_module": "@jupyter-widgets/base",
          "model_name": "LayoutModel",
          "model_module_version": "1.2.0",
          "state": {
            "_view_name": "LayoutView",
            "grid_template_rows": null,
            "right": null,
            "justify_content": null,
            "_view_module": "@jupyter-widgets/base",
            "overflow": null,
            "_model_module_version": "1.2.0",
            "_view_count": null,
            "flex_flow": null,
            "width": null,
            "min_width": null,
            "border": null,
            "align_items": null,
            "bottom": null,
            "_model_module": "@jupyter-widgets/base",
            "top": null,
            "grid_column": null,
            "overflow_y": null,
            "overflow_x": null,
            "grid_auto_flow": null,
            "grid_area": null,
            "grid_template_columns": null,
            "flex": null,
            "_model_name": "LayoutModel",
            "justify_items": null,
            "grid_row": null,
            "max_height": null,
            "align_content": null,
            "visibility": null,
            "align_self": null,
            "height": null,
            "min_height": null,
            "padding": null,
            "grid_auto_rows": null,
            "grid_gap": null,
            "max_width": null,
            "order": null,
            "_view_module_version": "1.2.0",
            "grid_template_areas": null,
            "object_position": null,
            "object_fit": null,
            "grid_auto_columns": null,
            "margin": null,
            "display": null,
            "left": null
          }
        },
        "8f99ff6415f84612abb0bd63445b44c7": {
          "model_module": "@jupyter-widgets/controls",
          "model_name": "DescriptionStyleModel",
          "model_module_version": "1.5.0",
          "state": {
            "_view_name": "StyleView",
            "_model_name": "DescriptionStyleModel",
            "description_width": "",
            "_view_module": "@jupyter-widgets/base",
            "_model_module_version": "1.5.0",
            "_view_count": null,
            "_view_module_version": "1.2.0",
            "_model_module": "@jupyter-widgets/controls"
          }
        },
        "0836a89931834b1a9bcb93d0753c3bf8": {
          "model_module": "@jupyter-widgets/base",
          "model_name": "LayoutModel",
          "model_module_version": "1.2.0",
          "state": {
            "_view_name": "LayoutView",
            "grid_template_rows": null,
            "right": null,
            "justify_content": null,
            "_view_module": "@jupyter-widgets/base",
            "overflow": null,
            "_model_module_version": "1.2.0",
            "_view_count": null,
            "flex_flow": null,
            "width": null,
            "min_width": null,
            "border": null,
            "align_items": null,
            "bottom": null,
            "_model_module": "@jupyter-widgets/base",
            "top": null,
            "grid_column": null,
            "overflow_y": null,
            "overflow_x": null,
            "grid_auto_flow": null,
            "grid_area": null,
            "grid_template_columns": null,
            "flex": null,
            "_model_name": "LayoutModel",
            "justify_items": null,
            "grid_row": null,
            "max_height": null,
            "align_content": null,
            "visibility": null,
            "align_self": null,
            "height": null,
            "min_height": null,
            "padding": null,
            "grid_auto_rows": null,
            "grid_gap": null,
            "max_width": null,
            "order": null,
            "_view_module_version": "1.2.0",
            "grid_template_areas": null,
            "object_position": null,
            "object_fit": null,
            "grid_auto_columns": null,
            "margin": null,
            "display": null,
            "left": null
          }
        }
      }
    }
  },
  "cells": [
    {
      "cell_type": "markdown",
      "metadata": {
        "id": "qK9TYE9RXjPs"
      },
      "source": [
        "# setup"
      ]
    },
    {
      "cell_type": "code",
      "metadata": {
        "id": "oojSL6aAZD9w",
        "colab": {
          "base_uri": "https://localhost:8080/"
        },
        "outputId": "0dede179-55f6-4e17-859f-db45abddd024"
      },
      "source": [
        "from google.colab import drive\n",
        "drive.mount('/content/drive')"
      ],
      "execution_count": 1,
      "outputs": [
        {
          "output_type": "stream",
          "name": "stdout",
          "text": [
            "Mounted at /content/drive\n"
          ]
        }
      ]
    },
    {
      "cell_type": "code",
      "metadata": {
        "id": "HgiQdO9J7AdH"
      },
      "source": [
        "import warnings\n",
        "warnings.filterwarnings('ignore')"
      ],
      "execution_count": 37,
      "outputs": []
    },
    {
      "cell_type": "code",
      "metadata": {
        "id": "c4kREH6W5NLK",
        "colab": {
          "base_uri": "https://localhost:8080/"
        },
        "outputId": "811010b3-10e9-4380-afe1-2da2f864811f"
      },
      "source": [
        "!pip install catboost"
      ],
      "execution_count": 2,
      "outputs": [
        {
          "output_type": "stream",
          "name": "stdout",
          "text": [
            "Collecting catboost\n",
            "  Downloading catboost-1.0.0-cp37-none-manylinux1_x86_64.whl (76.4 MB)\n",
            "\u001b[K     |████████████████████████████████| 76.4 MB 36 kB/s \n",
            "\u001b[?25hRequirement already satisfied: matplotlib in /usr/local/lib/python3.7/dist-packages (from catboost) (3.2.2)\n",
            "Requirement already satisfied: numpy>=1.16.0 in /usr/local/lib/python3.7/dist-packages (from catboost) (1.19.5)\n",
            "Requirement already satisfied: pandas>=0.24.0 in /usr/local/lib/python3.7/dist-packages (from catboost) (1.1.5)\n",
            "Requirement already satisfied: graphviz in /usr/local/lib/python3.7/dist-packages (from catboost) (0.10.1)\n",
            "Requirement already satisfied: plotly in /usr/local/lib/python3.7/dist-packages (from catboost) (4.4.1)\n",
            "Requirement already satisfied: six in /usr/local/lib/python3.7/dist-packages (from catboost) (1.15.0)\n",
            "Requirement already satisfied: scipy in /usr/local/lib/python3.7/dist-packages (from catboost) (1.4.1)\n",
            "Requirement already satisfied: python-dateutil>=2.7.3 in /usr/local/lib/python3.7/dist-packages (from pandas>=0.24.0->catboost) (2.8.2)\n",
            "Requirement already satisfied: pytz>=2017.2 in /usr/local/lib/python3.7/dist-packages (from pandas>=0.24.0->catboost) (2018.9)\n",
            "Requirement already satisfied: pyparsing!=2.0.4,!=2.1.2,!=2.1.6,>=2.0.1 in /usr/local/lib/python3.7/dist-packages (from matplotlib->catboost) (2.4.7)\n",
            "Requirement already satisfied: cycler>=0.10 in /usr/local/lib/python3.7/dist-packages (from matplotlib->catboost) (0.10.0)\n",
            "Requirement already satisfied: kiwisolver>=1.0.1 in /usr/local/lib/python3.7/dist-packages (from matplotlib->catboost) (1.3.2)\n",
            "Requirement already satisfied: retrying>=1.3.3 in /usr/local/lib/python3.7/dist-packages (from plotly->catboost) (1.3.3)\n",
            "Installing collected packages: catboost\n",
            "Successfully installed catboost-1.0.0\n"
          ]
        }
      ]
    },
    {
      "cell_type": "code",
      "metadata": {
        "id": "WHP5gU2Er4eR",
        "colab": {
          "base_uri": "https://localhost:8080/"
        },
        "outputId": "d325778b-0c95-4177-a211-17bed3ba0933"
      },
      "source": [
        "!pip install radiant_mlhub"
      ],
      "execution_count": 3,
      "outputs": [
        {
          "output_type": "stream",
          "name": "stdout",
          "text": [
            "Collecting radiant_mlhub\n",
            "  Downloading radiant_mlhub-0.3.0-py3-none-any.whl (30 kB)\n",
            "Collecting requests~=2.25\n",
            "  Downloading requests-2.26.0-py2.py3-none-any.whl (62 kB)\n",
            "\u001b[K     |████████████████████████████████| 62 kB 576 kB/s \n",
            "\u001b[?25hCollecting pystac~=1.1\n",
            "  Downloading pystac-1.1.0-py3-none-any.whl (201 kB)\n",
            "\u001b[K     |████████████████████████████████| 201 kB 70.8 MB/s \n",
            "\u001b[?25hRequirement already satisfied: tqdm~=4.56 in /usr/local/lib/python3.7/dist-packages (from radiant_mlhub) (4.62.3)\n",
            "Requirement already satisfied: click<9.0.0,>=7.1.2 in /usr/local/lib/python3.7/dist-packages (from radiant_mlhub) (7.1.2)\n",
            "Requirement already satisfied: typing-extensions>=3.7 in /usr/local/lib/python3.7/dist-packages (from pystac~=1.1->radiant_mlhub) (3.7.4.3)\n",
            "Requirement already satisfied: python-dateutil>=2.7.0 in /usr/local/lib/python3.7/dist-packages (from pystac~=1.1->radiant_mlhub) (2.8.2)\n",
            "Requirement already satisfied: six>=1.5 in /usr/local/lib/python3.7/dist-packages (from python-dateutil>=2.7.0->pystac~=1.1->radiant_mlhub) (1.15.0)\n",
            "Requirement already satisfied: charset-normalizer~=2.0.0 in /usr/local/lib/python3.7/dist-packages (from requests~=2.25->radiant_mlhub) (2.0.6)\n",
            "Requirement already satisfied: urllib3<1.27,>=1.21.1 in /usr/local/lib/python3.7/dist-packages (from requests~=2.25->radiant_mlhub) (1.24.3)\n",
            "Requirement already satisfied: idna<4,>=2.5 in /usr/local/lib/python3.7/dist-packages (from requests~=2.25->radiant_mlhub) (2.10)\n",
            "Requirement already satisfied: certifi>=2017.4.17 in /usr/local/lib/python3.7/dist-packages (from requests~=2.25->radiant_mlhub) (2021.5.30)\n",
            "Installing collected packages: requests, pystac, radiant-mlhub\n",
            "  Attempting uninstall: requests\n",
            "    Found existing installation: requests 2.23.0\n",
            "    Uninstalling requests-2.23.0:\n",
            "      Successfully uninstalled requests-2.23.0\n",
            "\u001b[31mERROR: pip's dependency resolver does not currently take into account all the packages that are installed. This behaviour is the source of the following dependency conflicts.\n",
            "google-colab 1.0.0 requires requests~=2.23.0, but you have requests 2.26.0 which is incompatible.\n",
            "datascience 0.10.6 requires folium==0.2.1, but you have folium 0.8.3 which is incompatible.\u001b[0m\n",
            "Successfully installed pystac-1.1.0 radiant-mlhub-0.3.0 requests-2.26.0\n"
          ]
        }
      ]
    },
    {
      "cell_type": "code",
      "metadata": {
        "id": "QZr2xA4x53q6",
        "colab": {
          "base_uri": "https://localhost:8080/"
        },
        "outputId": "e1ca0273-4b2a-4303-87eb-dd9b635fa76d"
      },
      "source": [
        "!pip install rasterio"
      ],
      "execution_count": 4,
      "outputs": [
        {
          "output_type": "stream",
          "name": "stdout",
          "text": [
            "Collecting rasterio\n",
            "  Downloading rasterio-1.2.9-cp37-cp37m-manylinux1_x86_64.whl (19.3 MB)\n",
            "\u001b[K     |████████████████████████████████| 19.3 MB 168 kB/s \n",
            "\u001b[?25hRequirement already satisfied: attrs in /usr/local/lib/python3.7/dist-packages (from rasterio) (21.2.0)\n",
            "Collecting click-plugins\n",
            "  Downloading click_plugins-1.1.1-py2.py3-none-any.whl (7.5 kB)\n",
            "Requirement already satisfied: setuptools in /usr/local/lib/python3.7/dist-packages (from rasterio) (57.4.0)\n",
            "Collecting snuggs>=1.4.1\n",
            "  Downloading snuggs-1.4.7-py3-none-any.whl (5.4 kB)\n",
            "Requirement already satisfied: certifi in /usr/local/lib/python3.7/dist-packages (from rasterio) (2021.5.30)\n",
            "Requirement already satisfied: numpy in /usr/local/lib/python3.7/dist-packages (from rasterio) (1.19.5)\n",
            "Collecting affine\n",
            "  Downloading affine-2.3.0-py2.py3-none-any.whl (15 kB)\n",
            "Requirement already satisfied: click>=4.0 in /usr/local/lib/python3.7/dist-packages (from rasterio) (7.1.2)\n",
            "Collecting cligj>=0.5\n",
            "  Downloading cligj-0.7.2-py3-none-any.whl (7.1 kB)\n",
            "Requirement already satisfied: pyparsing>=2.1.6 in /usr/local/lib/python3.7/dist-packages (from snuggs>=1.4.1->rasterio) (2.4.7)\n",
            "Installing collected packages: snuggs, cligj, click-plugins, affine, rasterio\n",
            "Successfully installed affine-2.3.0 click-plugins-1.1.1 cligj-0.7.2 rasterio-1.2.9 snuggs-1.4.7\n"
          ]
        }
      ]
    },
    {
      "cell_type": "code",
      "metadata": {
        "id": "5xV7Oc59r84X"
      },
      "source": [
        "\n",
        "# Required libraries\n",
        "import os\n",
        "import tarfile\n",
        "import json\n",
        "import pandas as pd\n",
        "from pathlib import Path\n",
        "from radiant_mlhub.client import _download as download_file\n",
        "\n",
        "import datetime\n",
        "import rasterio\n",
        "import numpy as np\n",
        "import pandas as pd\n",
        "from matplotlib import pyplot as plt\n",
        "from scipy import ndimage \n",
        "import numpy.ma as ma\n",
        "\n",
        "from sklearn.ensemble import RandomForestClassifier\n",
        "from sklearn.metrics import log_loss\n",
        "from sklearn.model_selection import StratifiedShuffleSplit"
      ],
      "execution_count": 5,
      "outputs": []
    },
    {
      "cell_type": "markdown",
      "metadata": {
        "id": "lj5H5pgRjdKV"
      },
      "source": [
        "# loading data"
      ]
    },
    {
      "cell_type": "code",
      "metadata": {
        "id": "ugr-INkP1xeq"
      },
      "source": [
        "DOWNLOAD_S1 = True # If you set this to true then the Sentinel-1 data will be downloaded\n",
        "\n",
        "# Select which imagery bands you'd like to download here\n",
        "DOWNLOAD_BANDS = {\n",
        "    'B01': True,\n",
        "    'B02': True,\n",
        "    'B03': True,\n",
        "    'B04': True,\n",
        "    'B05': True,\n",
        "    'B06': True,\n",
        "    'B07': True,\n",
        "    'B08': True,\n",
        "    'B8A': True,\n",
        "    'B09': True,\n",
        "    \n",
        "    'B11': True,\n",
        "    'B12': True,\n",
        "    'CLM': True\n",
        "}"
      ],
      "execution_count": 11,
      "outputs": []
    },
    {
      "cell_type": "code",
      "metadata": {
        "colab": {
          "base_uri": "https://localhost:8080/",
          "height": 0,
          "referenced_widgets": [
            "ea9f924ae3a44a3da6d4c326b5bf0a9a",
            "99c260e806b6438a87b1125ae56ceb62",
            "9d2bf23652004c15ab593499cacf3c94",
            "e094d152b8c040e6bb2a9f658b060634",
            "f687c0ab224c4eb5b97ad4f97ceca883",
            "b8abe96f1cc840559eee94303cac7e8c",
            "cbc8d31af33546ff913ad962d5998530",
            "c072327180be40d2a570048fdf22d3ef",
            "b0bec167072b4e5abbff18a2a9e4161b",
            "7c610cca900047d8a98c58a0ae85e0bc",
            "e796e1fcb1af4fa7be0ba32d6666d234",
            "3c4aa0e7d6fa42dbac6b932e2ec742a0",
            "a9f9acf437c04b1da3d5acb5c3b2aa85",
            "9b94afea97614686a579130a982b97ae",
            "3160ec739be94745b8145b54661faab6",
            "b0801a958797464aa172238f400e8e73",
            "21bd7306db364d4a931bf65c1da7bed2",
            "3629155f9b624cdba08222de523c6105",
            "8b63839535384119bddac75396702bb6",
            "977a8850b4854e8aa34dd74d4b4c64aa",
            "5b18e9e91d1f4e959b9577adafe84fb6",
            "93f5037e090c4de3b42db827420b82c5",
            "8e6fe0d77c8a44bdb42d5c96981c2ff3",
            "d577aacc8fc646ff93505f7cec08e5db",
            "a2f1a7fd98294225a4867fcbdc39fa82",
            "1eacd56e0ea64b8c9e28e8a761319231",
            "699929872619465185d4c84c96262460",
            "eaf40d2132cb4f8aad01dc1f158e2a42",
            "65010824219449e09be83450f637337c",
            "edfcaba8e4924fcb913dc8862ca439e0",
            "0fe42c7cc7c94de9b9f8fee077467c51",
            "d54a13b4689a438196bf4d0c8ea6981c",
            "73b8f800226f40e184583a67d97195b0",
            "25de29c21f9a4d30b2143c01125c7a0d",
            "73970a0ea9ad413593fe295d7a9de93e",
            "e77981f54f58405384b9b96887fcf632",
            "4eff6aa837cf479dbb1185099f427eb9",
            "666acac4b8dd4bc78b85d1f830698cfb",
            "136acff51941473caf7cb4f9c6d72555",
            "cdebf9144cbf464aa2f7610c82a30dd0",
            "afd4e4a088f144259a236003c8ed19c8",
            "3c0d0b2ee76c44e7860add959cbbfbc0",
            "23580b6e15c94bc39238cd7c922b8f64",
            "4784e823b7f749f38aa8d9538b274a4b",
            "e633326d91804f93a282be1199109552",
            "3da8f5c9d3d84436b6e5e56008d50ba7",
            "733b393f04a24f139d82d2568854a9d9",
            "cda9dcec635344d4bfd4f8bdb8494058",
            "97f04ebb3ef44529a357ce3231433689",
            "6d38ec6507b6438d84352ef9f73a863d",
            "19a8f4199af6419f8b838a910a6adc8a",
            "dde5805bf1a44d32af4080d7dfaa8cc3",
            "5ee35d9eafec4ba6ac25a6dae983f8a5",
            "89e11c2625cb4d6e903bb3a138f0b519",
            "c708cbaca60542c8b6af17403a5beec7",
            "6430e8bf0bb94592b18d5dea595807d4",
            "077d4fff23fe485c97ae4c9274225fba",
            "720c5c72e323474587d40470de9f8b94",
            "efc73d5414774d5c9f1af083ee877fad",
            "1c353997edcd47a49e76c5751c82091c",
            "182d27c9ffbd44c3aa65fdcdc902794d",
            "bb1ca15288f04e6697cd0ab5a864dd28",
            "a66a30b05f4e498c899554f27353b56f",
            "4a6b67c0684849eea6ce82f1a1a5d1a8",
            "34ed86387f094d9ba8553a8861be56d2",
            "cf6e1937d3344efaa8cdb224c35e6b64",
            "a412f9f785c74bff9ba3a0f2dffe222c",
            "02b4f32487cf48fb9720e2e5477758c0",
            "3d613bf4bc5a4834bf0e18c5075f81fa",
            "4a730febb8e14ce4bb9f67c4e631fd2b",
            "dea39aefde744d9495b427caf9bdfeda",
            "f4078ee645cc4ee0bc4420340c690b38",
            "86b1e34450bd476ca897551fda199beb",
            "fb5cfe9d3c374f538035b3f36f58faed",
            "5d07cbe68d994f70a8119d088c5dbd7b",
            "009134c20fce4de184abd910bc9af810",
            "5319710e3be449fbaccc05c5337bbbf1",
            "1c078742ab404c159e0b3dc0c9933923",
            "9393c76c850d4b22beaf65f4e6495b46",
            "4de2cb520906448e8e78f10b3aaccf9b",
            "151382c8889c4acc982fabec01d9b2b0",
            "59312b89d3a04edeaacce141fc2fec7f",
            "bca116d9abd846038f79c33022656c14",
            "fde43ec8559d47c7a753b2635b6e54af",
            "6c9ed0f973ea4205972765bb9e0826e0",
            "11a7b967cf274e7c9ba02166e35d2511",
            "e83e97e5075d4b6e983117e52db4c143",
            "ad309b640348492d9d93009cf8a721f5",
            "8866cb6b003646218bdec48c228ed569",
            "56f6a3d40b254d668f458ba7e189b187",
            "72cd4d03a8864f459eb335e18c941ee3",
            "cb7c0016c77e4c3d85f1b62c574b9bda",
            "324e737c4ff9473f8588e653595310b7",
            "2c25fb16c7024a5084fedfe2195d3eed",
            "bd1c642d70de4ca5a4f37a4e1e16504a",
            "9603f33b3acd4ffb9d29369d19c8931b",
            "30be371b98684f969e9bdeafa5ad82d8",
            "1bfd6bef610140b1b4598114eff192ae",
            "4a3c5529bf0c4ef09e963df09c975a7d",
            "67e452a424914d468be8faaee2a02a65",
            "5dcab117dea24e60836c837ce55759df",
            "b645a64da58b4c26a7f331d4cf84a2e1",
            "71464d8171f546b0a864ad5dd42d0c0b",
            "c84b94d174254bb1b34a1c7d753322bd",
            "48b230b605064519bbab70fe2925a749",
            "44eb763815984b6b9074bc7608e38394",
            "d9b0c144fdf5463186ad28f348223563",
            "a5491cc880c0491ca5d5629066b1e84f",
            "d2b9233b7cc54236b249715fc79cdf6b",
            "48e7979066fb4d1581b0e193d047f01b",
            "19a6dd3add23437085935aef863108a1",
            "51b9500dc8e54522aafe425fca2c287d",
            "a818da0649a74cbd97234322cf2f3eb8",
            "e320b2cfd6ab4692ad0e0662f5cab040",
            "98bc4051cc274d829b538f797ee01973",
            "d86caf231b774b319f374c64040951dd",
            "9743c600ba16428c8f8450f6708c85e7",
            "ce5158db27fb45f5877ea3750c19b304",
            "c1ba501566d641c8974dc53a695bd6ec",
            "f9eb1e26608944e3ab75005f46a7fa25",
            "969f12f4734d40609955883509a42661",
            "98361dfee61945ceae26cec25dce1fbd",
            "538fe556284e4225b4cd07ec72796838",
            "76eb7de3146a436e9dd6cf66021585fa",
            "073039428728464587283a30a4e3a698",
            "8a1cf3887841431eb182134ca763fdf7",
            "a55120585e514f7e86b508810f600df4",
            "a80d8ad9baa94ddc9c006d69f815d8ad",
            "4d3680f600d64ce4a44de5af5715cb28",
            "80dd9bba983548c8aa35551acd8cddb3",
            "878a333463674d889e11306491dc63a8",
            "74c7b3a3d9f34f418f10a45be66cffcf",
            "1757959f63624fe59e1ed63ee9ac7308",
            "27c02496b36942ff967ce704595084e8",
            "00cd281bc8864dd89f68b1ccb0f403f5",
            "5fe0538f00784e26bd4bba43bd757b6f",
            "ebeed1a59f1e4d739081bc77ebadda95",
            "088ff2a5dee3455da2e08b0a23a5e94b",
            "1e190c09e53c4e4b978da1c8d2653d34",
            "dad6204603e4478a9ceeb82d93cbe521",
            "079145c90fb5437c848b106981ef643b",
            "9bc7944564274906b353880834521460",
            "0582c368a124456a87a9a8eee1a89f0d",
            "809555c7d4994aec9908d59a504f59dd",
            "601387627ec545c0b879788da85d51cd",
            "042a59e7b25a443d9dded161dfed6d46",
            "d64f8df3af624a7193a55f019f316eb7",
            "9112dd8f4eba48e6b1f42c822d7c0919",
            "be80ab6012b441b1ba668723acc013c8",
            "b334603efaf742d98ab0fdd6f49cceb0",
            "b530d766c1b9460fb0f43064fdf205b1",
            "1ffd77b40eba4912aa8ff4de22cc2b1a",
            "8f99ff6415f84612abb0bd63445b44c7",
            "0836a89931834b1a9bcb93d0753c3bf8"
          ]
        },
        "id": "WsZi3Ykk14-g",
        "outputId": "a552a66c-81df-4869-87dd-0141ebf014b7"
      },
      "source": [
        "os.environ['MLHUB_API_KEY'] = 'a6bb13078fcfa091ebd00341a91752e560a434b58cab5daf5ac1ccdacc836dac'\n",
        "FOLDER_BASE = 'ref_south_africa_crops_competition_v1'\n",
        "\n",
        "def download_archive(archive_name):\n",
        "    if os.path.exists(archive_name.replace('.tar.gz', '')):\n",
        "        return\n",
        "    \n",
        "    print(f'Downloading {archive_name} ...')\n",
        "    download_url = f'https://radiant-mlhub.s3.us-west-2.amazonaws.com/archives/{archive_name}'\n",
        "    download_file(download_url, '.')\n",
        "    print(f'Extracting {archive_name} ...')\n",
        "    with tarfile.open(archive_name) as tfile:\n",
        "        tfile.extractall()\n",
        "    os.remove(archive_name)\n",
        "\n",
        "for split in ['test']:\n",
        "    # Download the labels\n",
        "    labels_archive = f'{FOLDER_BASE}_{split}_labels.tar.gz'\n",
        "    download_archive(labels_archive)\n",
        "    \n",
        "    # Download Sentinel-1 data\n",
        "    if DOWNLOAD_S1:\n",
        "        s1_archive = f'{FOLDER_BASE}_{split}_source_s1.tar.gz'\n",
        "        download_archive(s1_archive)\n",
        "        \n",
        "\n",
        "    for band, download in DOWNLOAD_BANDS.items():\n",
        "        if not download:\n",
        "            continue\n",
        "        s2_archive = f'{FOLDER_BASE}_{split}_source_s2_{band}.tar.gz'\n",
        "        download_archive(s2_archive)\n",
        "        \n",
        "def resolve_path(base, path):\n",
        "    return Path(os.path.join(base, path)).resolve()\n",
        "        \n",
        "def load_df(collection_id):\n",
        "    split = collection_id.split('_')[-2]\n",
        "    collection = json.load(open(f'{collection_id}/collection.json', 'r'))\n",
        "    rows = []\n",
        "    item_links = []\n",
        "    for link in collection['links']:\n",
        "        if link['rel'] != 'item':\n",
        "            continue\n",
        "        item_links.append(link['href'])\n",
        "        \n",
        "    for item_link in item_links:\n",
        "        item_path = f'{collection_id}/{item_link}'\n",
        "        current_path = os.path.dirname(item_path)\n",
        "        item = json.load(open(item_path, 'r'))\n",
        "        tile_id = item['id'].split('_')[-1]\n",
        "        for asset_key, asset in item['assets'].items():\n",
        "            rows.append([\n",
        "                tile_id,\n",
        "                None,\n",
        "                None,\n",
        "                asset_key,\n",
        "                str(resolve_path(current_path, asset['href']))\n",
        "            ])\n",
        "            \n",
        "        for link in item['links']:\n",
        "            if link['rel'] != 'source':\n",
        "                continue\n",
        "            source_item_id = link['href'].split('/')[-2]\n",
        "            \n",
        "            if source_item_id.find('_s1_') > 0 and not DOWNLOAD_S1:\n",
        "                continue\n",
        "            elif source_item_id.find('_s1_') > 0:\n",
        "                for band in ['VV', 'VH']:\n",
        "                    asset_path = Path(f'{FOLDER_BASE}_{split}_source_s1/{source_item_id}/{band}.tif').resolve()\n",
        "                    date = '-'.join(source_item_id.split('_')[10:13])\n",
        "                    \n",
        "                    rows.append([\n",
        "                        tile_id,\n",
        "                        f'{date}T00:00:00Z',\n",
        "                        's1',\n",
        "                        band,\n",
        "                        asset_path\n",
        "                    ])\n",
        "                \n",
        "            if source_item_id.find('_s2_') > 0:\n",
        "                for band, download in DOWNLOAD_BANDS.items():\n",
        "                    if not download:\n",
        "                        continue\n",
        "                    \n",
        "                    asset_path = Path(f'{FOLDER_BASE}_{split}_source_s2_{band}/{source_item_id}_{band}.tif').resolve()\n",
        "                    date = '-'.join(source_item_id.split('_')[10:13])\n",
        "                    rows.append([\n",
        "                        tile_id,\n",
        "                        f'{date}T00:00:00Z',\n",
        "                        's2',\n",
        "                        band,\n",
        "                        asset_path\n",
        "                    ])\n",
        "            \n",
        "    return pd.DataFrame(rows, columns=['tile_id', 'datetime', 'satellite_platform', 'asset', 'file_path'])\n",
        "\n",
        "#train_df = load_df(f'{FOLDER_BASE}_train_labels')\n",
        "test_df = load_df(f'{FOLDER_BASE}_test_labels')"
      ],
      "execution_count": 12,
      "outputs": [
        {
          "output_type": "stream",
          "name": "stdout",
          "text": [
            "Downloading ref_south_africa_crops_competition_v1_test_labels.tar.gz ...\n"
          ]
        },
        {
          "output_type": "display_data",
          "data": {
            "application/vnd.jupyter.widget-view+json": {
              "model_id": "ea9f924ae3a44a3da6d4c326b5bf0a9a",
              "version_minor": 0,
              "version_major": 2
            },
            "text/plain": [
              "  0%|          | 0/10.9 [00:00<?, ?M/s]"
            ]
          },
          "metadata": {}
        },
        {
          "output_type": "stream",
          "name": "stdout",
          "text": [
            "Extracting ref_south_africa_crops_competition_v1_test_labels.tar.gz ...\n",
            "Downloading ref_south_africa_crops_competition_v1_test_source_s2_B01.tar.gz ...\n"
          ]
        },
        {
          "output_type": "display_data",
          "data": {
            "application/vnd.jupyter.widget-view+json": {
              "model_id": "3c4aa0e7d6fa42dbac6b932e2ec742a0",
              "version_minor": 0,
              "version_major": 2
            },
            "text/plain": [
              "  0%|          | 0/713.1 [00:00<?, ?M/s]"
            ]
          },
          "metadata": {}
        },
        {
          "output_type": "stream",
          "name": "stdout",
          "text": [
            "Extracting ref_south_africa_crops_competition_v1_test_source_s2_B01.tar.gz ...\n",
            "Downloading ref_south_africa_crops_competition_v1_test_source_s2_B02.tar.gz ...\n"
          ]
        },
        {
          "output_type": "display_data",
          "data": {
            "application/vnd.jupyter.widget-view+json": {
              "model_id": "8e6fe0d77c8a44bdb42d5c96981c2ff3",
              "version_minor": 0,
              "version_major": 2
            },
            "text/plain": [
              "  0%|          | 0/2226.4 [00:00<?, ?M/s]"
            ]
          },
          "metadata": {}
        },
        {
          "output_type": "stream",
          "name": "stdout",
          "text": [
            "Extracting ref_south_africa_crops_competition_v1_test_source_s2_B02.tar.gz ...\n",
            "Downloading ref_south_africa_crops_competition_v1_test_source_s2_B03.tar.gz ...\n"
          ]
        },
        {
          "output_type": "display_data",
          "data": {
            "application/vnd.jupyter.widget-view+json": {
              "model_id": "25de29c21f9a4d30b2143c01125c7a0d",
              "version_minor": 0,
              "version_major": 2
            },
            "text/plain": [
              "  0%|          | 0/2454.4 [00:00<?, ?M/s]"
            ]
          },
          "metadata": {}
        },
        {
          "output_type": "stream",
          "name": "stdout",
          "text": [
            "Extracting ref_south_africa_crops_competition_v1_test_source_s2_B03.tar.gz ...\n",
            "Downloading ref_south_africa_crops_competition_v1_test_source_s2_B04.tar.gz ...\n"
          ]
        },
        {
          "output_type": "display_data",
          "data": {
            "application/vnd.jupyter.widget-view+json": {
              "model_id": "e633326d91804f93a282be1199109552",
              "version_minor": 0,
              "version_major": 2
            },
            "text/plain": [
              "  0%|          | 0/2706.0 [00:00<?, ?M/s]"
            ]
          },
          "metadata": {}
        },
        {
          "output_type": "stream",
          "name": "stdout",
          "text": [
            "Extracting ref_south_africa_crops_competition_v1_test_source_s2_B04.tar.gz ...\n",
            "Downloading ref_south_africa_crops_competition_v1_test_source_s2_B05.tar.gz ...\n"
          ]
        },
        {
          "output_type": "display_data",
          "data": {
            "application/vnd.jupyter.widget-view+json": {
              "model_id": "6430e8bf0bb94592b18d5dea595807d4",
              "version_minor": 0,
              "version_major": 2
            },
            "text/plain": [
              "  0%|          | 0/1930.4 [00:00<?, ?M/s]"
            ]
          },
          "metadata": {}
        },
        {
          "output_type": "stream",
          "name": "stdout",
          "text": [
            "Extracting ref_south_africa_crops_competition_v1_test_source_s2_B05.tar.gz ...\n",
            "Downloading ref_south_africa_crops_competition_v1_test_source_s2_B06.tar.gz ...\n"
          ]
        },
        {
          "output_type": "display_data",
          "data": {
            "application/vnd.jupyter.widget-view+json": {
              "model_id": "a412f9f785c74bff9ba3a0f2dffe222c",
              "version_minor": 0,
              "version_major": 2
            },
            "text/plain": [
              "  0%|          | 0/1980.9 [00:00<?, ?M/s]"
            ]
          },
          "metadata": {}
        },
        {
          "output_type": "stream",
          "name": "stdout",
          "text": [
            "Extracting ref_south_africa_crops_competition_v1_test_source_s2_B06.tar.gz ...\n",
            "Downloading ref_south_africa_crops_competition_v1_test_source_s2_B07.tar.gz ...\n"
          ]
        },
        {
          "output_type": "display_data",
          "data": {
            "application/vnd.jupyter.widget-view+json": {
              "model_id": "1c078742ab404c159e0b3dc0c9933923",
              "version_minor": 0,
              "version_major": 2
            },
            "text/plain": [
              "  0%|          | 0/2002.0 [00:00<?, ?M/s]"
            ]
          },
          "metadata": {}
        },
        {
          "output_type": "stream",
          "name": "stdout",
          "text": [
            "Extracting ref_south_africa_crops_competition_v1_test_source_s2_B07.tar.gz ...\n",
            "Downloading ref_south_africa_crops_competition_v1_test_source_s2_B08.tar.gz ...\n"
          ]
        },
        {
          "output_type": "display_data",
          "data": {
            "application/vnd.jupyter.widget-view+json": {
              "model_id": "8866cb6b003646218bdec48c228ed569",
              "version_minor": 0,
              "version_major": 2
            },
            "text/plain": [
              "  0%|          | 0/2877.3 [00:00<?, ?M/s]"
            ]
          },
          "metadata": {}
        },
        {
          "output_type": "stream",
          "name": "stdout",
          "text": [
            "Extracting ref_south_africa_crops_competition_v1_test_source_s2_B08.tar.gz ...\n",
            "Downloading ref_south_africa_crops_competition_v1_test_source_s2_B8A.tar.gz ...\n"
          ]
        },
        {
          "output_type": "display_data",
          "data": {
            "application/vnd.jupyter.widget-view+json": {
              "model_id": "67e452a424914d468be8faaee2a02a65",
              "version_minor": 0,
              "version_major": 2
            },
            "text/plain": [
              "  0%|          | 0/2003.0 [00:00<?, ?M/s]"
            ]
          },
          "metadata": {}
        },
        {
          "output_type": "stream",
          "name": "stdout",
          "text": [
            "Extracting ref_south_africa_crops_competition_v1_test_source_s2_B8A.tar.gz ...\n",
            "Downloading ref_south_africa_crops_competition_v1_test_source_s2_B09.tar.gz ...\n"
          ]
        },
        {
          "output_type": "display_data",
          "data": {
            "application/vnd.jupyter.widget-view+json": {
              "model_id": "19a6dd3add23437085935aef863108a1",
              "version_minor": 0,
              "version_major": 2
            },
            "text/plain": [
              "  0%|          | 0/910.7 [00:00<?, ?M/s]"
            ]
          },
          "metadata": {}
        },
        {
          "output_type": "stream",
          "name": "stdout",
          "text": [
            "Extracting ref_south_africa_crops_competition_v1_test_source_s2_B09.tar.gz ...\n",
            "Downloading ref_south_africa_crops_competition_v1_test_source_s2_B11.tar.gz ...\n"
          ]
        },
        {
          "output_type": "display_data",
          "data": {
            "application/vnd.jupyter.widget-view+json": {
              "model_id": "98361dfee61945ceae26cec25dce1fbd",
              "version_minor": 0,
              "version_major": 2
            },
            "text/plain": [
              "  0%|          | 0/1950.2 [00:00<?, ?M/s]"
            ]
          },
          "metadata": {}
        },
        {
          "output_type": "stream",
          "name": "stdout",
          "text": [
            "Extracting ref_south_africa_crops_competition_v1_test_source_s2_B11.tar.gz ...\n",
            "Downloading ref_south_africa_crops_competition_v1_test_source_s2_B12.tar.gz ...\n"
          ]
        },
        {
          "output_type": "display_data",
          "data": {
            "application/vnd.jupyter.widget-view+json": {
              "model_id": "1757959f63624fe59e1ed63ee9ac7308",
              "version_minor": 0,
              "version_major": 2
            },
            "text/plain": [
              "  0%|          | 0/1922.3 [00:00<?, ?M/s]"
            ]
          },
          "metadata": {}
        },
        {
          "output_type": "stream",
          "name": "stdout",
          "text": [
            "Extracting ref_south_africa_crops_competition_v1_test_source_s2_B12.tar.gz ...\n",
            "Downloading ref_south_africa_crops_competition_v1_test_source_s2_CLM.tar.gz ...\n"
          ]
        },
        {
          "output_type": "display_data",
          "data": {
            "application/vnd.jupyter.widget-view+json": {
              "model_id": "809555c7d4994aec9908d59a504f59dd",
              "version_minor": 0,
              "version_major": 2
            },
            "text/plain": [
              "  0%|          | 0/10.4 [00:00<?, ?M/s]"
            ]
          },
          "metadata": {}
        },
        {
          "output_type": "stream",
          "name": "stdout",
          "text": [
            "Extracting ref_south_africa_crops_competition_v1_test_source_s2_CLM.tar.gz ...\n"
          ]
        }
      ]
    },
    {
      "cell_type": "code",
      "metadata": {
        "id": "yGvZ9gUKP5m_"
      },
      "source": [
        "test_df['datetime']=pd.to_datetime(test_df['datetime'])\n"
      ],
      "execution_count": 13,
      "outputs": []
    },
    {
      "cell_type": "code",
      "metadata": {
        "id": "PEfboIY9ysLE"
      },
      "source": [
        "test_df['month']=test_df['datetime'].dt.month\n",
        "test_df['week']=test_df['datetime'].dt.isocalendar().week"
      ],
      "execution_count": 14,
      "outputs": []
    },
    {
      "cell_type": "code",
      "metadata": {
        "id": "r2zRXXaAu88F"
      },
      "source": [
        "test_df['day']=test_df['datetime'].dt.day\n",
        "test_df['fortnight']=np.where(test_df.day<15,1,2)"
      ],
      "execution_count": 15,
      "outputs": []
    },
    {
      "cell_type": "code",
      "metadata": {
        "colab": {
          "base_uri": "https://localhost:8080/"
        },
        "id": "hIu-i1sk0_u1",
        "outputId": "7fc5f478-d96f-4cc6-b8f0-61432dfc7b95"
      },
      "source": [
        "test_df.shape"
      ],
      "execution_count": 16,
      "outputs": [
        {
          "output_type": "execute_result",
          "data": {
            "text/plain": [
              "(808110, 9)"
            ]
          },
          "metadata": {},
          "execution_count": 16
        }
      ]
    },
    {
      "cell_type": "code",
      "metadata": {
        "id": "7IQNZH-M1CrV"
      },
      "source": [
        ""
      ],
      "execution_count": 16,
      "outputs": []
    },
    {
      "cell_type": "markdown",
      "metadata": {
        "id": "ypQCwkl0uLRd"
      },
      "source": [
        "# sentinel1"
      ]
    },
    {
      "cell_type": "code",
      "metadata": {
        "id": "XKDMsn6kuOWH"
      },
      "source": [
        "sentinel1_test=test_df[test_df.satellite_platform=='s1']\n",
        "sentinel1_fortnight=sentinel1_test.groupby(['tile_id','month','fortnight','asset']).first().reset_index()\n",
        "info=test_df[(test_df.asset=='field_ids')|(test_df.asset=='labels')]"
      ],
      "execution_count": 12,
      "outputs": []
    },
    {
      "cell_type": "code",
      "metadata": {
        "id": "szwHeS6EQPOF"
      },
      "source": [
        "def sentinel1(data,month0=4):\n",
        "  field_ndvi=[]\n",
        "  for date in data.month.unique():\n",
        "    month_i=[]\n",
        "    for tile in data.tile_id.unique():\n",
        "     \n",
        "      tile_df=data[(data.tile_id==tile) & (data.month==date)]\n",
        "      \n",
        "      VV1=rasterio.open(tile_df[(tile_df['asset']=='VV')&(tile_df['fortnight']==1)]['file_path'].values[0]).read(1)\n",
        "      VH1=rasterio.open(tile_df[(tile_df['asset']=='VH')&(tile_df['fortnight']==1)]['file_path'].values[0]).read(1)\n",
        "\n",
        "      VV2=rasterio.open(tile_df[(tile_df['asset']=='VV')&(tile_df['fortnight']==2)]['file_path'].values[0]).read(1)\n",
        "      VH2=rasterio.open(tile_df[(tile_df['asset']=='VH')&(tile_df['fortnight']==2)]['file_path'].values[0]).read(1)\n",
        "    \n",
        "      tile_fields=rasterio.open(info[(info.tile_id==tile)&(info.asset=='field_ids')]['file_path'].values[0]).read(1)\n",
        "      ids=np.unique(tile_fields.flatten())\n",
        "\n",
        "      for field in ids:\n",
        "        if (field==0):\n",
        "          continue\n",
        "       \n",
        "        mask_VV1=ma.masked_array(VV1, np.where(tile_fields==field,0,1).astype(int))\n",
        "        mask_VH1=ma.masked_array(VH1, np.where(tile_fields==field,0,1).astype(int))\n",
        "        \n",
        "        mask_VV2=ma.masked_array(VV2, np.where(tile_fields==field,0,1).astype(int))\n",
        "        mask_VH2=ma.masked_array(VH2, np.where(tile_fields==field,0,1).astype(int))\n",
        "        \n",
        "        if (date==month0):\n",
        "          \n",
        "          field_ndvi.append((tile,field,np.mean(mask_VV1),np.mean(mask_VH1),np.mean(mask_VV2),np.mean(mask_VH2)))\n",
        "\n",
        "        else:\n",
        "          month_i.append([np.mean(mask_VV1),np.mean(mask_VH1),np.mean(mask_VV2),np.mean(mask_VH2)])\n",
        "\n",
        "\n",
        "\n",
        "    if (date==month0):\n",
        "      train=pd.DataFrame(field_ndvi,columns=['tile_id','field_id',f'VV1_median_{int(date)}',f'VH1_median_{int(date)}',f'VV2_median_{int(date)}',f'VH2_median_{int(date)}'])\n",
        "    else: \n",
        "      train[[f'VV1_median_{int(date)}',f'VH1_median_{int(date)}',f'VV2_median_{int(date)}',f'VH2_median_{int(date)}']]=month_i\n",
        "\n",
        "  \n",
        "\n",
        "  return train"
      ],
      "execution_count": null,
      "outputs": []
    },
    {
      "cell_type": "code",
      "metadata": {
        "id": "LlN_6y0nuwDp"
      },
      "source": [
        "#executing this cell will take time, the output of this cell is cloudy(dataframe) which can be directly obtained\n",
        "#by executing the next cell\n",
        "sentinel1_ft=sentinel1(sentinel1_test)"
      ],
      "execution_count": null,
      "outputs": []
    },
    {
      "cell_type": "code",
      "metadata": {
        "id": "OqtRshTymIZS"
      },
      "source": [
        "sentinel1_ft=pd.read_parquet('/content/drive/MyDrive/spot_the_crop/sentinel1_ft_test.parquet')"
      ],
      "execution_count": 6,
      "outputs": []
    },
    {
      "cell_type": "code",
      "metadata": {
        "id": "sl-WTBW8nI9c"
      },
      "source": [
        "sentinel1_ft.drop('tile_id',axis=1,inplace=True)"
      ],
      "execution_count": 8,
      "outputs": []
    },
    {
      "cell_type": "markdown",
      "metadata": {
        "id": "YBNoUbiO1OPm"
      },
      "source": [
        "# cloudless image selection \n"
      ]
    },
    {
      "cell_type": "code",
      "metadata": {
        "id": "5F_Cx4UR1OPn"
      },
      "source": [
        "#in each month look for the date in which CLM is all 0s\n",
        "\n",
        "\n",
        "def cloudless(data):\n",
        "  for tile in data.tile_id.unique():\n",
        "    tile_df=data[(data.tile_id==tile)&(data.satellite_platform=='s2')]\n",
        "    for date in tile_df.datetime.unique():\n",
        "      src_mask=rasterio.open(tile_df[(tile_df.datetime==date)&(tile_df['asset']=='CLM')]['file_path'].values[0])\n",
        "      if (np.max(src_mask.read(1))==0):\n",
        "        data.loc[(data.tile_id==tile) & (data.datetime==date),'cloudless']=0\n",
        "      if (np.max(src_mask.read(1))==255):\n",
        "        data.loc[(data.tile_id==tile) & (data.datetime==date),'cloudless']=np.sum(src_mask.read(1))/255\n",
        "\n",
        "      if (np.max(src_mask.read(1))==1):\n",
        "        data.loc[(data.tile_id==tile) & (data.datetime==date),'cloudless']=np.sum(src_mask.read(1))+0.02\n",
        " "
      ],
      "execution_count": 9,
      "outputs": []
    },
    {
      "cell_type": "code",
      "metadata": {
        "id": "VEEMXg5jmpxe"
      },
      "source": [
        "#lasts 53 minutes\n",
        "test_cloudless=test_df.copy()\n",
        "cloudless(test_cloudless)"
      ],
      "execution_count": 18,
      "outputs": []
    },
    {
      "cell_type": "markdown",
      "metadata": {
        "id": "1GRQ3aN1oenj"
      },
      "source": [
        "**cloudless fortnight**"
      ]
    },
    {
      "cell_type": "code",
      "metadata": {
        "id": "irQ0XDAho3fP"
      },
      "source": [
        "test_cloudless.set_index(['tile_id','month','fortnight'],inplace=True)\n",
        "test_cloudless['best']=test_cloudless.groupby(['tile_id','month','fortnight']).cloudless.min()\n",
        "test_cloudless.reset_index(inplace=True)"
      ],
      "execution_count": 19,
      "outputs": []
    },
    {
      "cell_type": "code",
      "metadata": {
        "id": "_6rR_TAFo8EE"
      },
      "source": [
        "cloud_free_test=test_cloudless[(test_cloudless.best==test_cloudless.cloudless)].copy()\n",
        "\n",
        "cloud_free_test=cloud_free_test.groupby(['tile_id','month','fortnight','asset']).first().reset_index()"
      ],
      "execution_count": 20,
      "outputs": []
    },
    {
      "cell_type": "markdown",
      "metadata": {
        "id": "nShf3Tz3pWZs"
      },
      "source": [
        "**overall cloudless**"
      ]
    },
    {
      "cell_type": "code",
      "metadata": {
        "id": "AOemiv6h1OPo"
      },
      "source": [
        "test_cloudless1=test_cloudless.copy()\n",
        "test_cloudless1.set_index(['tile_id','month'],inplace=True)\n",
        "test_cloudless1['best']=test_cloudless1.groupby(['tile_id','month']).cloudless.min()\n",
        "test_cloudless1.reset_index(inplace=True)"
      ],
      "execution_count": 21,
      "outputs": []
    },
    {
      "cell_type": "code",
      "metadata": {
        "id": "CXpmTduG1OPp"
      },
      "source": [
        "#test_cloudless1=pd.read_csv('/content/drive/MyDrive/spot_the_crop/test_cloudless.csv')"
      ],
      "execution_count": null,
      "outputs": []
    },
    {
      "cell_type": "code",
      "metadata": {
        "id": "2yNmSgtx1OPp"
      },
      "source": [
        "cloud_free_test1=test_cloudless1[(test_cloudless1.best==test_cloudless1.cloudless)].copy()"
      ],
      "execution_count": 22,
      "outputs": []
    },
    {
      "cell_type": "code",
      "metadata": {
        "id": "Iu0hkCzH1OPp"
      },
      "source": [
        "cloud_free_test1.drop(['cloudless','best','satellite_platform'],axis=1,inplace=True)"
      ],
      "execution_count": 23,
      "outputs": []
    },
    {
      "cell_type": "code",
      "metadata": {
        "id": "qXYk1Wkx1OPp"
      },
      "source": [
        "cloud_free_test1=cloud_free_test1.groupby(['tile_id','month','asset']).first().reset_index()"
      ],
      "execution_count": 24,
      "outputs": []
    },
    {
      "cell_type": "code",
      "metadata": {
        "colab": {
          "base_uri": "https://localhost:8080/"
        },
        "id": "mi1iE41258JP",
        "outputId": "9d188143-1710-49ca-cc4d-b851ecc6f32d"
      },
      "source": [
        "info=test_df[(test_df.asset=='field_ids')|(test_df.asset=='labels')]\n",
        "info['tile_id']=info['tile_id'].astype(int).values"
      ],
      "execution_count": 27,
      "outputs": [
        {
          "output_type": "stream",
          "name": "stderr",
          "text": [
            "/usr/local/lib/python3.7/dist-packages/ipykernel_launcher.py:2: SettingWithCopyWarning: \n",
            "A value is trying to be set on a copy of a slice from a DataFrame.\n",
            "Try using .loc[row_indexer,col_indexer] = value instead\n",
            "\n",
            "See the caveats in the documentation: https://pandas.pydata.org/pandas-docs/stable/user_guide/indexing.html#returning-a-view-versus-a-copy\n",
            "  \n"
          ]
        }
      ]
    },
    {
      "cell_type": "markdown",
      "metadata": {
        "id": "s4Q22N4JIcoy"
      },
      "source": [
        "# feature engineering"
      ]
    },
    {
      "cell_type": "code",
      "metadata": {
        "id": "9TR5aRoB-vZO"
      },
      "source": [
        "def veg_indices(data,info,month0=4):\n",
        "  field_ndvi=[]\n",
        "  for date in data.month.unique():\n",
        "    print(f'processing for month {date} has began')\n",
        "    for f in [1,2]:\n",
        "      month_i=[]\n",
        "      for tile in data.tile_id.unique():\n",
        "        \n",
        "        tile_df=data[(data.tile_id==tile) & (data.month==date) & (data.fortnight==f)]\n",
        "\n",
        "        src_aerosol=rasterio.open(tile_df[tile_df['asset']=='B01']['file_path'].values[0])\n",
        "        src_blue=rasterio.open(tile_df[tile_df['asset']=='B02']['file_path'].values[0])\n",
        "        src_green=rasterio.open(tile_df[tile_df['asset']=='B03']['file_path'].values[0])\n",
        "        src_red=rasterio.open(tile_df[tile_df['asset']=='B04']['file_path'].values[0])\n",
        "        src_edge=rasterio.open(tile_df[tile_df['asset']=='B05']['file_path'].values[0])\n",
        "        src_edge2=rasterio.open(tile_df[tile_df['asset']=='B06']['file_path'].values[0])\n",
        "        src_edge3=rasterio.open(tile_df[tile_df['asset']=='B07']['file_path'].values[0])       \n",
        "        src_nir=rasterio.open(tile_df[tile_df['asset']=='B08']['file_path'].values[0])\n",
        "        src_8a=rasterio.open(tile_df[tile_df['asset']=='B8A']['file_path'].values[0])\n",
        "        src_vapor=rasterio.open(tile_df[tile_df['asset']=='B09']['file_path'].values[0])\n",
        "        src_swir1=rasterio.open(tile_df[tile_df['asset']=='B11']['file_path'].values[0])\n",
        "        src_swir2=rasterio.open(tile_df[tile_df['asset']=='B12']['file_path'].values[0])\n",
        "        \n",
        "\n",
        "\n",
        "        ndvi=np.where(src_nir.read(1)+src_red.read(1)==0,0,(src_nir.read(1)-src_red.read(1))/(src_nir.read(1)+src_red.read(1)))\n",
        "        lswi=np.where(src_nir.read(1)+src_swir1.read(1)==0,0,(src_nir.read(1)-src_swir1.read(1))/(src_nir.read(1)+src_swir1.read(1)))\n",
        "        ndsvi=np.where(src_red.read(1)+src_swir1.read(1)==0,0,(src_swir1.read(1)-src_red.read(1))/(src_red.read(1)+src_swir1.read(1)))\n",
        "        ndti=np.where(src_swir2.read(1)+src_swir1.read(1)==0,0,(src_swir1.read(1)-src_swir2.read(1))/(src_swir2.read(1)+src_swir1.read(1)))\n",
        "        rvi=src_aerosol.read(1)/(src_blue.read(1)+1e-8)\n",
        "        gli=np.where(2*src_green.read(1)+src_red.read(1)+src_aerosol.read(1)==0,0\n",
        "                    ,(2*src_green.read(1)-src_red.read(1)-src_aerosol.read(1))/(2*src_green.read(1)+src_red.read(1)+src_aerosol.read(1)))\n",
        "        \n",
        "        bsi=100*np.sqrt((src_swir1.read(1)-src_green.read(1))/(src_swir1.read(1)+src_green.read(1)))\n",
        "        \n",
        "        MCARI1=np.where(src_red.read(1)==0,0,((src_edge.read(1)-src_red.read(1))-0.2*(src_edge.read(1)-src_green.read(1))*(src_edge.read(1)/src_red.read(1))))\n",
        "        \n",
        "        savi=(src_nir.read(1) - src_red.read(1)) / (src_nir.read(1) + src_red.read(1) + 0.725) * (1.0 + 0.725)\n",
        "\n",
        "        grndvi=(src_green.read(1)-src_red.read(1))/(src_green.read(1)+src_red.read(1))\n",
        "        grndvi=np.where((src_green.read(1)+src_red.read(1))==0,0,grndvi)\n",
        "        ndsi=np.where((src_green.read(1)+src_swir1.read(1))==0,0,(src_green.read(1)-src_swir1.read(1))/(src_green.read(1)+src_swir1.read(1)))\n",
        "        gb=np.where((src_green.read(1)+src_blue.read(1))==0,0,(src_green.read(1)-src_blue.read(1))/(src_green.read(1)+src_blue.read(1)))\n",
        "        psri=np.where(src_nir.read(1)==0,0,(src_red.read(1)-src_green.read(1))/src_nir.read(1))\n",
        "        npci=np.where((src_red.read(1)+src_blue.read(1))==0,0,(src_red.read(1)-src_blue.read(1))/(src_red.read(1)+src_blue.read(1)))\n",
        "        \n",
        "        ccci=((src_nir.read(1)-src_edge.read(1))/(src_nir.read(1)+src_edge.read(1)))/((src_nir.read(1)-src_red.read(1))/(src_nir.read(1)+src_red.read(1)))\n",
        "        gcvi=np.where(src_green.read(1)==0,0,(src_nir.read(1)/src_green.read(1))-1)\n",
        "\n",
        "        clred_edge=src_edge.read(1)/src_edge3.read(1)   \n",
        "        slavi=src_nir.read(1)/(src_red.read(1)+src_swir2.read(1))\n",
        "        datt1=(src_nir.read(1)-src_edge.read(1))/(src_nir.read(1)-src_red.read(1))\n",
        "        arvi=(src_8a.read(1)-src_red.read(1)-0.069*(src_red.read(1)-src_blue.read(1)))/(src_8a.read(1)+src_red.read(1)-0.069*(src_red.read(1)-src_blue.read(1))) \n",
        "\n",
        "        \n",
        "  \n",
        "        \n",
        "\n",
        "        tile_fields=rasterio.open(info[(info.tile_id==int(tile))&(info.asset=='field_ids')]['file_path'].values[0]).read(1)\n",
        "        ids=np.unique(tile_fields.flatten())\n",
        "\n",
        "        for field in ids:\n",
        "          if (field==0):\n",
        "            continue\n",
        "          mask_ndvi=ma.masked_array(ndvi, np.where(tile_fields==field,0,1).astype(int))\n",
        "          mask_lswi=ma.masked_array(lswi, np.where(tile_fields==field,0,1).astype(int))\n",
        "          mask_ndsvi=ma.masked_array(ndsvi, np.where(tile_fields==field,0,1).astype(int))\n",
        "          mask_ndti=ma.masked_array(ndti, np.where(tile_fields==field,0,1).astype(int))\n",
        "          mask_vapor=ma.masked_array(src_vapor.read(1), np.where(tile_fields==field,0,1).astype(int))\n",
        "          mask_gli=ma.masked_array(gli, np.where(tile_fields==field,0,1).astype(int))\n",
        "          mask_rvi=ma.masked_array(rvi, np.where(tile_fields==field,0,1).astype(int))\n",
        "          mask_bsi=ma.masked_array(bsi, np.where(tile_fields==field,0,1).astype(int))\n",
        "          mask_nir=ma.masked_array(src_nir.read(1), np.where(tile_fields==field,0,1).astype(int))\n",
        "          mask_mcari=ma.masked_array(MCARI1, np.where(tile_fields==field,0,1).astype(int))\n",
        "\n",
        "          mask_savi=ma.masked_array(savi, np.where(tile_fields==field,0,1).astype(int))\n",
        "\n",
        "          mask_grndvi=ma.masked_array(grndvi, np.where(tile_fields==field,0,1).astype(int))\n",
        "          mask_ndsi=ma.masked_array(ndsi, np.where(tile_fields==field,0,1).astype(int))\n",
        "          mask_gb=ma.masked_array(gb, np.where(tile_fields==field,0,1).astype(int))\n",
        "          mask_psri=ma.masked_array(psri, np.where(tile_fields==field,0,1).astype(int))\n",
        "          mask_npci=ma.masked_array(npci, np.where(tile_fields==field,0,1).astype(int))\n",
        "\n",
        "          mask_ccci=ma.masked_array(ccci, np.where(tile_fields==field,0,1).astype(int))\n",
        "          mask_gcvi=ma.masked_array(gcvi, np.where(tile_fields==field,0,1).astype(int))\n",
        "          mask_red=ma.masked_array(src_red.read(1), np.where(tile_fields==field,0,1).astype(int))\n",
        "          mask_edge=ma.masked_array(src_edge.read(1), np.where(tile_fields==field,0,1).astype(int))\n",
        "\n",
        "          mask_green=ma.masked_array(src_green.read(1), np.where(tile_fields==field,0,1).astype(int))\n",
        "          mask_blue=ma.masked_array(src_blue.read(1), np.where(tile_fields==field,0,1).astype(int))\n",
        "          mask_edge2=ma.masked_array(src_edge2.read(1), np.where(tile_fields==field,0,1).astype(int))\n",
        "          mask_edge3=ma.masked_array(src_edge3.read(1), np.where(tile_fields==field,0,1).astype(int))\n",
        "          mask_8a=ma.masked_array(src_8a.read(1), np.where(tile_fields==field,0,1).astype(int))\n",
        "\n",
        "          mask_clred_edge=ma.masked_array(clred_edge, np.where(tile_fields==field,0,1).astype(int))\n",
        "          mask_slavi=ma.masked_array(slavi, np.where(tile_fields==field,0,1).astype(int))\n",
        "          mask_datt1=ma.masked_array(datt1, np.where(tile_fields==field,0,1).astype(int))\n",
        "          mask_arvi=ma.masked_array(arvi, np.where(tile_fields==field,0,1).astype(int))\n",
        "\n",
        "          if ((date==month0)& (f==1)):\n",
        "            \n",
        "            field_ndvi.append((tile,field,np.mean(mask_vapor),np.mean(mask_ndvi),np.mean(mask_lswi),\n",
        "                               np.mean(mask_ndsvi),np.mean(mask_ndti),np.mean(mask_rvi),np.mean(mask_gli),np.std(mask_ndvi),\n",
        "                               np.mean(mask_bsi),np.mean(mask_nir),np.mean(mask_mcari),np.mean(mask_savi),\n",
        "                               np.mean(mask_grndvi),np.mean(mask_ndsi),np.mean(mask_gb),np.mean(mask_psri),\n",
        "                               np.mean(mask_npci),np.mean(mask_ccci),np.mean(mask_gcvi),np.mean(mask_red),\n",
        "                               np.mean(mask_edge), np.mean(mask_green),np.mean(mask_blue),np.mean(mask_edge2),\n",
        "                               np.mean(mask_edge3),np.mean(mask_8a),np.std(mask_nir),\n",
        "                               np.mean(mask_clred_edge),np.mean(mask_slavi),np.mean(mask_datt1),np.mean(mask_arvi)))\n",
        "\n",
        "          else:\n",
        "            month_i.append([np.mean(mask_vapor),np.mean(mask_ndvi),np.mean(mask_lswi),\n",
        "                               np.mean(mask_ndsvi),np.mean(mask_ndti),np.mean(mask_rvi),np.mean(mask_gli),np.std(mask_ndvi),\n",
        "                               np.mean(mask_bsi),np.mean(mask_nir),np.mean(mask_mcari),np.mean(mask_savi),\n",
        "                               np.mean(mask_grndvi),np.mean(mask_ndsi),np.mean(mask_gb),np.mean(mask_psri),\n",
        "                               np.mean(mask_npci),np.mean(mask_ccci),np.mean(mask_gcvi),np.mean(mask_red),\n",
        "                               np.mean(mask_edge), np.mean(mask_green),np.mean(mask_blue),np.mean(mask_edge2),\n",
        "                               np.mean(mask_edge3),np.mean(mask_8a),np.std(mask_nir),\n",
        "                               np.mean(mask_clred_edge),np.mean(mask_slavi),np.mean(mask_datt1),np.mean(mask_arvi)])\n",
        "\n",
        "\n",
        "\n",
        "      if ((date==month0)& (f==1)):\n",
        "        train=pd.DataFrame(field_ndvi,columns=['tile_id','field_id',\n",
        "                                              f'vapor_{int(date)}_{f}',f'ndvi_{int(date)}_{f}',f'lswi_{int(date)}_{f}',\n",
        "                                              f'ndsvi_{int(date)}_{f}',f'ndti_{int(date)}_{f}',f'rvi_{int(date)}_{f}',f'gli_{int(date)}_{f}',\n",
        "                                              f'ndvi_std_{int(date)}_{f}',f'bsi_{int(date)}_{f}',f'nir_{int(date)}_{f}',\n",
        "                                              f'mcari_{int(date)}_{f}',f'savi_{int(date)}_{f}',f'grndvi_{int(date)}_{f}',f'ndsi_{int(date)}_{f}',\n",
        "                                              f'gb_{int(date)}_{f}',f'psri_{int(date)}_{f}',f'npci_{int(date)}_{f}',\n",
        "                                              f'ccci_{int(date)}_{f}',f'gcvi_{int(date)}_{f}',f'red_{int(date)}_{f}',f'edge_{int(date)}_{f}',\n",
        "                                              f'green_{int(date)}_{f}',f'blue_{int(date)}_{f}',f'edge2_{int(date)}_{f}',\n",
        "                                              f'edge3_{int(date)}_{f}',f'8a_{int(date)}_{f}',f'nir_std_{int(date)}_{f}',f'c1_{int(date)}_{f}',\n",
        "                                              f'c2_{int(date)}_{f}',f'c3_{int(date)}_{f}',f'c4_{int(date)}_{f}'])\n",
        "      else: \n",
        "        train[[f'vapor_{int(date)}_{f}',f'ndvi_{int(date)}_{f}',f'lswi_{int(date)}_{f}',\n",
        "               f'ndsvi_{int(date)}_{f}',f'ndti_{int(date)}_{f}',f'rvi_{int(date)}_{f}',f'gli_{int(date)}_{f}',\n",
        "               f'ndvi_std_{int(date)}_{f}',f'bsi_{int(date)}_{f}',f'nir_{int(date)}_{f}',\n",
        "               f'mcari_{int(date)}_{f}',f'savi_{int(date)}_{f}',f'grndvi_{int(date)}_{f}',f'ndsi_{int(date)}_{f}',\n",
        "               f'gb_{int(date)}_{f}',f'psri_{int(date)}_{f}',f'npci_{int(date)}_{f}',\n",
        "               f'ccci_{int(date)}_{f}',f'gcvi_{int(date)}_{f}',f'red_{int(date)}_{f}',f'edge_{int(date)}_{f}',\n",
        "               f'green_{int(date)}_{f}',f'blue_{int(date)}_{f}',f'edge2_{int(date)}_{f}',\n",
        "               f'edge3_{int(date)}_{f}',f'8a_{int(date)}_{f}',f'nir_std_{int(date)}_{f}',f'c1_{int(date)}_{f}',\n",
        "               f'c2_{int(date)}_{f}',f'c3_{int(date)}_{f}',f'c4_{int(date)}_{f}']]=month_i\n",
        "\n",
        "  \n",
        "\n",
        "  return train"
      ],
      "execution_count": 35,
      "outputs": []
    },
    {
      "cell_type": "code",
      "metadata": {
        "id": "20oWq9nj-7y3"
      },
      "source": [
        "test_ft=veg_indices(cloud_free_test,info)"
      ],
      "execution_count": null,
      "outputs": []
    },
    {
      "cell_type": "markdown",
      "metadata": {
        "id": "651OQjDtnoD4"
      },
      "source": [
        "**compactness feature**"
      ]
    },
    {
      "cell_type": "code",
      "metadata": {
        "id": "-uLpu5e_1OPq"
      },
      "source": [
        "import scipy.ndimage as ndi\n",
        "import random\n",
        "def check_circle(image):\n",
        " \n",
        "  \n",
        "  cy,cx=ndi.center_of_mass(image)\n",
        " \n",
        "  a=np.array([cy,cx])\n",
        "  arr=np.array([i for i in range(256)])\n",
        "  max_0=np.argmax(image,axis=0)\n",
        "\n",
        "  y=max_0[max_0>0]\n",
        "  x=arr[max_0>0]\n",
        "  if (len(y)<2):\n",
        "    return 50\n",
        "  distances=[]  \n",
        "  for i in range(0,5):\n",
        "    n = random.randint(0,len(y)-1)\n",
        "    \n",
        "    b=np.array([y[n],x[n]])\n",
        "    distances.append(np.linalg.norm(a-b))\n",
        "\n",
        "  return np.std(distances)\n",
        "def circle_search(data,info,month0=4):\n",
        "  field_ndvi=[]\n",
        "  first=data[data.month==month0]\n",
        "  \n",
        "  \n",
        "  for tile in first.tile_id.unique():\n",
        "      \n",
        "    tile_df=first[(first.tile_id==tile) ]\n",
        "      \n",
        "    src_nir=rasterio.open(tile_df[tile_df['asset']=='B08']['file_path'].values[0])\n",
        "      \n",
        "      \n",
        "\n",
        "\n",
        "    tile_fields=rasterio.open(info[(info.tile_id==int(tile))&(info.asset=='field_ids')]['file_path'].values[0]).read(1)\n",
        "    ids=np.unique(tile_fields.flatten())\n",
        "\n",
        "    for field in ids:\n",
        "      if (field==0):\n",
        "        continue\n",
        "      mask_binary=np.where(tile_fields==field,255,0).reshape(tile_fields.shape)    \n",
        "          \n",
        "      field_ndvi.append((field,check_circle(mask_binary),check_circle(mask_binary[::-1])))\n",
        "\n",
        "        \n",
        "\n",
        "\n",
        "\n",
        "    \n",
        "  train=pd.DataFrame(field_ndvi,columns=['field_id',f'check_circle_top',f'check_circle_down'])\n",
        "    \n",
        "\n",
        "  \n",
        "\n",
        "  return train"
      ],
      "execution_count": 31,
      "outputs": []
    },
    {
      "cell_type": "code",
      "metadata": {
        "id": "DZXKHj4k1OPq"
      },
      "source": [
        "circles_check=circle_search(cloud_free_test1,info)"
      ],
      "execution_count": 32,
      "outputs": []
    },
    {
      "cell_type": "code",
      "metadata": {
        "id": "AsOO0UCXIFik"
      },
      "source": [
        "test_ft=pd.merge(test_ft,circles_check,on='field_id',how='left')"
      ],
      "execution_count": null,
      "outputs": []
    },
    {
      "cell_type": "markdown",
      "metadata": {
        "id": "smhQ1fzBICK8"
      },
      "source": [
        "sentinel1"
      ]
    },
    {
      "cell_type": "code",
      "metadata": {
        "id": "IxDX8WjaIEXw"
      },
      "source": [
        "test_ft=pd.merge(test_ft,sentinel1_ft,on='field_id',how='left')"
      ],
      "execution_count": null,
      "outputs": []
    },
    {
      "cell_type": "code",
      "metadata": {
        "id": "w7oPc5GM7-Vy"
      },
      "source": [
        "test_fortnight_bf=test_ft.drop('tile_id',axis=1)"
      ],
      "execution_count": null,
      "outputs": []
    },
    {
      "cell_type": "markdown",
      "metadata": {
        "id": "xh8SeYkxIv-t"
      },
      "source": [
        "# Adittional featutres"
      ]
    },
    {
      "cell_type": "code",
      "metadata": {
        "id": "3w6VEIiK6fyu"
      },
      "source": [
        "#importing train_fortnight_bf\n",
        "train_fortnight_bf=pd.read_parquet('/content/drive/MyDrive/spot_the_crop/final_train_processing_XL.parquet')\n"
      ],
      "execution_count": 40,
      "outputs": []
    },
    {
      "cell_type": "code",
      "metadata": {
        "id": "ejaSEXtXKGOL"
      },
      "source": [
        "#new\n",
        "l=['ndvi','lswi']\n",
        "for index in l:\n",
        "  for i in range(5,12):\n",
        "    \n",
        "    test_fortnight_bf[f'{index}_slope_{i}_1']=test_fortnight_bf[f'{index}_{i}_2']/test_fortnight_bf[f'{index}_{i}_1']\n",
        "    if (i<11):\n",
        "      test_fortnight_bf[f'{index}_slope_{i}_2']=test_fortnight_bf[f'{index}_{i+1}_1']/test_fortnight_bf[f'{index}_{i}_2']\n",
        "\n",
        "    train_fortnight_bf[f'{index}_slope_{i}_1']=train_fortnight_bf[f'{index}_{i}_2']/train_fortnight_bf[f'{index}_{i}_1']\n",
        "    if (i<11):\n",
        "      train_fortnight_bf[f'{index}_slope_{i}_2']=train_fortnight_bf[f'{index}_{i+1}_1']/train_fortnight_bf[f'{index}_{i}_2']\n",
        "\n",
        "\n",
        "train_fortnight_bf.replace(np.inf,0,inplace=True)\n",
        "test_fortnight_bf.replace(np.inf,0,inplace=True)"
      ],
      "execution_count": null,
      "outputs": []
    },
    {
      "cell_type": "code",
      "metadata": {
        "id": "U_lt4d1EKZCA"
      },
      "source": [
        "def nb_fluct(row):\n",
        "  comp=0\n",
        "  for i in range(1,len(row)-1):\n",
        "    if (((row[i-1]>5+row[i])&(row[i]+5<row[i+1])) | ((row[i-1]+5<row[i])&(row[i]>row[i+1]+5))):\n",
        "      comp+=1\n",
        "  return comp\n",
        "nir_cols=[f'nir_{i}_{j}' for i in range(4,12) for j in [1,2]]\n",
        "train_fortnight_bf['nir_fluct']=train_fortnight_bf[nir_cols].apply(lambda x: nb_fluct(x),axis=1)\n",
        "test_fortnight_bf['nir_fluct']=test_fortnight_bf[nir_cols].apply(lambda x: nb_fluct(x),axis=1)\n",
        "\n"
      ],
      "execution_count": null,
      "outputs": []
    },
    {
      "cell_type": "code",
      "metadata": {
        "id": "lXjS5xF3pUu8"
      },
      "source": [
        "#new\n",
        "l=['nir','gb','ccci','savi','edge2']\n",
        "for index in l:\n",
        "  for i in range(5,12):\n",
        "    \n",
        "    test_fortnight_bf[f'{index}_slope_{i}_1']=test_fortnight_bf[f'{index}_{i}_2']/test_fortnight_bf[f'{index}_{i}_1']\n",
        "    if (i<11):\n",
        "      test_fortnight_bf[f'{index}_slope_{i}_2']=test_fortnight_bf[f'{index}_{i+1}_1']/test_fortnight_bf[f'{index}_{i}_2']\n",
        "\n",
        "    train_fortnight_bf[f'{index}_slope_{i}_1']=train_fortnight_bf[f'{index}_{i}_2']/train_fortnight_bf[f'{index}_{i}_1']\n",
        "    if (i<11):\n",
        "      train_fortnight_bf[f'{index}_slope_{i}_2']=train_fortnight_bf[f'{index}_{i+1}_1']/train_fortnight_bf[f'{index}_{i}_2']\n",
        "\n",
        "\n",
        "train_fortnight_bf.replace(np.inf,0,inplace=True)\n",
        "test_fortnight_bf.replace(np.inf,0,inplace=True)"
      ],
      "execution_count": null,
      "outputs": []
    },
    {
      "cell_type": "code",
      "metadata": {
        "id": "dyNZV5_9plNk"
      },
      "source": [
        "drops=[f'edge2_{i}_{j}' for j in [1,2] for i in range(5,12)]\n",
        "train_fortnight_bf.drop(drops,axis=1,inplace=True)\n",
        "test_fortnight_bf.drop(drops,axis=1,inplace=True)"
      ],
      "execution_count": null,
      "outputs": []
    },
    {
      "cell_type": "code",
      "metadata": {
        "id": "xbVV6-jRqHdh"
      },
      "source": [
        "def vv_ratio(data):\n",
        "  vv_cols=[f'VV{i}_median_{j}' for j in range(4,12) for i in [1,2]]\n",
        "  for j in range(4,12):\n",
        "    data[f'ratio{j}_m']=data[f'VV2_median_{j}']/data[f'VV1_median_{j}']\n",
        "    if (j<11):\n",
        "      data[f'ratio{j}']=data[f'VV1_median_{j+1}']/data[f'VV2_median_{j}']\n",
        "  return data\n",
        "\n",
        "test_fortnight_bf=vv_ratio(test_fortnight_bf)\n",
        "train_fortnight_bf=vv_ratio(train_fortnight_bf)"
      ],
      "execution_count": null,
      "outputs": []
    },
    {
      "cell_type": "code",
      "metadata": {
        "id": "PH4gZbAnqUob"
      },
      "source": [
        "def vh_ratio(data):\n",
        "  for j in range(4,12):\n",
        "    data[f'ratio{j}_m_vh']=data[f'VH2_median_{j}']/data[f'VH1_median_{j}']\n",
        "    if (j<11):\n",
        "      data[f'ratio{j}_vh']=data[f'VH1_median_{j+1}']/data[f'VH2_median_{j}']\n",
        "  return data\n",
        "\n",
        "test_fortnight_bf=vh_ratio(test_fortnight_bf)\n",
        "train_fortnight_bf=vh_ratio(train_fortnight_bf)"
      ],
      "execution_count": null,
      "outputs": []
    },
    {
      "cell_type": "markdown",
      "metadata": {
        "id": "SM8s2uy6jzS7"
      },
      "source": [
        "# Modelling"
      ]
    },
    {
      "cell_type": "code",
      "metadata": {
        "id": "JoTaF_UKIE8K"
      },
      "source": [
        "from sklearn.model_selection import StratifiedKFold\n",
        "from catboost import CatBoostClassifier\n",
        "import lightgbm as lgb\n",
        "from catboost import Pool\n",
        "from sklearn.metrics import log_loss\n",
        "skf = StratifiedKFold(n_splits=5)\n",
        "X=train_fortnight_bf.drop(['field_id','label'],axis=1)\n",
        "y=train_fortnight_bf.label\n",
        "test=test_fortnight_bf.drop(['field_id'],axis=1)"
      ],
      "execution_count": null,
      "outputs": []
    },
    {
      "cell_type": "code",
      "metadata": {
        "colab": {
          "base_uri": "https://localhost:8080/"
        },
        "id": "Ok9FF9wuMpi_",
        "outputId": "a560f03e-4034-4e7f-eb75-497160be890b"
      },
      "source": [
        "#catboost\n",
        "\n",
        "oof_preds_cat = np.zeros((X.shape[0],9))\n",
        "preds=[]\n",
        "\n",
        "for nb ,  (train_index, test_index) in enumerate(skf.split(X,y)):\n",
        "    X_train, X_test = X.iloc[train_index], X.iloc[test_index]\n",
        "    y_train, y_test = y.iloc[train_index], y.iloc[test_index]\n",
        "\n",
        "    train_pool=Pool(X_train,y_train)\n",
        "    valid_pool=Pool(X_test,y_test)\n",
        "    \n",
        "    model=CatBoostClassifier(iterations=20000,learning_rate=0.02,loss_function='MultiClass',random_seed=0,task_type='GPU',l2_leaf_reg=30,depth=8)\n",
        "    model.fit(train_pool,eval_set=valid_pool,verbose = False,early_stopping_rounds=300,use_best_model=True)\n",
        "\n",
        "    preds_proba = model.predict_proba(X_test)\n",
        "    oof_preds_cat[test_index]=preds_proba\n",
        "\n",
        "    print(f'logloss for fold {nb} : {log_loss(y_test,preds_proba)}')\n",
        "\n",
        "    test_preds=model.predict_proba(test)\n",
        "    preds.append(test_preds)\n"
      ],
      "execution_count": null,
      "outputs": [
        {
          "output_type": "stream",
          "name": "stdout",
          "text": [
            "logloss for fold 0 : 0.7646989446631202\n",
            "logloss for fold 1 : 0.7970318378313852\n",
            "logloss for fold 2 : 0.7809826302908424\n",
            "logloss for fold 3 : 0.8031733820907005\n",
            "logloss for fold 4 : 0.7979734330844932\n"
          ]
        }
      ]
    },
    {
      "cell_type": "code",
      "metadata": {
        "colab": {
          "base_uri": "https://localhost:8080/"
        },
        "id": "gsb8ImEQEF6C",
        "outputId": "1bfcef36-e970-4c83-e5b1-88be2276c7fa"
      },
      "source": [
        "log_loss(y,np.clip(oof_preds_cat,0,0.8))"
      ],
      "execution_count": null,
      "outputs": [
        {
          "output_type": "execute_result",
          "data": {
            "text/plain": [
              "0.7875969389915913"
            ]
          },
          "metadata": {},
          "execution_count": 88
        }
      ]
    },
    {
      "cell_type": "code",
      "metadata": {
        "colab": {
          "base_uri": "https://localhost:8080/"
        },
        "id": "K_W5rIWl6NKI",
        "outputId": "16a8edb0-6574-4892-ba15-b0b71d153768"
      },
      "source": [
        "log_loss(y,oof_preds_cat)"
      ],
      "execution_count": null,
      "outputs": [
        {
          "output_type": "execute_result",
          "data": {
            "text/plain": [
              "0.7887717746483458"
            ]
          },
          "metadata": {},
          "execution_count": 87
        }
      ]
    },
    {
      "cell_type": "markdown",
      "metadata": {
        "id": "k7pl9E1ruH8I"
      },
      "source": [
        "GPU Pro\n",
        "\n",
        "added azer ft c1/c2/c3/c4 -> 0.84735 (0.02/8)\n",
        "\n",
        "logloss for fold 0 : 0.8331461581198549\n",
        "\n",
        "logloss for fold 1 : 0.8417634442467608\n",
        "\n",
        "logloss for fold 2 : 0.8394970098615738\n",
        "\n",
        "logloss for fold 3 : 0.8725272713763317\n",
        "\n",
        "logloss for fold 4 : 0.8541548353104523\n",
        "\n",
        "---\n",
        "\n",
        "\n",
        "added dissimilarity texture + lr :0.02 + depth:8 -> 0.85234/ 0.851500\n",
        "\n",
        "logloss for fold 0 : 0.8389492481934974\n",
        "\n",
        "logloss for fold 1 : 0.8416268739502142\n",
        "\n",
        "logloss for fold 2 : 0.8443628261942119\n",
        "\n",
        "logloss for fold 3 : 0.8781649872288411\n",
        "\n",
        "logloss for fold 4 : 0.8586156750671843\n",
        "\n",
        "---\n",
        "\n",
        "\n",
        "added check_circle -> 0.8539/0.85312\n",
        "\n",
        "logloss for fold 0 : 0.8377338098397131\n",
        "\n",
        "logloss for fold 1 : 0.8439595067747905\n",
        "\n",
        "logloss for fold 2 : 0.8482158191787086\n",
        "\n",
        "logloss for fold 3 : 0.880209732375429\n",
        "\n",
        "logloss for fold 4 : 0.8594283183349208\n",
        "\n",
        "---\n",
        "\n",
        "\n",
        "added std_nir -> 0.85466\n",
        "\n",
        "logloss for fold 0 : 0.8391279856607207\n",
        "\n",
        "logloss for fold 1 : 0.8449970117725745\n",
        "\n",
        "logloss for fold 2 : 0.8485349044942893\n",
        "\n",
        "logloss for fold 3 : 0.882202652276265\n",
        "\n",
        "logloss for fold 4 : 0.8584743850713515\n",
        "\n",
        "---\n",
        "\n",
        "same as previous but lr 0.03 es:350->0.856123\n",
        "\n",
        "logloss for fold 0 : 0.839724912500683\n",
        "\n",
        "logloss for fold 1 : 0.8480208723418672\n",
        "\n",
        "logloss for fold 2 : 0.8477799903419132\n",
        "\n",
        "logloss for fold 3 : 0.8844836150447162\n",
        "\n",
        "logloss for fold 4 : 0.8606101153945737\n",
        "\n",
        "---\n",
        "\n",
        "\n",
        "added savi and edge2 ratios deleteed  edge2 ->0.8595\n",
        "\n",
        "logloss for fold 0 : 0.8437655684000033\n",
        "\n",
        "logloss for fold 1 : 0.8534679351335984\n",
        "\n",
        "logloss for fold 2 : 0.8514806350339452\n",
        "\n",
        "logloss for fold 3 : 0.8854120699193005\n",
        "\n",
        "logloss for fold 4 : 0.8635968440297834\n",
        "\n",
        "---\n",
        "\n",
        "\n",
        "added gb and ccci ratios -> 0.8607\n",
        "\n",
        "logloss for fold 0 : 0.8462428316434167\n",
        "\n",
        "logloss for fold 1 : 0.8532601405559088\n",
        "\n",
        "logloss for fold 2 : 0.8517323925320909\n",
        "\n",
        "logloss for fold 3 : 0.8878470911141075\n",
        "\n",
        "logloss for fold 4 : 0.8645777907168929\n",
        "\n",
        "---\n",
        "\n",
        "\n",
        "depth 7 -> 0.86431\n",
        "\n",
        "logloss for fold 0 : 0.8467686970398699\n",
        "\n",
        "logloss for fold 1 : 0.8589149764524652\n",
        "\n",
        "logloss for fold 2 : 0.8581834054542969\n",
        "\n",
        "logloss for fold 3 : 0.8882472228608422\n",
        "\n",
        "logloss for fold 4 : 0.8694501595166891\n",
        "\n",
        "---\n",
        "\n",
        "\n",
        "added more single bands blue/green/edge2/edge3/8a (reg/300) ->0.865860\n",
        "\n",
        "logloss for fold 0 : 0.8499531175911915\n",
        "\n",
        "logloss for fold 1 : 0.8613288971887156\n",
        "\n",
        "logloss for fold 2 : 0.8585735458955613\n",
        "\n",
        "logloss for fold 3 : 0.889730794517161\n",
        "\n",
        "logloss for fold 4 : 0.8697178892940636\n",
        "\n",
        "---\n",
        "same as last cpu -> 0.87225\n",
        "\n",
        "logloss for fold 0 : 0.8580930524927487\n",
        "\n",
        "logloss for fold 1 : 0.8715883398736867\n",
        "\n",
        "logloss for fold 2 : 0.8618414641644917\n",
        "\n",
        "logloss for fold 3 : 0.893811433039612\n",
        "\n",
        "logloss for fold 4 : 0.8759222646828319\n",
        "\n",
        "\n",
        "\n",
        "---\n",
        "\n"
      ]
    },
    {
      "cell_type": "markdown",
      "metadata": {
        "id": "Vsw2Nv9FO0nS"
      },
      "source": [
        "CPU\n",
        "\n",
        "\n",
        "---\n",
        "\n",
        "\n",
        "added two indices + some single bands-> 0.871028\n",
        "\n",
        "logloss for fold 0 : 0.8578597913868939\n",
        "\n",
        "logloss for fold 1 : 0.8650379504721168\n",
        "\n",
        "logloss for fold 2 : 0.8629781775030982\n",
        "\n",
        "logloss for fold 3 : 0.893615796247894\n",
        "\n",
        "logloss for fold 4 : 0.8756527988543296\n",
        "\n",
        "---\n",
        "\n",
        "\n",
        "added new metrics ->0.8767436288\n",
        "\n",
        "logloss for fold 0 : 0.8605960507484829\n",
        "\n",
        "logloss for fold 1 : 0.8780302751983969\n",
        "\n",
        "logloss for fold 2 : 0.8633131886340818\n",
        "\n",
        "logloss for fold 3 : 0.8995185524178626\n",
        "\n",
        "logloss for fold 4 : 0.8822617009001036\n",
        "\n",
        "---\n",
        "\n",
        "\n",
        "added two new metrics \n",
        "\n",
        "logloss for fold 0 : 0.8739060362805777\n",
        "\n",
        "logloss for fold 1 : 0.8898746412442257\n",
        "\n",
        "logloss for fold 2 : 0.8782741715421684\n",
        "\n",
        "logloss for fold 3 : 0.9172284293327256\n",
        "\n",
        "logloss for fold 4 : 0.8964143026990539\n",
        "\n",
        "---\n",
        "savi + ratios + fluct -> 0.89319\n",
        "\n",
        "logloss for fold 0 : 0.8769983912086717\n",
        "\n",
        "logloss for fold 1 : 0.8917533836005282\n",
        "\n",
        "logloss for fold 2 : 0.8827781916289588\n",
        "\n",
        "logloss for fold 3 : 0.9170667643628551\n",
        "\n",
        "logloss for fold 4 : 0.8973615175142327"
      ]
    },
    {
      "cell_type": "markdown",
      "metadata": {
        "id": "3wybPbxRPbZg"
      },
      "source": [
        "GPU\n",
        "\n",
        "\n",
        "\n",
        "---\n",
        "replacedd ndvi slopes with ndvi ratios  -> 0.88900\n",
        "\n",
        "logloss for fold 0 : 0.8740931467927774\n",
        "\n",
        "logloss for fold 1 : 0.8877159417054825\n",
        "\n",
        "logloss for fold 2 : 0.8762472185895033\n",
        "\n",
        "logloss for fold 3 : 0.9118853936881567\n",
        "\n",
        "logloss for fold 4 : 0.895095208671837\n",
        "\n",
        "---\n",
        "first try 0.89043\n",
        "\n",
        "logloss for fold 0 : 0.8733562741675192\n",
        "\n",
        "logloss for fold 1 : 0.8902185421232152\n",
        "\n",
        "logloss for fold 2 : 0.8779297235597037\n",
        "\n",
        "logloss for fold 3 : 0.9136816875324059\n",
        "\n",
        "logloss for fold 4 : 0.8970048064501239\n",
        "\n",
        "---\n",
        "\n",
        "\n",
        "khayeb 0.89091842\n",
        "\n",
        "logloss for fold 0 : 0.8736128503756967\n",
        "\n",
        "logloss for fold 1 : 0.8908764836690678\n",
        "\n",
        "logloss for fold 2 : 0.8779297235597037\n",
        "\n",
        "logloss for fold 3 : 0.9151700170808512\n",
        "\n",
        "logloss for fold 4 : 0.8970048064501239\n",
        "\n",
        "---\n",
        "\n",
        "\n",
        "slops+fluct+ratios -> 0.8907\n",
        "\n",
        "logloss for fold 0 : 0.8719109744850281\n",
        "\n",
        "logloss for fold 1 : 0.8886636382130257\n",
        "\n",
        "logloss for fold 2 : 0.8801350736625474\n",
        "\n",
        "logloss for fold 3 : 0.916146238875214\n",
        "\n",
        "logloss for fold 4 : 0.8968334691769068\n",
        "\n",
        "---\n",
        "\n",
        "mcari + slopes ->0.8971\n",
        "\n",
        "logloss for fold 0 : 0.8769019776542377\n",
        "\n",
        "logloss for fold 1 : 0.8992371107697851\n",
        "\n",
        "logloss for fold 2 : 0.8869884653009968\n",
        "\n",
        "logloss for fold 3 : 0.9181965688184608\n",
        "\n",
        "logloss for fold 4 : 0.904304139030388\n",
        "\n",
        "---\n",
        "mcari reg:30 /early stopping 300 -> 0.905\n",
        "\n",
        "logloss for fold 0 : 0.8854935102026135\n",
        "\n",
        "logloss for fold 1 : 0.9074118882446355\n",
        "\n",
        "logloss for fold 2 : 0.896190018933976\n",
        "\n",
        "logloss for fold 3 : 0.9254447862707788\n",
        "\n",
        "logloss for fold 4 : 0.912233040958308\n",
        "\n",
        "\n",
        "---\n",
        "\n",
        "\n",
        "mcari -> 0.909\n",
        "\n",
        "logloss for fold 0 : 0.889972265540496\n",
        "\n",
        "logloss for fold 1 : 0.9129278296147307\n",
        "\n",
        "logloss for fold 2 : 0.9016139542426218\n",
        "\n",
        "logloss for fold 3 : 0.926975422592127\n",
        "\n",
        "logloss for fold 4 : 0.9147411539220813\n",
        "\n",
        "\n",
        "---\n",
        "mcari reg:30 /early stopping 300 -> 0.905\n",
        "\n",
        "logloss for fold 0 : 0.8854935102026135\n",
        "\n",
        "logloss for fold 1 : 0.9074118882446355\n",
        "\n",
        "logloss for fold 2 : 0.896190018933976\n",
        "\n",
        "logloss for fold 3 : 0.9254447862707788\n",
        "\n",
        "logloss for fold 4 : 0.912233040958308\n",
        "\n",
        "\n",
        "---\n",
        "\n"
      ]
    },
    {
      "cell_type": "markdown",
      "metadata": {
        "id": "33EcffUcd_Ur"
      },
      "source": [
        "5 Folds\n",
        "\n",
        "\n",
        "\n",
        "---\n",
        "std/ min max /area + bis -> 0.915475\n",
        "\n",
        "logloss for fold 0 : 0.8955264230094121\n",
        "\n",
        "logloss for fold 1 : 0.9197696214372869\n",
        "\n",
        "logloss for fold 2 : 0.9054577993204667\n",
        "\n",
        "logloss for fold 3 : 0.9368310008986231\n",
        "\n",
        "logloss for fold 4 : 0.9197927305664909\n",
        "\n",
        "---\n",
        "\n",
        "\n",
        "* 0.93834457 (5000/200 0.05) --> 0.903245988\n",
        "\n",
        "logloss for fold 0 : 0.9143141267502642\n",
        "\n",
        "logloss for fold 1 : 0.9421909832241614\n",
        "\n",
        "logloss for fold 2 : 0.9311696735985452\n",
        "\n",
        "logloss for fold 3 : 0.9626219369523193\n",
        "\n",
        "logloss for fold 4 : 0.941427707906017\n",
        "\n",
        "\n",
        "---\n",
        "\n",
        "added timely std + ndvi min/max date ->0.92964 / 0.899514(lb)\n",
        "\n",
        "logloss for fold 0 : 0.9095544391546667\n",
        "\n",
        "logloss for fold 1 : 0.92992887254574\n",
        "\n",
        "logloss for fold 2 : 0.9225664987293765\n",
        "\n",
        "logloss for fold 3 : 0.9499297701907368\n",
        "\n",
        "logloss for fold 4 : 0.9362260742989394\n",
        "\n",
        "\n",
        "---\n",
        "added savg on nir -> 0.92473606 / 0.895(lb)\n",
        "\n",
        "logloss for fold 0 : 0.9037934373812384\n",
        "\n",
        "logloss for fold 1 : 0.9330602517605175\n",
        "\n",
        "logloss for fold 2 : 0.9164593213779265\n",
        "\n",
        "logloss for fold 3 : 0.9451734949021879\n",
        "\n",
        "logloss for fold 4 : 0.9251950239392466\n",
        "\n",
        "\n",
        "---\n",
        "no savg added area ->0.92323/0.8939(lb)\n",
        "\n",
        "logloss for fold 0 : 0.9018277073387025\n",
        "\n",
        "logloss for fold 1 : 0.9302950311916284\n",
        "\n",
        "logloss for fold 2 : 0.9170039195596509\n",
        "\n",
        "logloss for fold 3 : 0.9416138005709092\n",
        "\n",
        "logloss for fold 4 : 0.9254396321922209\n",
        "\n",
        "\n",
        "---\n",
        "\n",
        "added slopes -> 0.922714\n",
        "\n",
        "logloss for fold 0 : 0.9026445756273658\n",
        "\n",
        "logloss for fold 1 : 0.9279691839531877\n",
        "\n",
        "logloss for fold 2 : 0.917396380450733\n",
        "\n",
        "logloss for fold 3 : 0.9413514693702966\n",
        "\n",
        "logloss for fold 4 : 0.9242122646548273\n"
      ]
    },
    {
      "cell_type": "markdown",
      "metadata": {
        "id": "q5KmpajRfFop"
      },
      "source": [
        "# submission"
      ]
    },
    {
      "cell_type": "code",
      "metadata": {
        "colab": {
          "base_uri": "https://localhost:8080/"
        },
        "id": "9QAXVTQx71ow",
        "outputId": "fd86a313-2279-4da6-c70c-e30e329ba09c"
      },
      "source": [
        "k_preds=np.mean(np.clip(preds,0,0.8),axis=0)\n",
        "k_preds.shape"
      ],
      "execution_count": null,
      "outputs": [
        {
          "output_type": "execute_result",
          "data": {
            "text/plain": [
              "(35295, 9)"
            ]
          },
          "metadata": {},
          "execution_count": 83
        }
      ]
    },
    {
      "cell_type": "code",
      "metadata": {
        "id": "cNSkdJJGC-fV"
      },
      "source": [
        "sub_crop=['Lucerne/Medics','Planted pastures (perennial)','Fallow','Wine grapes','Weeds','Small grain grazing','Wheat','Canola','Rooibos']\n",
        "sub_crop=['Crop_'+t for t in sub_crop]"
      ],
      "execution_count": null,
      "outputs": []
    },
    {
      "cell_type": "code",
      "metadata": {
        "id": "8RanNb-J_lCg"
      },
      "source": [
        "f_preds=pd.DataFrame(k_preds,columns=sub_crop)"
      ],
      "execution_count": null,
      "outputs": []
    },
    {
      "cell_type": "code",
      "metadata": {
        "id": "oEPnNfIcAJmR"
      },
      "source": [
        "f_preds['Field ID']=test_fortnight_bf.field_id.values"
      ],
      "execution_count": null,
      "outputs": []
    },
    {
      "cell_type": "code",
      "metadata": {
        "id": "B3ES-B62ILTM"
      },
      "source": [
        "s=['Field ID', 'Crop_Lucerne/Medics', 'Crop_Planted pastures (perennial)',\n",
        "       'Crop_Fallow', 'Crop_Wine grapes', 'Crop_Weeds',\n",
        "       'Crop_Small grain grazing', 'Crop_Wheat', 'Crop_Canola',\n",
        "       'Crop_Rooibos']"
      ],
      "execution_count": null,
      "outputs": []
    },
    {
      "cell_type": "code",
      "metadata": {
        "id": "OoZxJV4mATck"
      },
      "source": [
        "f_preds=f_preds[s]"
      ],
      "execution_count": null,
      "outputs": []
    },
    {
      "cell_type": "code",
      "metadata": {
        "id": "dqZ8PPqDF8dB"
      },
      "source": [
        "#submission file\n",
        "f_preds.to_csv('final.csv', index=False)"
      ],
      "execution_count": null,
      "outputs": []
    },
    {
      "cell_type": "markdown",
      "metadata": {
        "id": "AQmaTGfK8nq2"
      },
      "source": [
        "**next cells doesn't have to be executed : they are for analysis purpose**"
      ]
    },
    {
      "cell_type": "markdown",
      "metadata": {
        "id": "7Qp0jSttfM9p"
      },
      "source": [
        "# error analysis"
      ]
    },
    {
      "cell_type": "code",
      "metadata": {
        "colab": {
          "base_uri": "https://localhost:8080/",
          "height": 609
        },
        "id": "xHyulAsYpq46",
        "outputId": "91aa7d36-be51-4a48-c829-0902b769088a"
      },
      "source": [
        "hard_preds=np.argmax(oof_preds_cat,axis=1)\n",
        "hard_preds+=1\n",
        "\n",
        "from sklearn.metrics import confusion_matrix\n",
        "cm=confusion_matrix(y, hard_preds,labels=np.unique(y),normalize='true')\n",
        "\n",
        "import seaborn as sns\n",
        "plt.figure(figsize=(10,10))\n",
        "cm*=100\n",
        "sns.heatmap(cm, cmap=\"Blues\", annot=True,annot_kws={\"size\": 12})"
      ],
      "execution_count": null,
      "outputs": [
        {
          "output_type": "execute_result",
          "data": {
            "text/plain": [
              "<matplotlib.axes._subplots.AxesSubplot at 0x7fb1e6330610>"
            ]
          },
          "metadata": {},
          "execution_count": 98
        },
        {
          "output_type": "display_data",
          "data": {
            "image/png": "[encoded data removed]",
            "text/plain": [
              "<Figure size 720x720 with 2 Axes>"
            ]
          },
          "metadata": {
            "needs_background": "light"
          }
        }
      ]
    },
    {
      "cell_type": "markdown",
      "metadata": {
        "id": "ImzmVIZKezyA"
      },
      "source": [
        "**error analysis**"
      ]
    },
    {
      "cell_type": "code",
      "metadata": {
        "id": "LbCf21pSfaVY"
      },
      "source": [
        "hard_preds=np.argmax(oof_preds_cat,axis=1)\n",
        "hard_preds+=1"
      ],
      "execution_count": null,
      "outputs": []
    },
    {
      "cell_type": "code",
      "metadata": {
        "id": "kUsbCl2Ge2FY"
      },
      "source": [
        "train_preds=pd.DataFrame(oof_preds_cat)\n",
        "train_preds['label']=y\n",
        "train_preds['preds']=hard_preds\n",
        "train_preds['field_id']=free_train['field_id'].values"
      ],
      "execution_count": null,
      "outputs": []
    },
    {
      "cell_type": "code",
      "metadata": {
        "id": "5NNHHxodqbRR"
      },
      "source": [
        "missed_5=train_preds[(train_preds.label==5) & (train_preds.preds!=5)]"
      ],
      "execution_count": null,
      "outputs": []
    },
    {
      "cell_type": "code",
      "metadata": {
        "colab": {
          "base_uri": "https://localhost:8080/",
          "height": 415
        },
        "id": "nLtmlBNVqmlX",
        "outputId": "62d11eff-999a-46d7-9b1a-37058c77d397"
      },
      "source": [
        "missed_5"
      ],
      "execution_count": null,
      "outputs": [
        {
          "data": {
            "text/html": [
              "<div>\n",
              "<style scoped>\n",
              "    .dataframe tbody tr th:only-of-type {\n",
              "        vertical-align: middle;\n",
              "    }\n",
              "\n",
              "    .dataframe tbody tr th {\n",
              "        vertical-align: top;\n",
              "    }\n",
              "\n",
              "    .dataframe thead th {\n",
              "        text-align: right;\n",
              "    }\n",
              "</style>\n",
              "<table border=\"1\" class=\"dataframe\">\n",
              "  <thead>\n",
              "    <tr style=\"text-align: right;\">\n",
              "      <th></th>\n",
              "      <th>0</th>\n",
              "      <th>1</th>\n",
              "      <th>2</th>\n",
              "      <th>3</th>\n",
              "      <th>4</th>\n",
              "      <th>5</th>\n",
              "      <th>6</th>\n",
              "      <th>7</th>\n",
              "      <th>8</th>\n",
              "      <th>label</th>\n",
              "      <th>preds</th>\n",
              "      <th>field_id</th>\n",
              "    </tr>\n",
              "  </thead>\n",
              "  <tbody>\n",
              "    <tr>\n",
              "      <th>0</th>\n",
              "      <td>0.004232</td>\n",
              "      <td>0.071320</td>\n",
              "      <td>0.586994</td>\n",
              "      <td>0.005852</td>\n",
              "      <td>0.288457</td>\n",
              "      <td>0.041259</td>\n",
              "      <td>0.000580</td>\n",
              "      <td>0.000135</td>\n",
              "      <td>0.001172</td>\n",
              "      <td>5</td>\n",
              "      <td>3</td>\n",
              "      <td>43134</td>\n",
              "    </tr>\n",
              "    <tr>\n",
              "      <th>5</th>\n",
              "      <td>0.007532</td>\n",
              "      <td>0.130972</td>\n",
              "      <td>0.489267</td>\n",
              "      <td>0.015840</td>\n",
              "      <td>0.126449</td>\n",
              "      <td>0.224901</td>\n",
              "      <td>0.004195</td>\n",
              "      <td>0.000120</td>\n",
              "      <td>0.000725</td>\n",
              "      <td>5</td>\n",
              "      <td>3</td>\n",
              "      <td>91979</td>\n",
              "    </tr>\n",
              "    <tr>\n",
              "      <th>22</th>\n",
              "      <td>0.000902</td>\n",
              "      <td>0.003466</td>\n",
              "      <td>0.921764</td>\n",
              "      <td>0.002663</td>\n",
              "      <td>0.066325</td>\n",
              "      <td>0.002652</td>\n",
              "      <td>0.000143</td>\n",
              "      <td>0.000010</td>\n",
              "      <td>0.002075</td>\n",
              "      <td>5</td>\n",
              "      <td>3</td>\n",
              "      <td>85328</td>\n",
              "    </tr>\n",
              "    <tr>\n",
              "      <th>29</th>\n",
              "      <td>0.004209</td>\n",
              "      <td>0.095257</td>\n",
              "      <td>0.674839</td>\n",
              "      <td>0.030900</td>\n",
              "      <td>0.183827</td>\n",
              "      <td>0.004115</td>\n",
              "      <td>0.001052</td>\n",
              "      <td>0.000181</td>\n",
              "      <td>0.005621</td>\n",
              "      <td>5</td>\n",
              "      <td>3</td>\n",
              "      <td>114441</td>\n",
              "    </tr>\n",
              "    <tr>\n",
              "      <th>32</th>\n",
              "      <td>0.028067</td>\n",
              "      <td>0.019810</td>\n",
              "      <td>0.338389</td>\n",
              "      <td>0.000307</td>\n",
              "      <td>0.266927</td>\n",
              "      <td>0.268869</td>\n",
              "      <td>0.016516</td>\n",
              "      <td>0.001641</td>\n",
              "      <td>0.059475</td>\n",
              "      <td>5</td>\n",
              "      <td>3</td>\n",
              "      <td>9481</td>\n",
              "    </tr>\n",
              "    <tr>\n",
              "      <th>...</th>\n",
              "      <td>...</td>\n",
              "      <td>...</td>\n",
              "      <td>...</td>\n",
              "      <td>...</td>\n",
              "      <td>...</td>\n",
              "      <td>...</td>\n",
              "      <td>...</td>\n",
              "      <td>...</td>\n",
              "      <td>...</td>\n",
              "      <td>...</td>\n",
              "      <td>...</td>\n",
              "      <td>...</td>\n",
              "    </tr>\n",
              "    <tr>\n",
              "      <th>86797</th>\n",
              "      <td>0.117581</td>\n",
              "      <td>0.262198</td>\n",
              "      <td>0.106841</td>\n",
              "      <td>0.004113</td>\n",
              "      <td>0.197542</td>\n",
              "      <td>0.267048</td>\n",
              "      <td>0.022686</td>\n",
              "      <td>0.004216</td>\n",
              "      <td>0.017774</td>\n",
              "      <td>5</td>\n",
              "      <td>6</td>\n",
              "      <td>117587</td>\n",
              "    </tr>\n",
              "    <tr>\n",
              "      <th>86824</th>\n",
              "      <td>0.047739</td>\n",
              "      <td>0.009852</td>\n",
              "      <td>0.364081</td>\n",
              "      <td>0.005498</td>\n",
              "      <td>0.326847</td>\n",
              "      <td>0.172866</td>\n",
              "      <td>0.036833</td>\n",
              "      <td>0.001957</td>\n",
              "      <td>0.034326</td>\n",
              "      <td>5</td>\n",
              "      <td>3</td>\n",
              "      <td>18958</td>\n",
              "    </tr>\n",
              "    <tr>\n",
              "      <th>87107</th>\n",
              "      <td>0.071968</td>\n",
              "      <td>0.431772</td>\n",
              "      <td>0.022796</td>\n",
              "      <td>0.272242</td>\n",
              "      <td>0.141670</td>\n",
              "      <td>0.057923</td>\n",
              "      <td>0.000754</td>\n",
              "      <td>0.000566</td>\n",
              "      <td>0.000309</td>\n",
              "      <td>5</td>\n",
              "      <td>2</td>\n",
              "      <td>52820</td>\n",
              "    </tr>\n",
              "    <tr>\n",
              "      <th>87109</th>\n",
              "      <td>0.008842</td>\n",
              "      <td>0.101509</td>\n",
              "      <td>0.234676</td>\n",
              "      <td>0.557559</td>\n",
              "      <td>0.032448</td>\n",
              "      <td>0.062805</td>\n",
              "      <td>0.001427</td>\n",
              "      <td>0.000693</td>\n",
              "      <td>0.000041</td>\n",
              "      <td>5</td>\n",
              "      <td>4</td>\n",
              "      <td>86618</td>\n",
              "    </tr>\n",
              "    <tr>\n",
              "      <th>87112</th>\n",
              "      <td>0.033890</td>\n",
              "      <td>0.202593</td>\n",
              "      <td>0.189307</td>\n",
              "      <td>0.302403</td>\n",
              "      <td>0.241993</td>\n",
              "      <td>0.019912</td>\n",
              "      <td>0.000910</td>\n",
              "      <td>0.000850</td>\n",
              "      <td>0.008142</td>\n",
              "      <td>5</td>\n",
              "      <td>4</td>\n",
              "      <td>112672</td>\n",
              "    </tr>\n",
              "  </tbody>\n",
              "</table>\n",
              "<p>4170 rows × 12 columns</p>\n",
              "</div>"
            ],
            "text/plain": [
              "              0         1         2         3  ...         8  label  preds  field_id\n",
              "0      0.004232  0.071320  0.586994  0.005852  ...  0.001172      5      3     43134\n",
              "5      0.007532  0.130972  0.489267  0.015840  ...  0.000725      5      3     91979\n",
              "22     0.000902  0.003466  0.921764  0.002663  ...  0.002075      5      3     85328\n",
              "29     0.004209  0.095257  0.674839  0.030900  ...  0.005621      5      3    114441\n",
              "32     0.028067  0.019810  0.338389  0.000307  ...  0.059475      5      3      9481\n",
              "...         ...       ...       ...       ...  ...       ...    ...    ...       ...\n",
              "86797  0.117581  0.262198  0.106841  0.004113  ...  0.017774      5      6    117587\n",
              "86824  0.047739  0.009852  0.364081  0.005498  ...  0.034326      5      3     18958\n",
              "87107  0.071968  0.431772  0.022796  0.272242  ...  0.000309      5      2     52820\n",
              "87109  0.008842  0.101509  0.234676  0.557559  ...  0.000041      5      4     86618\n",
              "87112  0.033890  0.202593  0.189307  0.302403  ...  0.008142      5      4    112672\n",
              "\n",
              "[4170 rows x 12 columns]"
            ]
          },
          "execution_count": 40,
          "metadata": {},
          "output_type": "execute_result"
        }
      ]
    },
    {
      "cell_type": "code",
      "metadata": {
        "id": "zkdzrnaPf5Cw"
      },
      "source": [
        "missed_lucrene=train_preds[(train_preds.label==1) & (train_preds.preds==2)]"
      ],
      "execution_count": null,
      "outputs": []
    },
    {
      "cell_type": "code",
      "metadata": {
        "colab": {
          "base_uri": "https://localhost:8080/"
        },
        "id": "YvPe1s3_gDrH",
        "outputId": "f51bdf55-2463-4391-e4a7-7edc358ed4f5"
      },
      "source": [
        "missed_lucrene.field_id.values[:20]"
      ],
      "execution_count": null,
      "outputs": [
        {
          "output_type": "execute_result",
          "data": {
            "text/plain": [
              "array([ 66270, 105550,  23490,  33826,  53468,  20215,   6242,  26177,\n",
              "        67638, 116376,   2400,   2673,   3458,  27747,  35406,  38868,\n",
              "        43063,  47236,  61299,  62652])"
            ]
          },
          "metadata": {},
          "execution_count": 132
        }
      ]
    },
    {
      "cell_type": "code",
      "metadata": {
        "id": "7RoqxZNmgm9Q"
      },
      "source": [
        "ndvi_cols=['field_id']+[f'VV{i}_median_{j}'for i in [1,2] for j in range(4,12)]\n",
        "ndvi_df=free_train[ndvi_cols]"
      ],
      "execution_count": null,
      "outputs": []
    },
    {
      "cell_type": "code",
      "metadata": {
        "colab": {
          "base_uri": "https://localhost:8080/",
          "height": 265
        },
        "id": "zOEOvJNlgUAS",
        "outputId": "9b03e99d-c95c-470f-eaaf-049de4cfa1ef"
      },
      "source": [
        "ll=list(missed_lucrene.field_id.values)\n",
        "random.shuffle(ll)\n",
        "l=ll[:5]\n",
        "\n",
        "for i in l:\n",
        "  plt.plot(list(ndvi_df[ndvi_df.field_id==i].values)[0][1:])"
      ],
      "execution_count": null,
      "outputs": [
        {
          "output_type": "display_data",
          "data": {
            "image/png": "[encoded data removed]",
            "text/plain": [
              "<Figure size 432x288 with 1 Axes>"
            ]
          },
          "metadata": {
            "needs_background": "light"
          }
        }
      ]
    },
    {
      "cell_type": "markdown",
      "metadata": {
        "id": "KaJTjQqsg2WE"
      },
      "source": [
        "a lot of misclassified lucrene fields have a particular pattern probably similar to that of pastures"
      ]
    },
    {
      "cell_type": "code",
      "metadata": {
        "id": "xPkyT3FwhBUr"
      },
      "source": [
        "pasture_df=train_preds[(train_preds.label==2) & (train_preds.preds==2)]"
      ],
      "execution_count": null,
      "outputs": []
    },
    {
      "cell_type": "code",
      "metadata": {
        "id": "cx2Qgj1iixqV"
      },
      "source": [
        "pasture_df=free_train[(free_train.label==2) ]"
      ],
      "execution_count": null,
      "outputs": []
    },
    {
      "cell_type": "code",
      "metadata": {
        "id": "lCuN54z3hOti"
      },
      "source": [
        "import random\n",
        "shuffled_pastures=list(pasture_df.field_id.values)"
      ],
      "execution_count": null,
      "outputs": []
    },
    {
      "cell_type": "code",
      "metadata": {
        "colab": {
          "base_uri": "https://localhost:8080/",
          "height": 265
        },
        "id": "YoJ6MWPHhQ0A",
        "outputId": "fcdd75dc-21c0-4f3a-a4b1-aa7c4ca7f847"
      },
      "source": [
        "random.shuffle(shuffled_pastures)\n",
        "l=shuffled_pastures[:5]\n",
        "for i in l:\n",
        "  plt.plot(list(ndvi_df[ndvi_df.field_id==i].values)[0][1:])"
      ],
      "execution_count": null,
      "outputs": [
        {
          "output_type": "display_data",
          "data": {
            "image/png": "[encoded data removed]",
            "text/plain": [
              "<Figure size 432x288 with 1 Axes>"
            ]
          },
          "metadata": {
            "needs_background": "light"
          }
        }
      ]
    },
    {
      "cell_type": "code",
      "metadata": {
        "colab": {
          "base_uri": "https://localhost:8080/"
        },
        "id": "NDclRCZjMS7I",
        "outputId": "b4ffd94a-78ae-49ec-e6ec-ddd21c95abaf"
      },
      "source": [
        "l"
      ],
      "execution_count": null,
      "outputs": [
        {
          "data": {
            "text/plain": [
              "[8462, 119203, 94567, 62021, 69079]"
            ]
          },
          "execution_count": 31,
          "metadata": {},
          "output_type": "execute_result"
        }
      ]
    },
    {
      "cell_type": "code",
      "metadata": {
        "colab": {
          "base_uri": "https://localhost:8080/"
        },
        "id": "fsGIuU-LMCRY",
        "outputId": "3605b244-ff5c-42c1-b83f-f1116e0d8f96"
      },
      "source": [
        "free_train.loc[free_train.field_id==69079,'nir_fluct']"
      ],
      "execution_count": null,
      "outputs": [
        {
          "data": {
            "text/plain": [
              "48695    2\n",
              "Name: nir_fluct, dtype: int64"
            ]
          },
          "execution_count": 35,
          "metadata": {},
          "output_type": "execute_result"
        }
      ]
    },
    {
      "cell_type": "code",
      "metadata": {
        "colab": {
          "base_uri": "https://localhost:8080/",
          "height": 281
        },
        "id": "I_td7XV8zxPB",
        "outputId": "7e6f15d1-aff7-41a2-b94f-1c3740e8d08d"
      },
      "source": [
        "plt.plot(list(ndvi_df[ndvi_df.field_id==11010].values)[0][1:])"
      ],
      "execution_count": null,
      "outputs": [
        {
          "data": {
            "text/plain": [
              "[<matplotlib.lines.Line2D at 0x7f1a019834d0>]"
            ]
          },
          "execution_count": 89,
          "metadata": {},
          "output_type": "execute_result"
        },
        {
          "data": {
            "image/png": "[encoded data removed]",
            "text/plain": [
              "<Figure size 432x288 with 1 Axes>"
            ]
          },
          "metadata": {},
          "output_type": "display_data"
        }
      ]
    },
    {
      "cell_type": "code",
      "metadata": {
        "colab": {
          "base_uri": "https://localhost:8080/",
          "height": 1000
        },
        "id": "m5IPCq8SA8bU",
        "outputId": "503859b9-cbe3-419c-b0c4-05b2030361e0"
      },
      "source": [
        "import seaborn as sns \n",
        "\n",
        "def plot_feature_importance(importance,names,model_type):\n",
        "    \n",
        "  #Create arrays from feature importance and feature names\n",
        "  feature_importance = np.array(importance)\n",
        "  feature_names = np.array(names)\n",
        "    \n",
        "  #Create a DataFrame using a Dictionary\n",
        "  data={'feature_names':feature_names,'feature_importance':feature_importance}\n",
        "  fi_df = pd.DataFrame(data)\n",
        "    \n",
        "  #Sort the DataFrame in order decreasing feature importance\n",
        "  fi_df.sort_values(by=['feature_importance'], ascending=False,inplace=True)\n",
        "    \n",
        "  #Define size of bar plot\n",
        "  plt.figure(figsize=(20,60))\n",
        "  #Plot Searborn bar chart\n",
        "  sns.barplot(x=fi_df['feature_importance'], y=fi_df['feature_names'])\n",
        "  #Add chart labels\n",
        "  plt.title(model_type + 'FEATURE IMPORTANCE')\n",
        "  plt.xlabel('FEATURE IMPORTANCE')\n",
        "  plt.ylabel('FEATURE NAMES')\n",
        "\n",
        "plot_feature_importance(model.get_feature_importance(), X.columns,'CATBOOST ')"
      ],
      "execution_count": null,
      "outputs": [
        {
          "data": {
            "image/png": "[encoded data removed]",
            "text/plain": [
              "<Figure size 1440x4320 with 1 Axes>"
            ]
          },
          "metadata": {},
          "output_type": "display_data"
        }
      ]
    },
    {
      "cell_type": "code",
      "metadata": {
        "id": "3Rkt9FaKI-dM"
      },
      "source": [
        "#max_ndvi_date/edge /green"
      ],
      "execution_count": null,
      "outputs": []
    }
  ]
}