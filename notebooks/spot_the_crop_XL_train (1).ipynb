{
  "nbformat": 4,
  "nbformat_minor": 0,
  "metadata": {
    "colab": {
      "name": "spot_the_crop_XL_train.ipynb",
      "provenance": [],
      "collapsed_sections": [
        "qK9TYE9RXjPs",
        "z4ptaw5paOf4",
        "qW6pf2BtoiCe",
        "D4HMgwPDBAAJ",
        "y3KA3sA_wmsa",
        "FcEADhVFNu1g",
        "uo-txCkxWXZI",
        "m63LKPVyXfeE",
        "iIuiHFCdkMyH",
        "kHbxP3K1ETkA"
      ],
      "machine_shape": "hm"
    },
    "kernelspec": {
      "display_name": "Python 3",
      "name": "python3"
    },
    "widgets": {
      "application/vnd.jupyter.widget-state+json": {
        "15771a2b0d9640b1a41c16ee63b7309d": {
          "model_module": "@jupyter-widgets/controls",
          "model_name": "HBoxModel",
          "model_module_version": "1.5.0",
          "state": {
            "_view_name": "HBoxView",
            "_dom_classes": [],
            "_model_name": "HBoxModel",
            "_view_module": "@jupyter-widgets/controls",
            "_model_module_version": "1.5.0",
            "_view_count": null,
            "_view_module_version": "1.5.0",
            "box_style": "",
            "layout": "IPY_MODEL_d4336a3713e04c99aeb936de0fc19d05",
            "_model_module": "@jupyter-widgets/controls",
            "children": [
              "IPY_MODEL_1151cccfa6164196bac5f1b59a343e4d",
              "IPY_MODEL_9ffe2d6ac2c14757aa2e8e0c97927cb6",
              "IPY_MODEL_52502637b60d4e988cfb43d692ab9f35"
            ]
          }
        },
        "d4336a3713e04c99aeb936de0fc19d05": {
          "model_module": "@jupyter-widgets/base",
          "model_name": "LayoutModel",
          "model_module_version": "1.2.0",
          "state": {
            "_view_name": "LayoutView",
            "grid_template_rows": null,
            "right": null,
            "justify_content": null,
            "_view_module": "@jupyter-widgets/base",
            "overflow": null,
            "_model_module_version": "1.2.0",
            "_view_count": null,
            "flex_flow": null,
            "width": null,
            "min_width": null,
            "border": null,
            "align_items": null,
            "bottom": null,
            "_model_module": "@jupyter-widgets/base",
            "top": null,
            "grid_column": null,
            "overflow_y": null,
            "overflow_x": null,
            "grid_auto_flow": null,
            "grid_area": null,
            "grid_template_columns": null,
            "flex": null,
            "_model_name": "LayoutModel",
            "justify_items": null,
            "grid_row": null,
            "max_height": null,
            "align_content": null,
            "visibility": null,
            "align_self": null,
            "height": null,
            "min_height": null,
            "padding": null,
            "grid_auto_rows": null,
            "grid_gap": null,
            "max_width": null,
            "order": null,
            "_view_module_version": "1.2.0",
            "grid_template_areas": null,
            "object_position": null,
            "object_fit": null,
            "grid_auto_columns": null,
            "margin": null,
            "display": null,
            "left": null
          }
        },
        "1151cccfa6164196bac5f1b59a343e4d": {
          "model_module": "@jupyter-widgets/controls",
          "model_name": "HTMLModel",
          "model_module_version": "1.5.0",
          "state": {
            "_view_name": "HTMLView",
            "style": "IPY_MODEL_7d5b0f9cd52141888113bbdc328ef06a",
            "_dom_classes": [],
            "description": "",
            "_model_name": "HTMLModel",
            "placeholder": "​",
            "_view_module": "@jupyter-widgets/controls",
            "_model_module_version": "1.5.0",
            "value": "",
            "_view_count": null,
            "_view_module_version": "1.5.0",
            "description_tooltip": null,
            "_model_module": "@jupyter-widgets/controls",
            "layout": "IPY_MODEL_169a2198a7bd4e3e9cce8b0a21a116e5"
          }
        },
        "9ffe2d6ac2c14757aa2e8e0c97927cb6": {
          "model_module": "@jupyter-widgets/controls",
          "model_name": "FloatProgressModel",
          "model_module_version": "1.5.0",
          "state": {
            "_view_name": "ProgressView",
            "style": "IPY_MODEL_649e108f070041ffa93a20c26476f147",
            "_dom_classes": [],
            "description": "",
            "_model_name": "FloatProgressModel",
            "bar_style": "success",
            "max": 6755.8,
            "_view_module": "@jupyter-widgets/controls",
            "_model_module_version": "1.5.0",
            "value": 6755.8,
            "_view_count": null,
            "_view_module_version": "1.5.0",
            "orientation": "horizontal",
            "min": 0,
            "description_tooltip": null,
            "_model_module": "@jupyter-widgets/controls",
            "layout": "IPY_MODEL_fa59716cf864449c935060aed13268d9"
          }
        },
        "52502637b60d4e988cfb43d692ab9f35": {
          "model_module": "@jupyter-widgets/controls",
          "model_name": "HTMLModel",
          "model_module_version": "1.5.0",
          "state": {
            "_view_name": "HTMLView",
            "style": "IPY_MODEL_4076e94d7e1a43d295dac1e66e840a8d",
            "_dom_classes": [],
            "description": "",
            "_model_name": "HTMLModel",
            "placeholder": "​",
            "_view_module": "@jupyter-widgets/controls",
            "_model_module_version": "1.5.0",
            "value": " 6760.0/? [01:18&lt;00:00, 137.79M/s]",
            "_view_count": null,
            "_view_module_version": "1.5.0",
            "description_tooltip": null,
            "_model_module": "@jupyter-widgets/controls",
            "layout": "IPY_MODEL_c1f1a08578584aadb625f5895e5390a1"
          }
        },
        "7d5b0f9cd52141888113bbdc328ef06a": {
          "model_module": "@jupyter-widgets/controls",
          "model_name": "DescriptionStyleModel",
          "model_module_version": "1.5.0",
          "state": {
            "_view_name": "StyleView",
            "_model_name": "DescriptionStyleModel",
            "description_width": "",
            "_view_module": "@jupyter-widgets/base",
            "_model_module_version": "1.5.0",
            "_view_count": null,
            "_view_module_version": "1.2.0",
            "_model_module": "@jupyter-widgets/controls"
          }
        },
        "169a2198a7bd4e3e9cce8b0a21a116e5": {
          "model_module": "@jupyter-widgets/base",
          "model_name": "LayoutModel",
          "model_module_version": "1.2.0",
          "state": {
            "_view_name": "LayoutView",
            "grid_template_rows": null,
            "right": null,
            "justify_content": null,
            "_view_module": "@jupyter-widgets/base",
            "overflow": null,
            "_model_module_version": "1.2.0",
            "_view_count": null,
            "flex_flow": null,
            "width": null,
            "min_width": null,
            "border": null,
            "align_items": null,
            "bottom": null,
            "_model_module": "@jupyter-widgets/base",
            "top": null,
            "grid_column": null,
            "overflow_y": null,
            "overflow_x": null,
            "grid_auto_flow": null,
            "grid_area": null,
            "grid_template_columns": null,
            "flex": null,
            "_model_name": "LayoutModel",
            "justify_items": null,
            "grid_row": null,
            "max_height": null,
            "align_content": null,
            "visibility": null,
            "align_self": null,
            "height": null,
            "min_height": null,
            "padding": null,
            "grid_auto_rows": null,
            "grid_gap": null,
            "max_width": null,
            "order": null,
            "_view_module_version": "1.2.0",
            "grid_template_areas": null,
            "object_position": null,
            "object_fit": null,
            "grid_auto_columns": null,
            "margin": null,
            "display": null,
            "left": null
          }
        },
        "649e108f070041ffa93a20c26476f147": {
          "model_module": "@jupyter-widgets/controls",
          "model_name": "ProgressStyleModel",
          "model_module_version": "1.5.0",
          "state": {
            "_view_name": "StyleView",
            "_model_name": "ProgressStyleModel",
            "description_width": "",
            "_view_module": "@jupyter-widgets/base",
            "_model_module_version": "1.5.0",
            "_view_count": null,
            "_view_module_version": "1.2.0",
            "bar_color": null,
            "_model_module": "@jupyter-widgets/controls"
          }
        },
        "fa59716cf864449c935060aed13268d9": {
          "model_module": "@jupyter-widgets/base",
          "model_name": "LayoutModel",
          "model_module_version": "1.2.0",
          "state": {
            "_view_name": "LayoutView",
            "grid_template_rows": null,
            "right": null,
            "justify_content": null,
            "_view_module": "@jupyter-widgets/base",
            "overflow": null,
            "_model_module_version": "1.2.0",
            "_view_count": null,
            "flex_flow": null,
            "width": null,
            "min_width": null,
            "border": null,
            "align_items": null,
            "bottom": null,
            "_model_module": "@jupyter-widgets/base",
            "top": null,
            "grid_column": null,
            "overflow_y": null,
            "overflow_x": null,
            "grid_auto_flow": null,
            "grid_area": null,
            "grid_template_columns": null,
            "flex": null,
            "_model_name": "LayoutModel",
            "justify_items": null,
            "grid_row": null,
            "max_height": null,
            "align_content": null,
            "visibility": null,
            "align_self": null,
            "height": null,
            "min_height": null,
            "padding": null,
            "grid_auto_rows": null,
            "grid_gap": null,
            "max_width": null,
            "order": null,
            "_view_module_version": "1.2.0",
            "grid_template_areas": null,
            "object_position": null,
            "object_fit": null,
            "grid_auto_columns": null,
            "margin": null,
            "display": null,
            "left": null
          }
        },
        "4076e94d7e1a43d295dac1e66e840a8d": {
          "model_module": "@jupyter-widgets/controls",
          "model_name": "DescriptionStyleModel",
          "model_module_version": "1.5.0",
          "state": {
            "_view_name": "StyleView",
            "_model_name": "DescriptionStyleModel",
            "description_width": "",
            "_view_module": "@jupyter-widgets/base",
            "_model_module_version": "1.5.0",
            "_view_count": null,
            "_view_module_version": "1.2.0",
            "_model_module": "@jupyter-widgets/controls"
          }
        },
        "c1f1a08578584aadb625f5895e5390a1": {
          "model_module": "@jupyter-widgets/base",
          "model_name": "LayoutModel",
          "model_module_version": "1.2.0",
          "state": {
            "_view_name": "LayoutView",
            "grid_template_rows": null,
            "right": null,
            "justify_content": null,
            "_view_module": "@jupyter-widgets/base",
            "overflow": null,
            "_model_module_version": "1.2.0",
            "_view_count": null,
            "flex_flow": null,
            "width": null,
            "min_width": null,
            "border": null,
            "align_items": null,
            "bottom": null,
            "_model_module": "@jupyter-widgets/base",
            "top": null,
            "grid_column": null,
            "overflow_y": null,
            "overflow_x": null,
            "grid_auto_flow": null,
            "grid_area": null,
            "grid_template_columns": null,
            "flex": null,
            "_model_name": "LayoutModel",
            "justify_items": null,
            "grid_row": null,
            "max_height": null,
            "align_content": null,
            "visibility": null,
            "align_self": null,
            "height": null,
            "min_height": null,
            "padding": null,
            "grid_auto_rows": null,
            "grid_gap": null,
            "max_width": null,
            "order": null,
            "_view_module_version": "1.2.0",
            "grid_template_areas": null,
            "object_position": null,
            "object_fit": null,
            "grid_auto_columns": null,
            "margin": null,
            "display": null,
            "left": null
          }
        }
      }
    }
  },
  "cells": [
    {
      "cell_type": "markdown",
      "metadata": {
        "id": "qK9TYE9RXjPs"
      },
      "source": [
        "# setup"
      ]
    },
    {
      "cell_type": "code",
      "metadata": {
        "colab": {
          "base_uri": "https://localhost:8080/"
        },
        "id": "qF34CyfrjH7_",
        "outputId": "6bbda870-c010-4244-ada1-688cce978d94"
      },
      "source": [
        "from google.colab import drive\n",
        "drive.mount('/content/drive')"
      ],
      "execution_count": 1,
      "outputs": [
        {
          "output_type": "stream",
          "name": "stdout",
          "text": [
            "Mounted at /content/drive\n"
          ]
        }
      ]
    },
    {
      "cell_type": "code",
      "metadata": {
        "colab": {
          "base_uri": "https://localhost:8080/"
        },
        "id": "cteYXHDbIsvI",
        "outputId": "63764faf-2657-4555-acc7-e39d695207cb"
      },
      "source": [
        "!pip install mahotas"
      ],
      "execution_count": 2,
      "outputs": [
        {
          "output_type": "stream",
          "name": "stdout",
          "text": [
            "Collecting mahotas\n",
            "  Downloading mahotas-1.4.11-cp37-cp37m-manylinux2010_x86_64.whl (5.7 MB)\n",
            "\u001b[K     |████████████████████████████████| 5.7 MB 4.7 MB/s \n",
            "\u001b[?25hRequirement already satisfied: numpy in /usr/local/lib/python3.7/dist-packages (from mahotas) (1.19.5)\n",
            "Installing collected packages: mahotas\n",
            "Successfully installed mahotas-1.4.11\n"
          ]
        }
      ]
    },
    {
      "cell_type": "code",
      "metadata": {
        "colab": {
          "base_uri": "https://localhost:8080/"
        },
        "id": "c4kREH6W5NLK",
        "outputId": "61c65dd6-771a-42f0-91c5-94be5cf68c21"
      },
      "source": [
        "!pip install catboost"
      ],
      "execution_count": 3,
      "outputs": [
        {
          "output_type": "stream",
          "name": "stdout",
          "text": [
            "Collecting catboost\n",
            "  Downloading catboost-1.0.0-cp37-none-manylinux1_x86_64.whl (76.4 MB)\n",
            "\u001b[K     |████████████████████████████████| 76.4 MB 48 kB/s \n",
            "\u001b[?25hRequirement already satisfied: scipy in /usr/local/lib/python3.7/dist-packages (from catboost) (1.4.1)\n",
            "Requirement already satisfied: six in /usr/local/lib/python3.7/dist-packages (from catboost) (1.15.0)\n",
            "Requirement already satisfied: matplotlib in /usr/local/lib/python3.7/dist-packages (from catboost) (3.2.2)\n",
            "Requirement already satisfied: numpy>=1.16.0 in /usr/local/lib/python3.7/dist-packages (from catboost) (1.19.5)\n",
            "Requirement already satisfied: graphviz in /usr/local/lib/python3.7/dist-packages (from catboost) (0.10.1)\n",
            "Requirement already satisfied: pandas>=0.24.0 in /usr/local/lib/python3.7/dist-packages (from catboost) (1.1.5)\n",
            "Requirement already satisfied: plotly in /usr/local/lib/python3.7/dist-packages (from catboost) (4.4.1)\n",
            "Requirement already satisfied: python-dateutil>=2.7.3 in /usr/local/lib/python3.7/dist-packages (from pandas>=0.24.0->catboost) (2.8.2)\n",
            "Requirement already satisfied: pytz>=2017.2 in /usr/local/lib/python3.7/dist-packages (from pandas>=0.24.0->catboost) (2018.9)\n",
            "Requirement already satisfied: pyparsing!=2.0.4,!=2.1.2,!=2.1.6,>=2.0.1 in /usr/local/lib/python3.7/dist-packages (from matplotlib->catboost) (2.4.7)\n",
            "Requirement already satisfied: cycler>=0.10 in /usr/local/lib/python3.7/dist-packages (from matplotlib->catboost) (0.10.0)\n",
            "Requirement already satisfied: kiwisolver>=1.0.1 in /usr/local/lib/python3.7/dist-packages (from matplotlib->catboost) (1.3.2)\n",
            "Requirement already satisfied: retrying>=1.3.3 in /usr/local/lib/python3.7/dist-packages (from plotly->catboost) (1.3.3)\n",
            "Installing collected packages: catboost\n",
            "Successfully installed catboost-1.0.0\n"
          ]
        }
      ]
    },
    {
      "cell_type": "code",
      "metadata": {
        "colab": {
          "base_uri": "https://localhost:8080/"
        },
        "id": "WHP5gU2Er4eR",
        "outputId": "6c71f63a-53fd-4da7-e0ed-719e4d835109"
      },
      "source": [
        "!pip install radiant_mlhub"
      ],
      "execution_count": 4,
      "outputs": [
        {
          "output_type": "stream",
          "name": "stdout",
          "text": [
            "Collecting radiant_mlhub\n",
            "  Downloading radiant_mlhub-0.3.0-py3-none-any.whl (30 kB)\n",
            "Collecting pystac~=1.1\n",
            "  Downloading pystac-1.1.0-py3-none-any.whl (201 kB)\n",
            "\u001b[K     |████████████████████████████████| 201 kB 6.0 MB/s \n",
            "\u001b[?25hRequirement already satisfied: tqdm~=4.56 in /usr/local/lib/python3.7/dist-packages (from radiant_mlhub) (4.62.3)\n",
            "Requirement already satisfied: click<9.0.0,>=7.1.2 in /usr/local/lib/python3.7/dist-packages (from radiant_mlhub) (7.1.2)\n",
            "Collecting requests~=2.25\n",
            "  Downloading requests-2.26.0-py2.py3-none-any.whl (62 kB)\n",
            "\u001b[K     |████████████████████████████████| 62 kB 769 kB/s \n",
            "\u001b[?25hRequirement already satisfied: python-dateutil>=2.7.0 in /usr/local/lib/python3.7/dist-packages (from pystac~=1.1->radiant_mlhub) (2.8.2)\n",
            "Requirement already satisfied: typing-extensions>=3.7 in /usr/local/lib/python3.7/dist-packages (from pystac~=1.1->radiant_mlhub) (3.7.4.3)\n",
            "Requirement already satisfied: six>=1.5 in /usr/local/lib/python3.7/dist-packages (from python-dateutil>=2.7.0->pystac~=1.1->radiant_mlhub) (1.15.0)\n",
            "Requirement already satisfied: idna<4,>=2.5 in /usr/local/lib/python3.7/dist-packages (from requests~=2.25->radiant_mlhub) (2.10)\n",
            "Requirement already satisfied: charset-normalizer~=2.0.0 in /usr/local/lib/python3.7/dist-packages (from requests~=2.25->radiant_mlhub) (2.0.6)\n",
            "Requirement already satisfied: certifi>=2017.4.17 in /usr/local/lib/python3.7/dist-packages (from requests~=2.25->radiant_mlhub) (2021.5.30)\n",
            "Requirement already satisfied: urllib3<1.27,>=1.21.1 in /usr/local/lib/python3.7/dist-packages (from requests~=2.25->radiant_mlhub) (1.24.3)\n",
            "Installing collected packages: requests, pystac, radiant-mlhub\n",
            "  Attempting uninstall: requests\n",
            "    Found existing installation: requests 2.23.0\n",
            "    Uninstalling requests-2.23.0:\n",
            "      Successfully uninstalled requests-2.23.0\n",
            "\u001b[31mERROR: pip's dependency resolver does not currently take into account all the packages that are installed. This behaviour is the source of the following dependency conflicts.\n",
            "google-colab 1.0.0 requires requests~=2.23.0, but you have requests 2.26.0 which is incompatible.\n",
            "datascience 0.10.6 requires folium==0.2.1, but you have folium 0.8.3 which is incompatible.\u001b[0m\n",
            "Successfully installed pystac-1.1.0 radiant-mlhub-0.3.0 requests-2.26.0\n"
          ]
        }
      ]
    },
    {
      "cell_type": "code",
      "metadata": {
        "colab": {
          "base_uri": "https://localhost:8080/"
        },
        "id": "QZr2xA4x53q6",
        "outputId": "c5736e54-28ba-460f-847f-eb7a9be15a87"
      },
      "source": [
        "!pip install rasterio"
      ],
      "execution_count": 5,
      "outputs": [
        {
          "output_type": "stream",
          "name": "stdout",
          "text": [
            "Collecting rasterio\n",
            "  Downloading rasterio-1.2.9-cp37-cp37m-manylinux1_x86_64.whl (19.3 MB)\n",
            "\u001b[K     |████████████████████████████████| 19.3 MB 5.2 MB/s \n",
            "\u001b[?25hCollecting cligj>=0.5\n",
            "  Downloading cligj-0.7.2-py3-none-any.whl (7.1 kB)\n",
            "Requirement already satisfied: setuptools in /usr/local/lib/python3.7/dist-packages (from rasterio) (57.4.0)\n",
            "Requirement already satisfied: click>=4.0 in /usr/local/lib/python3.7/dist-packages (from rasterio) (7.1.2)\n",
            "Collecting snuggs>=1.4.1\n",
            "  Downloading snuggs-1.4.7-py3-none-any.whl (5.4 kB)\n",
            "Requirement already satisfied: attrs in /usr/local/lib/python3.7/dist-packages (from rasterio) (21.2.0)\n",
            "Requirement already satisfied: certifi in /usr/local/lib/python3.7/dist-packages (from rasterio) (2021.5.30)\n",
            "Collecting affine\n",
            "  Downloading affine-2.3.0-py2.py3-none-any.whl (15 kB)\n",
            "Collecting click-plugins\n",
            "  Downloading click_plugins-1.1.1-py2.py3-none-any.whl (7.5 kB)\n",
            "Requirement already satisfied: numpy in /usr/local/lib/python3.7/dist-packages (from rasterio) (1.19.5)\n",
            "Requirement already satisfied: pyparsing>=2.1.6 in /usr/local/lib/python3.7/dist-packages (from snuggs>=1.4.1->rasterio) (2.4.7)\n",
            "Installing collected packages: snuggs, cligj, click-plugins, affine, rasterio\n",
            "Successfully installed affine-2.3.0 click-plugins-1.1.1 cligj-0.7.2 rasterio-1.2.9 snuggs-1.4.7\n"
          ]
        }
      ]
    },
    {
      "cell_type": "code",
      "metadata": {
        "id": "5xV7Oc59r84X"
      },
      "source": [
        "\n",
        "# Required libraries\n",
        "import os\n",
        "import tarfile\n",
        "import json\n",
        "import pandas as pd\n",
        "from pathlib import Path\n",
        "from radiant_mlhub.client import _download as download_file\n",
        "\n",
        "import datetime\n",
        "import rasterio\n",
        "import numpy as np\n",
        "import pandas as pd\n",
        "from matplotlib import pyplot as plt\n",
        "from scipy import ndimage \n",
        "import numpy.ma as ma\n",
        "import mahotas\n",
        "\n",
        "from sklearn.ensemble import RandomForestClassifier\n",
        "from sklearn.metrics import log_loss\n",
        "from sklearn.model_selection import StratifiedShuffleSplit"
      ],
      "execution_count": 6,
      "outputs": []
    },
    {
      "cell_type": "code",
      "metadata": {
        "id": "thyT-Ldy5skw"
      },
      "source": [
        "import warnings\n",
        "warnings.filterwarnings('ignore')"
      ],
      "execution_count": 7,
      "outputs": []
    },
    {
      "cell_type": "code",
      "metadata": {
        "colab": {
          "base_uri": "https://localhost:8080/"
        },
        "id": "YMbpwa5D90ae",
        "outputId": "9cd54916-a19c-4c48-b488-22ddf3dfb9ab"
      },
      "source": [
        "!pip install opencv-python numpy matplotlib"
      ],
      "execution_count": 8,
      "outputs": [
        {
          "output_type": "stream",
          "name": "stdout",
          "text": [
            "Requirement already satisfied: opencv-python in /usr/local/lib/python3.7/dist-packages (4.1.2.30)\n",
            "Requirement already satisfied: numpy in /usr/local/lib/python3.7/dist-packages (1.19.5)\n",
            "Requirement already satisfied: matplotlib in /usr/local/lib/python3.7/dist-packages (3.2.2)\n",
            "Requirement already satisfied: pyparsing!=2.0.4,!=2.1.2,!=2.1.6,>=2.0.1 in /usr/local/lib/python3.7/dist-packages (from matplotlib) (2.4.7)\n",
            "Requirement already satisfied: kiwisolver>=1.0.1 in /usr/local/lib/python3.7/dist-packages (from matplotlib) (1.3.2)\n",
            "Requirement already satisfied: python-dateutil>=2.1 in /usr/local/lib/python3.7/dist-packages (from matplotlib) (2.8.2)\n",
            "Requirement already satisfied: cycler>=0.10 in /usr/local/lib/python3.7/dist-packages (from matplotlib) (0.10.0)\n",
            "Requirement already satisfied: six in /usr/local/lib/python3.7/dist-packages (from cycler>=0.10->matplotlib) (1.15.0)\n"
          ]
        }
      ]
    },
    {
      "cell_type": "code",
      "metadata": {
        "id": "veGKDDgi-rKY"
      },
      "source": [
        "import cv2"
      ],
      "execution_count": 9,
      "outputs": []
    },
    {
      "cell_type": "markdown",
      "metadata": {
        "id": "z4ptaw5paOf4"
      },
      "source": [
        "# load data"
      ]
    },
    {
      "cell_type": "code",
      "metadata": {
        "id": "ugr-INkP1xeq"
      },
      "source": [
        "DOWNLOAD_S1 = True # If you set this to true then the Sentinel-1 data will be downloaded\n",
        "\n",
        "# Select which imagery bands you'd like to download here\n",
        "DOWNLOAD_BANDS = {\n",
        "    'B01': True,\n",
        "    'B02': True,\n",
        "    'B03': True,\n",
        "    'B04': True,\n",
        "    'B05': True,\n",
        "    'B06': True,\n",
        "    'B07': True,\n",
        "    'B08': True,\n",
        "    'B8A': True,\n",
        "    'B09': True,\n",
        "    \n",
        "    'B11': True,\n",
        "    'B12': True,\n",
        "    'CLM': True\n",
        "}"
      ],
      "execution_count": 10,
      "outputs": []
    },
    {
      "cell_type": "code",
      "metadata": {
        "colab": {
          "base_uri": "https://localhost:8080/",
          "height": 84,
          "referenced_widgets": [
            "15771a2b0d9640b1a41c16ee63b7309d",
            "d4336a3713e04c99aeb936de0fc19d05",
            "1151cccfa6164196bac5f1b59a343e4d",
            "9ffe2d6ac2c14757aa2e8e0c97927cb6",
            "52502637b60d4e988cfb43d692ab9f35",
            "7d5b0f9cd52141888113bbdc328ef06a",
            "169a2198a7bd4e3e9cce8b0a21a116e5",
            "649e108f070041ffa93a20c26476f147",
            "fa59716cf864449c935060aed13268d9",
            "4076e94d7e1a43d295dac1e66e840a8d",
            "c1f1a08578584aadb625f5895e5390a1"
          ]
        },
        "id": "WsZi3Ykk14-g",
        "outputId": "6d9aa156-cdf9-41bd-ea9d-929ed915414e"
      },
      "source": [
        "os.environ['MLHUB_API_KEY'] = 'a6bb13078fcfa091ebd00341a91752e560a434b58cab5daf5ac1ccdacc836dac'\n",
        "FOLDER_BASE = 'ref_south_africa_crops_competition_v1'\n",
        "\n",
        "def download_archive(archive_name):\n",
        "    if os.path.exists(archive_name.replace('.tar.gz', '')):\n",
        "        return\n",
        "    \n",
        "    print(f'Downloading {archive_name} ...')\n",
        "    download_url = f'https://radiant-mlhub.s3.us-west-2.amazonaws.com/archives/{archive_name}'\n",
        "    download_file(download_url, '.')\n",
        "    print(f'Extracting {archive_name} ...')\n",
        "    with tarfile.open(archive_name) as tfile:\n",
        "        tfile.extractall()\n",
        "    os.remove(archive_name)\n",
        "\n",
        "for split in ['train']:\n",
        "    # Download the labels\n",
        "    labels_archive = f'{FOLDER_BASE}_{split}_labels.tar.gz'\n",
        "    download_archive(labels_archive)\n",
        "    \n",
        "    # Download Sentinel-1 data\n",
        "    if DOWNLOAD_S1:\n",
        "        s1_archive = f'{FOLDER_BASE}_{split}_source_s1.tar.gz'\n",
        "        download_archive(s1_archive)\n",
        "        \n",
        "\n",
        "    for band, download in DOWNLOAD_BANDS.items():\n",
        "        if not download:\n",
        "            continue\n",
        "        s2_archive = f'{FOLDER_BASE}_{split}_source_s2_{band}.tar.gz'\n",
        "        download_archive(s2_archive)\n",
        "        \n",
        "def resolve_path(base, path):\n",
        "    return Path(os.path.join(base, path)).resolve()\n",
        "        \n",
        "def load_df(collection_id):\n",
        "    split = collection_id.split('_')[-2]\n",
        "    collection = json.load(open(f'{collection_id}/collection.json', 'r'))\n",
        "    rows = []\n",
        "    item_links = []\n",
        "    for link in collection['links']:\n",
        "        if link['rel'] != 'item':\n",
        "            continue\n",
        "        item_links.append(link['href'])\n",
        "        \n",
        "    for item_link in item_links:\n",
        "        item_path = f'{collection_id}/{item_link}'\n",
        "        current_path = os.path.dirname(item_path)\n",
        "        item = json.load(open(item_path, 'r'))\n",
        "        tile_id = item['id'].split('_')[-1]\n",
        "        for asset_key, asset in item['assets'].items():\n",
        "            rows.append([\n",
        "                tile_id,\n",
        "                None,\n",
        "                None,\n",
        "                asset_key,\n",
        "                str(resolve_path(current_path, asset['href']))\n",
        "            ])\n",
        "            \n",
        "        for link in item['links']:\n",
        "            if link['rel'] != 'source':\n",
        "                continue\n",
        "            source_item_id = link['href'].split('/')[-2]\n",
        "            \n",
        "            if source_item_id.find('_s1_') > 0 and not DOWNLOAD_S1:\n",
        "                continue\n",
        "            elif source_item_id.find('_s1_') > 0:\n",
        "                for band in ['VV', 'VH']:\n",
        "                    asset_path = Path(f'{FOLDER_BASE}_{split}_source_s1/{source_item_id}/{band}.tif').resolve()\n",
        "                    date = '-'.join(source_item_id.split('_')[10:13])\n",
        "                    \n",
        "                    rows.append([\n",
        "                        tile_id,\n",
        "                        f'{date}T00:00:00Z',\n",
        "                        's1',\n",
        "                        band,\n",
        "                        asset_path\n",
        "                    ])\n",
        "                \n",
        "            if source_item_id.find('_s2_') > 0:\n",
        "                for band, download in DOWNLOAD_BANDS.items():\n",
        "                    if not download:\n",
        "                        continue\n",
        "                    \n",
        "                    asset_path = Path(f'{FOLDER_BASE}_{split}_source_s2_{band}/{source_item_id}_{band}.tif').resolve()\n",
        "                    date = '-'.join(source_item_id.split('_')[10:13])\n",
        "                    rows.append([\n",
        "                        tile_id,\n",
        "                        f'{date}T00:00:00Z',\n",
        "                        's2',\n",
        "                        band,\n",
        "                        asset_path\n",
        "                    ])\n",
        "            \n",
        "    return pd.DataFrame(rows, columns=['tile_id', 'datetime', 'satellite_platform', 'asset', 'file_path'])\n",
        "\n",
        "train_df = load_df(f'{FOLDER_BASE}_train_labels')\n",
        "#test_df = load_df(f'{FOLDER_BASE}_test_labels')"
      ],
      "execution_count": 82,
      "outputs": [
        {
          "metadata": {
            "tags": null
          },
          "name": "stdout",
          "output_type": "stream",
          "text": [
            "Downloading ref_south_africa_crops_competition_v1_train_source_s2_B08.tar.gz ...\n"
          ]
        },
        {
          "data": {
            "application/vnd.jupyter.widget-view+json": {
              "model_id": "15771a2b0d9640b1a41c16ee63b7309d",
              "version_major": 2,
              "version_minor": 0
            },
            "text/plain": [
              "  0%|          | 0/6755.8 [00:00<?, ?M/s]"
            ]
          },
          "metadata": {},
          "output_type": "display_data"
        },
        {
          "metadata": {
            "tags": null
          },
          "name": "stdout",
          "output_type": "stream",
          "text": [
            "Extracting ref_south_africa_crops_competition_v1_train_source_s2_B08.tar.gz ...\n"
          ]
        }
      ]
    },
    {
      "cell_type": "markdown",
      "metadata": {
        "id": "GV97vTtpsPN2"
      },
      "source": [
        "# train"
      ]
    },
    {
      "cell_type": "code",
      "metadata": {
        "id": "PR6_w_Y1IUXV"
      },
      "source": [
        "def time(data):\n",
        "  data['datetime']=pd.to_datetime(data['datetime'])\n",
        "  data['month']=data['datetime'].dt.month\n",
        "  data['week']=data['datetime'].dt.isocalendar().week"
      ],
      "execution_count": 12,
      "outputs": []
    },
    {
      "cell_type": "code",
      "metadata": {
        "id": "7dS-C2B6IcLn"
      },
      "source": [
        "time(train_df)\n",
        "train_df['day']=train_df['datetime'].dt.day \n",
        "train_df['fortnight']=np.where(train_df.day<15,1,2)"
      ],
      "execution_count": 13,
      "outputs": []
    },
    {
      "cell_type": "code",
      "metadata": {
        "id": "ppXXVj9TgLAJ"
      },
      "source": [
        "label_df=pd.read_csv(train_df[(train_df.asset=='field_info_train')&(train_df.tile_id=='0001')]['file_path'].values[0])\n",
        "label_df.rename(columns={'Field ID':'field_id','Crop':'label'},inplace=True)\n",
        "\n",
        "label_map={'Lucerne/Medics':1,'Planted pastures (perennial)':2,'Fallow':3,'Wine grapes':4,'Weeds':5,'Small grain grazing':6,'Wheat':7,'Canola':8,'Rooibos':9}\n",
        "label_df['label']=label_df['label'].map(label_map)"
      ],
      "execution_count": null,
      "outputs": []
    },
    {
      "cell_type": "markdown",
      "metadata": {
        "id": "1IzKStfZNzB9"
      },
      "source": [
        "# Sentinel 1 exploration"
      ]
    },
    {
      "cell_type": "code",
      "metadata": {
        "id": "H0PvL3GgN2lw"
      },
      "source": [
        "sentinel1_train=train_df[train_df.satellite_platform=='s1']"
      ],
      "execution_count": 15,
      "outputs": []
    },
    {
      "cell_type": "code",
      "metadata": {
        "id": "hbHWqF1X2BDr"
      },
      "source": [
        "sentinel1_fortnight=sentinel1_train.groupby(['tile_id','month','fortnight','asset']).first().reset_index()"
      ],
      "execution_count": 16,
      "outputs": []
    },
    {
      "cell_type": "code",
      "metadata": {
        "id": "B6l8_tnnXdkK"
      },
      "source": [
        "info=train_df[(train_df.asset=='field_ids')|(train_df.asset=='labels')]\n",
        "\n"
      ],
      "execution_count": 17,
      "outputs": []
    },
    {
      "cell_type": "code",
      "metadata": {
        "id": "szwHeS6EQPOF"
      },
      "source": [
        "def sentinel1(data,month0=4):\n",
        "  field_ndvi=[]\n",
        "  for date in data.month.unique():\n",
        "    month_i=[]\n",
        "    for tile in data.tile_id.unique():\n",
        "     \n",
        "      tile_df=data[(data.tile_id==tile) & (data.month==date)]\n",
        "      \n",
        "\n",
        "      VV1=rasterio.open(tile_df[(tile_df['asset']=='VV')&(tile_df['fortnight']==1)]['file_path'].values[0]).read(1)\n",
        "      VH1=rasterio.open(tile_df[(tile_df['asset']=='VH')&(tile_df['fortnight']==1)]['file_path'].values[0]).read(1)\n",
        "\n",
        "      VV2=rasterio.open(tile_df[(tile_df['asset']=='VV')&(tile_df['fortnight']==2)]['file_path'].values[0]).read(1)\n",
        "      VH2=rasterio.open(tile_df[(tile_df['asset']=='VH')&(tile_df['fortnight']==2)]['file_path'].values[0]).read(1)\n",
        "    \n",
        "      tile_fields=rasterio.open(info[(info.tile_id==tile)&(info.asset=='field_ids')]['file_path'].values[0]).read(1)\n",
        "      ids=np.unique(tile_fields.flatten())\n",
        "\n",
        "      for field in ids:\n",
        "        if (field==0):\n",
        "          continue\n",
        "       \n",
        "        \n",
        "        mask_VV1=ma.masked_array(VV1, np.where(tile_fields==field,0,1).astype(int))\n",
        "        mask_VH1=ma.masked_array(VH1, np.where(tile_fields==field,0,1).astype(int))\n",
        "        \n",
        "        mask_VV2=ma.masked_array(VV2, np.where(tile_fields==field,0,1).astype(int))\n",
        "        mask_VH2=ma.masked_array(VH2, np.where(tile_fields==field,0,1).astype(int))\n",
        "        \n",
        "        if (date==month0):\n",
        "          \n",
        "          field_ndvi.append((tile,field,np.mean(mask_VV1),np.mean(mask_VH1),np.mean(mask_VV2),np.mean(mask_VH2)))\n",
        "\n",
        "        else:\n",
        "          month_i.append([np.mean(mask_VV1),np.mean(mask_VH1),np.mean(mask_VV2),np.mean(mask_VH2)])\n",
        "\n",
        "\n",
        "\n",
        "    if (date==month0):\n",
        "      train=pd.DataFrame(field_ndvi,columns=['tile_id','field_id',f'VV1_median_{int(date)}',f'VH1_median_{int(date)}',f'VV2_median_{int(date)}',f'VH2_median_{int(date)}'])\n",
        "    else: \n",
        "      train[[f'VV1_median_{int(date)}',f'VH1_median_{int(date)}',f'VV2_median_{int(date)}',f'VH2_median_{int(date)}']]=month_i\n",
        "\n",
        "  \n",
        "\n",
        "  return train"
      ],
      "execution_count": 45,
      "outputs": []
    },
    {
      "cell_type": "code",
      "metadata": {
        "id": "YpVgRAL49ntu"
      },
      "source": [
        "#executing this cell will take time, the output of this cell is cloudy(dataframe) which can be directly obtained\n",
        "#by executing the next cell\n",
        "sentinel1_ft=sentinel1(sentinel1_train)"
      ],
      "execution_count": null,
      "outputs": []
    },
    {
      "cell_type": "code",
      "metadata": {
        "id": "nBJgtSuEHD-C"
      },
      "source": [
        "sentinel1_ft=pd.read_parquet('/content/drive/MyDrive/spot_the_crop/sentinel1_train.parquet')"
      ],
      "execution_count": 47,
      "outputs": []
    },
    {
      "cell_type": "code",
      "metadata": {
        "id": "5kc8rujDjVYU"
      },
      "source": [
        "sentinel1_ft.drop('tile_id',axis=1,inplace=True)"
      ],
      "execution_count": 49,
      "outputs": []
    },
    {
      "cell_type": "markdown",
      "metadata": {
        "id": "YMHXYqN7hIQH"
      },
      "source": [
        "# cloudless image selection"
      ]
    },
    {
      "cell_type": "code",
      "metadata": {
        "id": "GUSFG8_6gfyn"
      },
      "source": [
        "#in each month look for the date in which CLM is all 0s\n",
        "\n",
        "def cloudless(data):\n",
        "  for tile in data.tile_id.unique():\n",
        "    tile_df=data[(data.tile_id==tile)&(data.satellite_platform=='s2')]\n",
        "    for date in tile_df.datetime.unique():\n",
        "      src_mask=rasterio.open(tile_df[(tile_df.datetime==date)&(tile_df['asset']=='CLM')]['file_path'].values[0])\n",
        "      if (np.max(src_mask.read(1))==0):\n",
        "        data.loc[(data.tile_id==tile) & (data.datetime==date),'cloudless']=0\n",
        "      if (np.max(src_mask.read(1))==255):\n",
        "        data.loc[(data.tile_id==tile) & (data.datetime==date),'cloudless']=np.sum(src_mask.read(1))/255\n",
        "\n",
        "      if (np.max(src_mask.read(1))==1):\n",
        "        data.loc[(data.tile_id==tile) & (data.datetime==date),'cloudless']=np.sum(src_mask.read(1))+0.02"
      ],
      "execution_count": 14,
      "outputs": []
    },
    {
      "cell_type": "code",
      "metadata": {
        "id": "Qvfzru7FwMnD"
      },
      "source": [
        "#executing this cell will take time, the output of this cell is cloudy(dataframe) which can be directly obtained\n",
        "#by executing the next cell\n",
        "cloudy=train_df.copy()\n",
        "cloudless(cloudy)"
      ],
      "execution_count": 15,
      "outputs": []
    },
    {
      "cell_type": "code",
      "metadata": {
        "id": "zhfCpEBmX15z"
      },
      "source": [
        "cloudy=pd.read_csv('/content/drive/MyDrive/spot_the_crop/train_cloudless_fortnight_all.csv')"
      ],
      "execution_count": 50,
      "outputs": []
    },
    {
      "cell_type": "code",
      "metadata": {
        "id": "nDt2TFeHlNfE"
      },
      "source": [
        "cloudy.drop('Unnamed: 0',axis=1,inplace=True)"
      ],
      "execution_count": 64,
      "outputs": []
    },
    {
      "cell_type": "markdown",
      "metadata": {
        "id": "9qyVeVhmpmRT"
      },
      "source": [
        "**fortnight cloudless**"
      ]
    },
    {
      "cell_type": "code",
      "metadata": {
        "id": "MajtTsK6D_TD"
      },
      "source": [
        "#in each month we take the best 2 observations one from each fortnight\n",
        "cloudy.set_index(['tile_id','month','fortnight'],inplace=True)\n",
        "cloudy['best']=cloudy.groupby(['tile_id','month','fortnight']).cloudless.min()\n",
        "cloudy.reset_index(inplace=True)\n",
        "\n",
        "cloud_free_train=cloudy[(cloudy.best==cloudy.cloudless)].copy()\n",
        "\n",
        "\n",
        "cloud_free_train=cloud_free_train.groupby(['tile_id','month','fortnight','asset']).first().reset_index()"
      ],
      "execution_count": 65,
      "outputs": []
    },
    {
      "cell_type": "code",
      "metadata": {
        "id": "9YZyNUiDFlf-"
      },
      "source": [
        "info=train_df[(train_df.asset=='field_ids')|(train_df.asset=='labels')]\n",
        "info['tile_id']=info['tile_id'].astype(int).values"
      ],
      "execution_count": 66,
      "outputs": []
    },
    {
      "cell_type": "markdown",
      "metadata": {
        "id": "QUaTGr5jprL_"
      },
      "source": [
        "**overall cloudless**"
      ]
    },
    {
      "cell_type": "code",
      "metadata": {
        "id": "fw8T_7XApvyu"
      },
      "source": [
        "cloudy_all=cloudy.copy()\n",
        "cloudy_all.set_index(['tile_id','month'],inplace=True)\n",
        "cloudy_all['best']=cloudy_all.groupby(['tile_id','month']).cloudless.min()\n",
        "cloudy_all.reset_index(inplace=True)\n",
        "\n",
        "cloud_free_train1=cloudy_all[(cloudy_all.best==cloudy_all.cloudless)].copy()\n",
        "\n",
        "cloud_free_train1=cloud_free_train1.groupby(['tile_id','month','asset']).first().reset_index()\n",
        "\n"
      ],
      "execution_count": 67,
      "outputs": []
    },
    {
      "cell_type": "markdown",
      "metadata": {
        "id": "H70Sz2jVi9Kr"
      },
      "source": [
        "# Feature engineering"
      ]
    },
    {
      "cell_type": "code",
      "metadata": {
        "id": "9TR5aRoB-vZO"
      },
      "source": [
        "def veg_indices(data,info,month0=4):\n",
        "  field_ndvi=[]\n",
        "  for date in data.month.unique():\n",
        "    print(f'processing for month {date} has began')\n",
        "    for f in [1,2]:\n",
        "      month_i=[]\n",
        "      for tile in data.tile_id.unique():\n",
        "        \n",
        "        tile_df=data[(data.tile_id==tile) & (data.month==date) & (data.fortnight==f)]\n",
        "\n",
        "        src_aerosol=rasterio.open(tile_df[tile_df['asset']=='B01']['file_path'].values[0])\n",
        "        src_blue=rasterio.open(tile_df[tile_df['asset']=='B02']['file_path'].values[0])\n",
        "        src_green=rasterio.open(tile_df[tile_df['asset']=='B03']['file_path'].values[0])\n",
        "        src_red=rasterio.open(tile_df[tile_df['asset']=='B04']['file_path'].values[0])\n",
        "        src_edge=rasterio.open(tile_df[tile_df['asset']=='B05']['file_path'].values[0])\n",
        "        src_edge2=rasterio.open(tile_df[tile_df['asset']=='B06']['file_path'].values[0])\n",
        "        src_edge3=rasterio.open(tile_df[tile_df['asset']=='B07']['file_path'].values[0])       \n",
        "        src_nir=rasterio.open(tile_df[tile_df['asset']=='B08']['file_path'].values[0])\n",
        "        src_8a=rasterio.open(tile_df[tile_df['asset']=='B8A']['file_path'].values[0])\n",
        "        src_vapor=rasterio.open(tile_df[tile_df['asset']=='B09']['file_path'].values[0])\n",
        "        src_swir1=rasterio.open(tile_df[tile_df['asset']=='B11']['file_path'].values[0])\n",
        "        src_swir2=rasterio.open(tile_df[tile_df['asset']=='B12']['file_path'].values[0])\n",
        "        \n",
        "\n",
        "\n",
        "        ndvi=np.where(src_nir.read(1)+src_red.read(1)==0,0,(src_nir.read(1)-src_red.read(1))/(src_nir.read(1)+src_red.read(1)))\n",
        "        lswi=np.where(src_nir.read(1)+src_swir1.read(1)==0,0,(src_nir.read(1)-src_swir1.read(1))/(src_nir.read(1)+src_swir1.read(1)))\n",
        "        ndsvi=np.where(src_red.read(1)+src_swir1.read(1)==0,0,(src_swir1.read(1)-src_red.read(1))/(src_red.read(1)+src_swir1.read(1)))\n",
        "        ndti=np.where(src_swir2.read(1)+src_swir1.read(1)==0,0,(src_swir1.read(1)-src_swir2.read(1))/(src_swir2.read(1)+src_swir1.read(1)))\n",
        "        rvi=src_aerosol.read(1)/(src_blue.read(1)+1e-8)\n",
        "        gli=np.where(2*src_green.read(1)+src_red.read(1)+src_aerosol.read(1)==0,0\n",
        "                    ,(2*src_green.read(1)-src_red.read(1)-src_aerosol.read(1))/(2*src_green.read(1)+src_red.read(1)+src_aerosol.read(1)))\n",
        "        \n",
        "        bsi=100*np.sqrt((src_swir1.read(1)-src_green.read(1))/(src_swir1.read(1)+src_green.read(1)))\n",
        "        \n",
        "        MCARI1=np.where(src_red.read(1)==0,0,((src_edge.read(1)-src_red.read(1))-0.2*(src_edge.read(1)-src_green.read(1))*(src_edge.read(1)/src_red.read(1))))\n",
        "        \n",
        "        savi=(src_nir.read(1) - src_red.read(1)) / (src_nir.read(1) + src_red.read(1) + 0.725) * (1.0 + 0.725)\n",
        "\n",
        "        grndvi=(src_green.read(1)-src_red.read(1))/(src_green.read(1)+src_red.read(1))\n",
        "        grndvi=np.where((src_green.read(1)+src_red.read(1))==0,0,grndvi)\n",
        "        ndsi=np.where((src_green.read(1)+src_swir1.read(1))==0,0,(src_green.read(1)-src_swir1.read(1))/(src_green.read(1)+src_swir1.read(1)))\n",
        "        gb=np.where((src_green.read(1)+src_blue.read(1))==0,0,(src_green.read(1)-src_blue.read(1))/(src_green.read(1)+src_blue.read(1)))\n",
        "        psri=np.where(src_nir.read(1)==0,0,(src_red.read(1)-src_green.read(1))/src_nir.read(1))\n",
        "        npci=np.where((src_red.read(1)+src_blue.read(1))==0,0,(src_red.read(1)-src_blue.read(1))/(src_red.read(1)+src_blue.read(1)))\n",
        "        \n",
        "        ccci=((src_nir.read(1)-src_edge.read(1))/(src_nir.read(1)+src_edge.read(1)))/((src_nir.read(1)-src_red.read(1))/(src_nir.read(1)+src_red.read(1)))\n",
        "        gcvi=np.where(src_green.read(1)==0,0,(src_nir.read(1)/src_green.read(1))-1)\n",
        "\n",
        "        clred_edge=src_edge.read(1)/src_edge3.read(1)   \n",
        "        slavi=src_nir.read(1)/(src_red.read(1)+src_swir2.read(1))\n",
        "        datt1=(src_nir.read(1)-src_edge.read(1))/(src_nir.read(1)-src_red.read(1))\n",
        "        arvi=(src_8a.read(1)-src_red.read(1)-0.069*(src_red.read(1)-src_blue.read(1)))/(src_8a.read(1)+src_red.read(1)-0.069*(src_red.read(1)-src_blue.read(1))) \n",
        "\n",
        "        \n",
        "  \n",
        "        \n",
        "\n",
        "        tile_fields=rasterio.open(info[(info.tile_id==tile)&(info.asset=='field_ids')]['file_path'].values[0]).read(1)\n",
        "        ids=np.unique(tile_fields.flatten())\n",
        "\n",
        "        for field in ids:\n",
        "          if (field==0):\n",
        "            continue\n",
        "          mask_ndvi=ma.masked_array(ndvi, np.where(tile_fields==field,0,1).astype(int))\n",
        "          mask_lswi=ma.masked_array(lswi, np.where(tile_fields==field,0,1).astype(int))\n",
        "          mask_ndsvi=ma.masked_array(ndsvi, np.where(tile_fields==field,0,1).astype(int))\n",
        "          mask_ndti=ma.masked_array(ndti, np.where(tile_fields==field,0,1).astype(int))\n",
        "          mask_vapor=ma.masked_array(src_vapor.read(1), np.where(tile_fields==field,0,1).astype(int))\n",
        "          mask_gli=ma.masked_array(gli, np.where(tile_fields==field,0,1).astype(int))\n",
        "          mask_rvi=ma.masked_array(rvi, np.where(tile_fields==field,0,1).astype(int))\n",
        "          mask_bsi=ma.masked_array(bsi, np.where(tile_fields==field,0,1).astype(int))\n",
        "          mask_nir=ma.masked_array(src_nir.read(1), np.where(tile_fields==field,0,1).astype(int))\n",
        "          mask_mcari=ma.masked_array(MCARI1, np.where(tile_fields==field,0,1).astype(int))\n",
        "\n",
        "          mask_savi=ma.masked_array(savi, np.where(tile_fields==field,0,1).astype(int))\n",
        "\n",
        "          mask_grndvi=ma.masked_array(grndvi, np.where(tile_fields==field,0,1).astype(int))\n",
        "          mask_ndsi=ma.masked_array(ndsi, np.where(tile_fields==field,0,1).astype(int))\n",
        "          mask_gb=ma.masked_array(gb, np.where(tile_fields==field,0,1).astype(int))\n",
        "          mask_psri=ma.masked_array(psri, np.where(tile_fields==field,0,1).astype(int))\n",
        "          mask_npci=ma.masked_array(npci, np.where(tile_fields==field,0,1).astype(int))\n",
        "\n",
        "          mask_ccci=ma.masked_array(ccci, np.where(tile_fields==field,0,1).astype(int))\n",
        "          mask_gcvi=ma.masked_array(gcvi, np.where(tile_fields==field,0,1).astype(int))\n",
        "          mask_red=ma.masked_array(src_red.read(1), np.where(tile_fields==field,0,1).astype(int))\n",
        "          mask_edge=ma.masked_array(src_edge.read(1), np.where(tile_fields==field,0,1).astype(int))\n",
        "\n",
        "          mask_green=ma.masked_array(src_green.read(1), np.where(tile_fields==field,0,1).astype(int))\n",
        "          mask_blue=ma.masked_array(src_blue.read(1), np.where(tile_fields==field,0,1).astype(int))\n",
        "          mask_edge2=ma.masked_array(src_edge2.read(1), np.where(tile_fields==field,0,1).astype(int))\n",
        "          mask_edge3=ma.masked_array(src_edge3.read(1), np.where(tile_fields==field,0,1).astype(int))\n",
        "          mask_8a=ma.masked_array(src_8a.read(1), np.where(tile_fields==field,0,1).astype(int))\n",
        "\n",
        "          mask_clred_edge=ma.masked_array(clred_edge, np.where(tile_fields==field,0,1).astype(int))\n",
        "          mask_slavi=ma.masked_array(slavi, np.where(tile_fields==field,0,1).astype(int))\n",
        "          mask_datt1=ma.masked_array(datt1, np.where(tile_fields==field,0,1).astype(int))\n",
        "          mask_arvi=ma.masked_array(arvi, np.where(tile_fields==field,0,1).astype(int))\n",
        "\n",
        "          if ((date==month0)& (f==1)):\n",
        "            \n",
        "            field_ndvi.append((tile,field,np.mean(mask_vapor),np.mean(mask_ndvi),np.mean(mask_lswi),\n",
        "                               np.mean(mask_ndsvi),np.mean(mask_ndti),np.mean(mask_rvi),np.mean(mask_gli),np.std(mask_ndvi),\n",
        "                               np.mean(mask_bsi),np.mean(mask_nir),np.mean(mask_mcari),np.mean(mask_savi),\n",
        "                               np.mean(mask_grndvi),np.mean(mask_ndsi),np.mean(mask_gb),np.mean(mask_psri),\n",
        "                               np.mean(mask_npci),np.mean(mask_ccci),np.mean(mask_gcvi),np.mean(mask_red),\n",
        "                               np.mean(mask_edge), np.mean(mask_green),np.mean(mask_blue),np.mean(mask_edge2),\n",
        "                               np.mean(mask_edge3),np.mean(mask_8a),np.std(mask_nir),\n",
        "                               np.mean(mask_clred_edge),np.mean(mask_slavi),np.mean(mask_datt1),np.mean(mask_arvi)))\n",
        "\n",
        "          else:\n",
        "            month_i.append([np.mean(mask_vapor),np.mean(mask_ndvi),np.mean(mask_lswi),\n",
        "                               np.mean(mask_ndsvi),np.mean(mask_ndti),np.mean(mask_rvi),np.mean(mask_gli),np.std(mask_ndvi),\n",
        "                               np.mean(mask_bsi),np.mean(mask_nir),np.mean(mask_mcari),np.mean(mask_savi),\n",
        "                               np.mean(mask_grndvi),np.mean(mask_ndsi),np.mean(mask_gb),np.mean(mask_psri),\n",
        "                               np.mean(mask_npci),np.mean(mask_ccci),np.mean(mask_gcvi),np.mean(mask_red),\n",
        "                               np.mean(mask_edge), np.mean(mask_green),np.mean(mask_blue),np.mean(mask_edge2),\n",
        "                               np.mean(mask_edge3),np.mean(mask_8a),np.std(mask_nir),\n",
        "                               np.mean(mask_clred_edge),np.mean(mask_slavi),np.mean(mask_datt1),np.mean(mask_arvi)])\n",
        "\n",
        "\n",
        "\n",
        "      if ((date==month0)& (f==1)):\n",
        "        train=pd.DataFrame(field_ndvi,columns=['tile_id','field_id',\n",
        "                                              f'vapor_{int(date)}_{f}',f'ndvi_{int(date)}_{f}',f'lswi_{int(date)}_{f}',\n",
        "                                              f'ndsvi_{int(date)}_{f}',f'ndti_{int(date)}_{f}',f'rvi_{int(date)}_{f}',f'gli_{int(date)}_{f}',\n",
        "                                              f'ndvi_std_{int(date)}_{f}',f'bsi_{int(date)}_{f}',f'nir_{int(date)}_{f}',\n",
        "                                              f'mcari_{int(date)}_{f}',f'savi_{int(date)}_{f}',f'grndvi_{int(date)}_{f}',f'ndsi_{int(date)}_{f}',\n",
        "                                              f'gb_{int(date)}_{f}',f'psri_{int(date)}_{f}',f'npci_{int(date)}_{f}',\n",
        "                                              f'ccci_{int(date)}_{f}',f'gcvi_{int(date)}_{f}',f'red_{int(date)}_{f}',f'edge_{int(date)}_{f}',\n",
        "                                              f'green_{int(date)}_{f}',f'blue_{int(date)}_{f}',f'edge2_{int(date)}_{f}',\n",
        "                                              f'edge3_{int(date)}_{f}',f'8a_{int(date)}_{f}',f'nir_std_{int(date)}_{f}',f'c1_{int(date)}_{f}',\n",
        "                                              f'c2_{int(date)}_{f}',f'c3_{int(date)}_{f}',f'c4_{int(date)}_{f}'])\n",
        "      else: \n",
        "        train[[f'vapor_{int(date)}_{f}',f'ndvi_{int(date)}_{f}',f'lswi_{int(date)}_{f}',\n",
        "               f'ndsvi_{int(date)}_{f}',f'ndti_{int(date)}_{f}',f'rvi_{int(date)}_{f}',f'gli_{int(date)}_{f}',\n",
        "            f'ndvi_std_{int(date)}_{f}',f'bsi_{int(date)}_{f}',f'nir_{int(date)}_{f}',\n",
        "            f'mcari_{int(date)}_{f}',f'savi_{int(date)}_{f}',f'grndvi_{int(date)}_{f}',f'ndsi_{int(date)}_{f}',\n",
        "            f'gb_{int(date)}_{f}',f'psri_{int(date)}_{f}',f'npci_{int(date)}_{f}',\n",
        "            f'ccci_{int(date)}_{f}',f'gcvi_{int(date)}_{f}',f'red_{int(date)}_{f}',f'edge_{int(date)}_{f}',\n",
        "            f'green_{int(date)}_{f}',f'blue_{int(date)}_{f}',f'edge2_{int(date)}_{f}',\n",
        "            f'edge3_{int(date)}_{f}',f'8a_{int(date)}_{f}',f'nir_std_{int(date)}_{f}',f'c1_{int(date)}_{f}',\n",
        "            f'c2_{int(date)}_{f}',f'c3_{int(date)}_{f}',f'c4_{int(date)}_{f}']]=month_i\n",
        "\n",
        "  \n",
        "\n",
        "  return train"
      ],
      "execution_count": 54,
      "outputs": []
    },
    {
      "cell_type": "markdown",
      "metadata": {
        "id": "JObZJRPok5D7"
      },
      "source": [
        "###########################"
      ]
    },
    {
      "cell_type": "code",
      "metadata": {
        "id": "T_f8PsDb9UPP"
      },
      "source": [
        "#executing this cell will take time, the output of this cell is cloudy(dataframe) which can be directly obtained\n",
        "#by executing the next cell\n",
        "train_fortnight_bf=veg_indices(cloud_free_train,info)"
      ],
      "execution_count": null,
      "outputs": []
    },
    {
      "cell_type": "code",
      "metadata": {
        "id": "lPcRM01Sh_gS"
      },
      "source": [
        "train1_ft=pd.read_csv('/content/drive/MyDrive/spot_the_crop/train1_ft_safe.csv')\n",
        "train2_ft=pd.read_parquet('/content/drive/MyDrive/spot_the_crop/train2_ft_safe.parquet')\n",
        "train3_ft=pd.read_parquet('/content/drive/MyDrive/spot_the_crop/train3_ft_safe.parquet')\n",
        "train4_ft=pd.read_parquet('/content/drive/MyDrive/spot_the_crop/train4_ft_safe.parquet')\n",
        "\n",
        "#concatenation\n",
        "train_fortnight_bf=pd.concat([train1_ft, train2_ft,train3_ft,train4_ft], ignore_index=True)"
      ],
      "execution_count": 55,
      "outputs": []
    },
    {
      "cell_type": "markdown",
      "metadata": {
        "id": "qrp_U53sk7ra"
      },
      "source": [
        "###########################"
      ]
    },
    {
      "cell_type": "markdown",
      "metadata": {
        "id": "6OQQvgsQkuRq"
      },
      "source": [
        "**compactness feature**"
      ]
    },
    {
      "cell_type": "code",
      "metadata": {
        "id": "iWcFEV4afYUL"
      },
      "source": [
        "import scipy.ndimage as ndi\n",
        "import random\n",
        "def check_circle(image):\n",
        " \n",
        "  \n",
        "  cy,cx=ndi.center_of_mass(image)\n",
        " \n",
        "  a=np.array([cy,cx])\n",
        "  arr=np.array([i for i in range(256)])\n",
        "  max_0=np.argmax(image,axis=0)\n",
        "\n",
        "  y=max_0[max_0>0]\n",
        "  x=arr[max_0>0]\n",
        "  if (len(y)<2):\n",
        "    return 50\n",
        "  distances=[]  \n",
        "  for i in range(0,5):\n",
        "    n = random.randint(0,len(y)-1)\n",
        "    \n",
        "    b=np.array([y[n],x[n]])\n",
        "    distances.append(np.linalg.norm(a-b))\n",
        "\n",
        "  return np.std(distances)\n",
        "def circle_search(data,info,month0=4):\n",
        "  field_ndvi=[]\n",
        "  first=data[data.month==month0]\n",
        "  \n",
        "  \n",
        "  for tile in first.tile_id.unique():\n",
        "\n",
        "    tile_df=first[(first.tile_id==tile) ]\n",
        "      \n",
        "    src_nir=rasterio.open(tile_df[tile_df['asset']=='B08']['file_path'].values[0])\n",
        "      \n",
        "      \n",
        "\n",
        "\n",
        "    tile_fields=rasterio.open(info[(info.tile_id==tile)&(info.asset=='field_ids')]['file_path'].values[0]).read(1)\n",
        "    ids=np.unique(tile_fields.flatten())\n",
        "\n",
        "    for field in ids:\n",
        "      if (field==0):\n",
        "        continue\n",
        "      mask_binary=np.where(tile_fields==field,255,0).reshape(tile_fields.shape)    \n",
        "          \n",
        "      field_ndvi.append((field,check_circle(mask_binary),check_circle(mask_binary[::-1])))\n",
        "\n",
        "        \n",
        "\n",
        "\n",
        "\n",
        "    \n",
        "  train=pd.DataFrame(field_ndvi,columns=['field_id',f'check_circle_top',f'check_circle_down'])\n",
        "    \n",
        "\n",
        "  \n",
        "\n",
        "  return train"
      ],
      "execution_count": 84,
      "outputs": []
    },
    {
      "cell_type": "code",
      "metadata": {
        "id": "L2qHYKHLQJJc"
      },
      "source": [
        "circles_check=circle_search(cloud_free_train1,info)"
      ],
      "execution_count": 85,
      "outputs": []
    },
    {
      "cell_type": "code",
      "metadata": {
        "id": "eSUV-eoYj-76"
      },
      "source": [
        "#add circles_check data\n",
        "train_fortnight_bf=pd.merge(train_fortnight_bf,circles_check,on='field_id',how='left')"
      ],
      "execution_count": 87,
      "outputs": []
    },
    {
      "cell_type": "code",
      "metadata": {
        "id": "DdlqToq4l73d"
      },
      "source": [
        "#add sentinel1 data\n",
        "train_fortnight_bf=pd.merge(train_fortnight_bf,sentinel1_ft,on='field_id',how='left')"
      ],
      "execution_count": 88,
      "outputs": []
    },
    {
      "cell_type": "code",
      "metadata": {
        "id": "uII6hs-BrkxU"
      },
      "source": [
        "train_fortnight_bf.drop('tile_id',axis=1,inplace=True)"
      ],
      "execution_count": 89,
      "outputs": []
    },
    {
      "cell_type": "code",
      "metadata": {
        "id": "zrQI2EMe_fyV"
      },
      "source": [
        "#test_fortnight_bf=pd.read_parquet('/content/drive/MyDrive/spot_the_crop/test_fortnight_ahh.parquet')"
      ],
      "execution_count": null,
      "outputs": []
    },
    {
      "cell_type": "code",
      "metadata": {
        "id": "ZjrEwS-fMNkZ"
      },
      "source": [
        "#labels\n",
        "train_fortnight_bf=pd.merge(train_fortnight_bf,label_df,on='field_id',how='left')"
      ],
      "execution_count": 91,
      "outputs": []
    },
    {
      "cell_type": "code",
      "metadata": {
        "id": "u7IrtQkO5cVf"
      },
      "source": [
        "train_fortnight_bf.to_parquet('/content/drive/MyDrive/spot_the_crop/final_train_processing_XL.parquet')"
      ],
      "execution_count": 94,
      "outputs": []
    }
  ]
}